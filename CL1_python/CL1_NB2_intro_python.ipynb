{
 "cells": [
  {
   "cell_type": "markdown",
   "id": "ef9bc99e",
   "metadata": {
    "toc": true
   },
   "source": [
    "<h1>Table of Contents<span class=\"tocSkip\"></span></h1>\n",
    "<div class=\"toc\"><ul class=\"toc-item\"><li><ul class=\"toc-item\"><li><span><a href=\"#Learning-objectives\" data-toc-modified-id=\"Learning-objectives-0.1\"><span class=\"toc-item-num\">0.1&nbsp;&nbsp;</span>Learning objectives</a></span></li></ul></li><li><span><a href=\"#Assigning-variables-and-data-types\" data-toc-modified-id=\"Assigning-variables-and-data-types-1\"><span class=\"toc-item-num\">1&nbsp;&nbsp;</span>Assigning variables and data types</a></span><ul class=\"toc-item\"><li><span><a href=\"#Assigning-multiple-variables-at-once\" data-toc-modified-id=\"Assigning-multiple-variables-at-once-1.1\"><span class=\"toc-item-num\">1.1&nbsp;&nbsp;</span>Assigning multiple variables at once</a></span></li><li><span><a href=\"#Data-types\" data-toc-modified-id=\"Data-types-1.2\"><span class=\"toc-item-num\">1.2&nbsp;&nbsp;</span>Data types</a></span></li></ul></li><li><span><a href=\"#Lists\" data-toc-modified-id=\"Lists-2\"><span class=\"toc-item-num\">2&nbsp;&nbsp;</span>Lists</a></span></li><li><span><a href=\"#Slices\" data-toc-modified-id=\"Slices-3\"><span class=\"toc-item-num\">3&nbsp;&nbsp;</span>Slices</a></span></li><li><span><a href=\"#Going-further:-list-slicing-like-a-pro\" data-toc-modified-id=\"Going-further:-list-slicing-like-a-pro-4\"><span class=\"toc-item-num\">4&nbsp;&nbsp;</span>Going further: list slicing like a pro</a></span><ul class=\"toc-item\"><li><span><a href=\"#Negative-step-size\" data-toc-modified-id=\"Negative-step-size-4.1\"><span class=\"toc-item-num\">4.1&nbsp;&nbsp;</span>Negative step size</a></span></li></ul></li><li><span><a href=\"#Repeating-an-operation-many-times:-for-loops\" data-toc-modified-id=\"Repeating-an-operation-many-times:-for-loops-5\"><span class=\"toc-item-num\">5&nbsp;&nbsp;</span>Repeating an operation many times: <code>for</code> loops</a></span></li><li><span><a href=\"#Making-choices:-logic-statements\" data-toc-modified-id=\"Making-choices:-logic-statements-6\"><span class=\"toc-item-num\">6&nbsp;&nbsp;</span>Making choices: logic statements</a></span><ul class=\"toc-item\"><li><span><a href=\"#Boolean-logic\" data-toc-modified-id=\"Boolean-logic-6.1\"><span class=\"toc-item-num\">6.1&nbsp;&nbsp;</span>Boolean logic</a></span></li></ul></li><li><span><a href=\"#Functions\" data-toc-modified-id=\"Functions-7\"><span class=\"toc-item-num\">7&nbsp;&nbsp;</span>Functions</a></span><ul class=\"toc-item\"><li><span><a href=\"#Defining-and-running-a-function\" data-toc-modified-id=\"Defining-and-running-a-function-7.1\"><span class=\"toc-item-num\">7.1&nbsp;&nbsp;</span>Defining and running a function</a></span></li><li><span><a href=\"#Calculating-the-average\" data-toc-modified-id=\"Calculating-the-average-7.2\"><span class=\"toc-item-num\">7.2&nbsp;&nbsp;</span>Calculating the average</a></span></li><li><span><a href=\"#Built-in-functions\" data-toc-modified-id=\"Built-in-functions-7.3\"><span class=\"toc-item-num\">7.3&nbsp;&nbsp;</span>Built in functions</a></span><ul class=\"toc-item\"><li><span><a href=\"#Warning-on-built-in-functions\" data-toc-modified-id=\"Warning-on-built-in-functions-7.3.1\"><span class=\"toc-item-num\">7.3.1&nbsp;&nbsp;</span>Warning on built-in functions</a></span></li></ul></li><li><span><a href=\"#Docstrings\" data-toc-modified-id=\"Docstrings-7.4\"><span class=\"toc-item-num\">7.4&nbsp;&nbsp;</span>Docstrings</a></span></li><li><span><a href=\"#Life-Pro-Tip:-checking-docstrings-from-your-notebook\" data-toc-modified-id=\"Life-Pro-Tip:-checking-docstrings-from-your-notebook-7.5\"><span class=\"toc-item-num\">7.5&nbsp;&nbsp;</span>Life Pro Tip: checking docstrings from your notebook</a></span></li></ul></li></ul></div>"
   ]
  },
  {
   "cell_type": "markdown",
   "id": "0e5b3cd4",
   "metadata": {},
   "source": [
    "<div class=\"alert alert-block alert-warning\"><b> Important notes on Colab/Jupyter Notebooks:</b> \n",
    "\n",
    "**Each cell is independent**\n",
    "    \n",
    "When you execute a code cell,  notebook only executes the current code block.  This can have several unintended consequences. If you change a value and then go back and run an earlier code block, it will use the new value, not the first defined value, which may give you incorrect results.  \n",
    "    \n",
    "\n",
    "**Running cells out of order**\n",
    "    \n",
    "If you reopen your notebook later, and try to run a code block in the middle, it may tell you that your variables are undefined, even though you can clearly see them defined in earlier code blocks.  But if you didn't re-run those code blocks, then Python doesn't know they exist. \n",
    "\n",
    "\n",
    "**Everything's in the memory - until you restart the kernel**\n",
    "    \n",
    "When you run a code cell, the corresponding variables are stored in the notebook memory. If you delete the content of a cell after running it, this won't undo the code that was executed. Any variables defined will still be in the memory. To reset the notebook and delete any variables, you need to restart the kernel.\n",
    "\n",
    "</div>"
   ]
  },
  {
   "cell_type": "markdown",
   "id": "e2426bec",
   "metadata": {
    "lines_to_next_cell": 0
   },
   "source": [
    "\n",
    "# Introduction to Python \n",
    "\n",
    "\n",
    "\n",
    "### Learning objectives\n",
    "\n",
    "- Assign values to variables.\n",
    "- Use the print function to check how the code is working.\n",
    "- Use multiple assignment to assign several variables at once.\n",
    "- Use a for loop to perform the same action on the items in a list.\n",
    "- Use the append function to create new lists in for loops.\n",
    "- Define functions to perform one computational task.\n",
    "\n",
    "\n",
    "This material has been adapted from [MolSSI](https://education.molssi.org/python-data-analysis/).\n",
    "\n",
    "\n",
    "Author: \n",
    "\n",
    "*Micaela Matta*"
   ]
  },
  {
   "cell_type": "markdown",
   "id": "4e833a71",
   "metadata": {},
   "source": [
    "## Assigning variables and data types\n",
    "\n",
    "Any python interpreter can work just like a calculator.   Type the following into the next cell of your Jupyter notebook."
   ]
  },
  {
   "cell_type": "code",
   "execution_count": null,
   "id": "3cb71ec8",
   "metadata": {},
   "outputs": [],
   "source": [
    "3 + 70"
   ]
  },
  {
   "cell_type": "markdown",
   "id": "67e6a69c",
   "metadata": {},
   "source": [
    "Here, Python has performed a calculation for us. To save this value, or other values, we assign them to a variable for later use. The syntax for assigning variables is the following:\n",
    "```\n",
    "variable_name = variable_value\n",
    "```\n",
    "\n",
    "Let's see this in action with a calculation. Type the following into the next cell of your Jupyter notebook."
   ]
  },
  {
   "cell_type": "code",
   "execution_count": null,
   "id": "c9fe58a4",
   "metadata": {},
   "outputs": [],
   "source": [
    "deltaH = -541.5    # kJ/mole\n",
    "deltaS =  10.4     # kJ/(mole K)\n",
    "temp = 298         # in Kelvin\n",
    "deltaG = deltaH - temp * deltaS"
   ]
  },
  {
   "cell_type": "markdown",
   "id": "a82d6b23",
   "metadata": {},
   "source": [
    "Notice several things about this code.  The lines that begin with `#` are comment lines.  The computer does not do anything with these comments.  They have been used here to remind the user what units each of their values are in. Comments are also often used to explain what the code is doing or leave information for future people who might use the code.  \n",
    "\n",
    "When choosing variable names, you should choose informative names so that someone reading your code can tell what they represent.  Naming a variable temp or temperature is much more informative than naming that variable t.\n",
    "\n",
    "**NOTE: a variable name cannot begin with a number!**\n",
    "\n",
    "We can now access any of the variables from other cells. Let's print the value that we calculated. In the next cell, we use the `print()` function:"
   ]
  },
  {
   "cell_type": "code",
   "execution_count": null,
   "id": "bf978585",
   "metadata": {},
   "outputs": [],
   "source": []
  },
  {
   "cell_type": "code",
   "execution_count": null,
   "id": "297f2d1d",
   "metadata": {},
   "outputs": [],
   "source": [
    "print(f' the delta G is {deltaG}')"
   ]
  },
  {
   "cell_type": "markdown",
   "id": "ab4a6cdb",
   "metadata": {},
   "source": [
    "In the previous code block, we introduced the `print()` function.  Often, we will use the print function just to make sure our code is working correctly.\n",
    "\n",
    "Note that if you do not specify a new name for a variable, then it doesn't automatically change the value of the variable; this is called being *immutable*.  For example if we typed"
   ]
  },
  {
   "cell_type": "code",
   "execution_count": null,
   "id": "01976bce",
   "metadata": {},
   "outputs": [],
   "source": [
    "print(deltaG)\n",
    "deltaG * 1000\n",
    "print(deltaG)"
   ]
  },
  {
   "cell_type": "markdown",
   "id": "2a7e5618",
   "metadata": {},
   "source": [
    "Nothing happened to the value of `deltaG`.  If we wanted to change the value of `deltaG` we would have to re-save the variable using the same name to overwrite the existing value."
   ]
  },
  {
   "cell_type": "code",
   "execution_count": null,
   "id": "11d07aba",
   "metadata": {},
   "outputs": [],
   "source": [
    "print(deltaG)\n",
    "deltaG = deltaG * 1000\n",
    "print(deltaG)"
   ]
  },
  {
   "cell_type": "markdown",
   "id": "3fe5540b",
   "metadata": {},
   "source": [
    "There are situations where it is reasonable to overwrite a variable with a new value, but you should always think carefully about this.  Usually it is a better practice to give the variable a new name and leave the existing variable as is.  "
   ]
  },
  {
   "cell_type": "code",
   "execution_count": null,
   "id": "519e6523",
   "metadata": {},
   "outputs": [],
   "source": [
    "print(deltaG)\n",
    "deltaG_joules = deltaG * 1000\n",
    "print(deltaG)\n",
    "print(deltaG_joules)"
   ]
  },
  {
   "cell_type": "markdown",
   "id": "7666956c",
   "metadata": {},
   "source": [
    "### Assigning multiple variables at once\n",
    "\n",
    "Python can do what is called multiple assignment where you assign several variables their values on one line of code.  The following code block does the exact same thing as the previous code block."
   ]
  },
  {
   "cell_type": "code",
   "execution_count": null,
   "id": "713b60c3",
   "metadata": {},
   "outputs": [],
   "source": [
    "#I can assign all these variables at once\n",
    "deltaH, deltaS, temp = -541.5, 10.4, 298\n",
    "deltaG = deltaH - temp * deltaS\n",
    "print(deltaG)"
   ]
  },
  {
   "cell_type": "markdown",
   "id": "5cf903cb",
   "metadata": {},
   "source": [
    "<div class=\"alert alert-block alert-success\"><b> Task 1: </b> \n",
    "\n",
    "Which following line(s) of code attempt(s) an invalid assignment operation?  Copy each line of code below to a new cell to test it.\n",
    "    \n",
    "```\n",
    "xyz = 100020003000 \n",
    "x,y,z = 1000, 2000, 3000\n",
    "x,y,z = 1000 2000 3000 \n",
    "1x1y1z = 1000, 2000, 3000\n",
    "x,y,z = [1000, 2000, 3000]\n",
    "xyz = [10002000,3000]\n",
    "```"
   ]
  },
  {
   "cell_type": "code",
   "execution_count": null,
   "id": "d1c91953",
   "metadata": {},
   "outputs": [],
   "source": []
  },
  {
   "cell_type": "markdown",
   "id": "c1c2f639",
   "metadata": {},
   "source": [
    "### Data types\n",
    "\n",
    "\n",
    "Each variable is some particular type of data.  The most common types of data are strings (`str`), integers (`int`), and floating point numbers (`float`).  You can identify the data type of any variable with the function `type(variable_name)`."
   ]
  },
  {
   "cell_type": "code",
   "execution_count": null,
   "id": "2df4d1a0",
   "metadata": {},
   "outputs": [],
   "source": [
    "type(deltaG)"
   ]
  },
  {
   "cell_type": "code",
   "execution_count": null,
   "id": "a6ab1047",
   "metadata": {},
   "outputs": [],
   "source": [
    "greetings = 'hello world!'\n",
    "print(greetings)"
   ]
  },
  {
   "cell_type": "markdown",
   "id": "08c20ce1",
   "metadata": {},
   "source": [
    "You can change the data type of a variable like this.  This is called casting."
   ]
  },
  {
   "cell_type": "code",
   "execution_count": null,
   "id": "2091d08f",
   "metadata": {},
   "outputs": [],
   "source": [
    "deltaG_string = str(deltaG)\n",
    "type(deltaG_string)"
   ]
  },
  {
   "cell_type": "markdown",
   "id": "0393b1f2",
   "metadata": {},
   "source": [
    "## Lists\n",
    "\n",
    "A common data structure in python is the list. \n",
    "- Lists can be used to group several values or variables together, and are declared using square brackets `[ ]`. \n",
    "- List values are separated by commas. Python has several built in functions which can be used on lists. \n",
    "- The built-in function `len` can be used to determine the length of a list. \n"
   ]
  },
  {
   "cell_type": "code",
   "execution_count": null,
   "id": "c3ffdfc3",
   "metadata": {},
   "outputs": [],
   "source": [
    "# This is a list\n",
    "energy_kcal = [-13.4, -2.7, 5.4, 42.1, 34.5, -8.6, 11.9]\n",
    "# I can determine its length\n",
    "energy_length = len(energy_kcal)"
   ]
  },
  {
   "cell_type": "code",
   "execution_count": null,
   "id": "6fb333d6",
   "metadata": {},
   "outputs": [],
   "source": [
    "# print the list length\n",
    "print('The length of this list is', energy_length)"
   ]
  },
  {
   "cell_type": "markdown",
   "id": "097d1462",
   "metadata": {},
   "source": [
    "Note the different printing syntax with respect to the previous case!"
   ]
  },
  {
   "cell_type": "markdown",
   "id": "27837df4",
   "metadata": {},
   "source": [
    "If I want to operate on a particular element of the list, you use the list name and then put in brackets which element of the list you want.  \n",
    "<div class=\"alert alert-block alert-info\">\n",
    "    <b>Key point:</b> \n",
    "\n",
    "    \n",
    "In python counting starts at zero: the first element of the list is `list[0]`"
   ]
  },
  {
   "cell_type": "code",
   "execution_count": null,
   "id": "b6b4659c",
   "metadata": {
    "scrolled": true
   },
   "outputs": [],
   "source": [
    "# Print the first element of the list\n",
    "print(energy_kcal[0])"
   ]
  },
  {
   "cell_type": "markdown",
   "id": "8caa4ad1",
   "metadata": {},
   "source": [
    "How do we print the **last** element of a list?"
   ]
  },
  {
   "cell_type": "code",
   "execution_count": null,
   "id": "a738b433",
   "metadata": {
    "scrolled": true
   },
   "outputs": [],
   "source": [
    "energy_kcal[-1]"
   ]
  },
  {
   "cell_type": "markdown",
   "id": "6e3c0dce",
   "metadata": {},
   "source": [
    "We can mix different data types in the same list:"
   ]
  },
  {
   "cell_type": "code",
   "execution_count": null,
   "id": "20bcb64b",
   "metadata": {},
   "outputs": [],
   "source": [
    "energy_kcal.append('hello') "
   ]
  },
  {
   "cell_type": "code",
   "execution_count": null,
   "id": "5ae30d43",
   "metadata": {},
   "outputs": [],
   "source": [
    "energy_kcal"
   ]
  },
  {
   "cell_type": "code",
   "execution_count": null,
   "id": "b69ee830",
   "metadata": {},
   "outputs": [],
   "source": [
    "energy_kcal.append(int(1))"
   ]
  },
  {
   "cell_type": "code",
   "execution_count": null,
   "id": "83a18488",
   "metadata": {},
   "outputs": [],
   "source": [
    "energy_kcal"
   ]
  },
  {
   "cell_type": "markdown",
   "id": "e150f745",
   "metadata": {},
   "source": [
    "We can remove and return an item by using the built in function `pop` on our list:"
   ]
  },
  {
   "cell_type": "code",
   "execution_count": null,
   "id": "5b5bad83",
   "metadata": {},
   "outputs": [],
   "source": [
    "energy_kcal.pop(-1) # return and remove the last item"
   ]
  },
  {
   "cell_type": "code",
   "execution_count": null,
   "id": "d6dd11b7",
   "metadata": {},
   "outputs": [],
   "source": [
    "energy_kcal"
   ]
  },
  {
   "cell_type": "markdown",
   "id": "32ec54af",
   "metadata": {},
   "source": [
    "You can use an element of a list as a variable in a calculation. Here's an example:"
   ]
  },
  {
   "cell_type": "code",
   "execution_count": null,
   "id": "3fe8be0d",
   "metadata": {},
   "outputs": [],
   "source": [
    "# Convert the second list element to kilojoules.\n",
    "energy_kilojoules = energy_kcal[1] * 4.184\n",
    "print(energy_kilojoules)"
   ]
  },
  {
   "cell_type": "markdown",
   "id": "fb5149cb",
   "metadata": {},
   "source": [
    "<div class=\"alert alert-block alert-success\"><b> Check your Understanding </b> \n",
    "\n",
    "\n",
    "- Print the second-to-last (penultimate) element of the list `energy_kcal` (hint: do you remember how to print the last element?)\n",
    "- Create a list called `energy_kilojoules` with the first 3 elements of `energy_kcal` converted to kilojoules\n",
    "- Print the third element of the list  `energy_kilojoules` \n",
    "- Multiply the second element of `energy_kilojoules` by the first element\n"
   ]
  },
  {
   "cell_type": "code",
   "execution_count": null,
   "id": "b17855a4",
   "metadata": {},
   "outputs": [],
   "source": []
  },
  {
   "cell_type": "markdown",
   "id": "4fc9e21d",
   "metadata": {},
   "source": [
    "## Slices\n",
    "Sometimes you will want to make a new list that is a subset of an existing list.  For example, we might want to make a new list that is just the first few elements of our previous list.  This is called a `slice`.  The general syntax is\n",
    "\n",
    "``` new_list = list_name[start:stop] ```"
   ]
  },
  {
   "cell_type": "markdown",
   "id": "ac9b5088",
   "metadata": {},
   "source": [
    "When taking a slice, it is very important to remember how counting works in python.  Remember that counting starts at zero so the first element of a list is `list_name[0]`.  When you specify the last element for the slice, it goes *up to but not including* that element of the list.  So a slice like"
   ]
  },
  {
   "cell_type": "code",
   "execution_count": null,
   "id": "c5472045",
   "metadata": {},
   "outputs": [],
   "source": [
    "short_list = energy_kcal[0:2]"
   ]
  },
  {
   "cell_type": "code",
   "execution_count": null,
   "id": "e3a65edc",
   "metadata": {},
   "outputs": [],
   "source": [
    "short_list"
   ]
  },
  {
   "cell_type": "markdown",
   "id": "1b5f698a",
   "metadata": {},
   "source": [
    "the new list includes `energy_kcal[0]` and `energy_kcal[1]` but *not* `energy_kcal[2]`."
   ]
  },
  {
   "cell_type": "markdown",
   "id": "3ad2ad8e",
   "metadata": {},
   "source": [
    "If you do not include a start index, the slice automatically starts at `list_name[0]`.  If you do not include an end index, the slice automatically goes to the end of the list.  "
   ]
  },
  {
   "cell_type": "markdown",
   "id": "a4798d41",
   "metadata": {},
   "source": [
    "<div class=\"alert alert-block alert-success\"><b> Check your Understanding </b> \n",
    "\n",
    "What does the following code print? Copy the lines below in a new cell and check.\n",
    "\n",
    "```\n",
    "slice1 = energy_kcal[1:]\n",
    "slice2 = energy_kcal[:3]\n",
    "print('slice1 is', slice1)\n",
    "print('slice2 is', slice2)\n",
    "```"
   ]
  },
  {
   "cell_type": "code",
   "execution_count": null,
   "id": "d79506b1",
   "metadata": {},
   "outputs": [],
   "source": []
  },
  {
   "cell_type": "markdown",
   "id": "3b5be322",
   "metadata": {},
   "source": [
    "Remember: if you don't specify a new variable name nothing happens. Looking at our example above if we only type:"
   ]
  },
  {
   "cell_type": "code",
   "execution_count": null,
   "id": "2b1eb0fd",
   "metadata": {},
   "outputs": [],
   "source": [
    "print(energy_kcal)\n",
    "energy_kcal[0:2]\n",
    "print(energy_kcal)"
   ]
  },
  {
   "cell_type": "markdown",
   "id": "71e99b43",
   "metadata": {},
   "source": [
    "nothing happens to `energy_kcal`."
   ]
  },
  {
   "cell_type": "markdown",
   "id": "72a888ef",
   "metadata": {},
   "source": [
    "## Going further: list slicing like a pro\n",
    "\n",
    "Besides the `start` and `stop`, we can also specify an increment, or `step`:\n",
    "\n",
    "```\n",
    "list_of_items[start:stop::step]\n",
    "\n",
    "```"
   ]
  },
  {
   "cell_type": "markdown",
   "id": "b461d69d",
   "metadata": {},
   "source": [
    "What if we wanted to select every *n*th item in `energy_kcal`?"
   ]
  },
  {
   "cell_type": "code",
   "execution_count": null,
   "id": "89774409",
   "metadata": {},
   "outputs": [],
   "source": [
    "energy_kcal[::2] # every 2nd item starting from the first, energy_kcal[0]"
   ]
  },
  {
   "cell_type": "code",
   "execution_count": null,
   "id": "82a62581",
   "metadata": {},
   "outputs": [],
   "source": [
    "energy_kcal[1::2] # every 2nd item starting from the second, energy_kcal[1]"
   ]
  },
  {
   "cell_type": "markdown",
   "id": "fa85692f",
   "metadata": {},
   "source": [
    "### Negative step size\n",
    "\n",
    "It is also possible to specify a negative step size."
   ]
  },
  {
   "cell_type": "code",
   "execution_count": null,
   "id": "0c9b1c0e",
   "metadata": {},
   "outputs": [],
   "source": []
  },
  {
   "cell_type": "code",
   "execution_count": null,
   "id": "c9718852",
   "metadata": {},
   "outputs": [],
   "source": [
    "energy_kcal[::-2]"
   ]
  },
  {
   "cell_type": "code",
   "execution_count": null,
   "id": "0396b83f",
   "metadata": {},
   "outputs": [],
   "source": []
  },
  {
   "cell_type": "markdown",
   "id": "9e22b184",
   "metadata": {},
   "source": [
    "How about reversing the order of a list?"
   ]
  },
  {
   "cell_type": "code",
   "execution_count": null,
   "id": "2d46bfd7",
   "metadata": {},
   "outputs": [],
   "source": [
    "energy_kcal[::-1] # all items in reverse order"
   ]
  },
  {
   "cell_type": "markdown",
   "id": "e2776d9f",
   "metadata": {},
   "source": [
    "<div class=\"alert alert-block alert-success\"><b> Check your understanding: </b> \n",
    "    \n",
    "Consider the list `L = ['a', 'b', 'c', 'd', 'e', 'f', 'g', 'h', 'i']`.\n",
    "- What will `L[2:7:2]` print?\n",
    "- What will `L[6:1:-2]` print?\n"
   ]
  },
  {
   "cell_type": "code",
   "execution_count": null,
   "id": "78439969",
   "metadata": {},
   "outputs": [],
   "source": []
  },
  {
   "cell_type": "markdown",
   "id": "86276dee",
   "metadata": {},
   "source": [
    "<div class=\"alert alert-block alert-success\"><b> Task 2: </b> \n",
    "\n",
    "On KEATS, answer a series of True/False questions about lists.\n"
   ]
  },
  {
   "cell_type": "markdown",
   "id": "a8a7fa2c",
   "metadata": {},
   "source": [
    "## Repeating an operation many times: `for` loops\n",
    "Often, you will want to do something to every element of a list.  The structure\n",
    "to do this is called a `for` loop.  The general structure of a `for` loop is\n",
    "```\n",
    "for variable in list:\n",
    "    do things using variable\n",
    "```\n",
    "\n",
    "\n",
    "There are two very important pieces of syntax for the `for` loop. Notice the colon `:` after the word list. You will always have a colon at the end of a `for` statement. If you forget the colon, you will get an error when you try to run your code.\n",
    "\n",
    "The second thing to notice is that the lines of code under the `for` loop (the things you want to do several times) are indented. \n",
    "\n",
    "<div class=\"alert alert-block alert-info\">\n",
    "    <b>Key points:</b> \n",
    "\n",
    "**Indentation is very important in python: it shows you what statements are in the loop.** There is nothing like an `end` or `exit` statement that tells you that you are finished with the loop. \n",
    "    \n",
    "**Each indentation is 4 spaces by convention in Python 3.** However, if you are using an editor which understands Python, it will do the correct indentation for you when you press the tab key on your keyboard. In fact, the Jupyter notebook will notice that you used a colon (`:`) in the previous line, and will indent for you (so you will not need to press tab). \n",
    "    \n",
    "**NOTE: If you copy paste code from online sources you might end up with different conventions for indentation, or tabs instead of spaces.**"
   ]
  },
  {
   "cell_type": "markdown",
   "id": "ec31f14b",
   "metadata": {},
   "source": [
    "<img src=\"https://i.redd.it/m6rxf220u3n31.png\">"
   ]
  },
  {
   "cell_type": "markdown",
   "id": "36b4f7f5",
   "metadata": {},
   "source": [
    "Let's use a loop to change all of our energies in kcal to kJ:"
   ]
  },
  {
   "cell_type": "code",
   "execution_count": null,
   "id": "e40264ab",
   "metadata": {},
   "outputs": [],
   "source": [
    "for number in energy_kcal:\n",
    "    kJ = number * 4.184\n",
    "    print(kJ)\n",
    "    "
   ]
  },
  {
   "cell_type": "markdown",
   "id": "de2726ab",
   "metadata": {},
   "source": [
    "Now it seems like we are really getting somewhere with our program!  But it would be even better if instead of just printing the values, it saved them in a new list.  To do this, we are going to use the `append` function.  The `append` function adds a new item to the end of an existing list.  The general form of the append function is\n",
    "```\n",
    "list_name.append(new_thing)\n",
    "```"
   ]
  },
  {
   "cell_type": "markdown",
   "id": "dd7b9019",
   "metadata": {},
   "source": [
    "Try running this block of code.  See if you can figure out why it doesn't work."
   ]
  },
  {
   "cell_type": "code",
   "execution_count": null,
   "id": "efa317a2",
   "metadata": {},
   "outputs": [],
   "source": [
    "for number in energy_kcal:\n",
    "    kJ = number * 4.184\n",
    "    energy_kJ.append(kJ)\n",
    "\n",
    "print(energy_kJ)"
   ]
  },
  {
   "cell_type": "code",
   "execution_count": null,
   "id": "3b58c160",
   "metadata": {},
   "outputs": [],
   "source": [
    "energy_kJ"
   ]
  },
  {
   "cell_type": "markdown",
   "id": "f66c8315",
   "metadata": {},
   "source": [
    "This code doesn't work because on the first iteration of our loop, the list `energy_kJ` doesn't exist.  To make it work, we have to declare the list outside of the loop.  The list can be blank when we start it, but we have to define it."
   ]
  },
  {
   "cell_type": "code",
   "execution_count": null,
   "id": "ecbc0e70",
   "metadata": {},
   "outputs": [],
   "source": [
    "energy_kJ = []\n",
    "for number in energy_kcal:\n",
    "    kJ = number * 4.184\n",
    "    energy_kJ.append(kJ)\n",
    "\n",
    "print(energy_kJ)"
   ]
  },
  {
   "cell_type": "markdown",
   "id": "b28df655",
   "metadata": {},
   "source": [
    "<div class=\"alert alert-block alert-success\"><b> Check your Understanding </b> \n",
    "\n",
    "Modify the code in the cell above: what happens if you declare the list `energy_kJ` *inside the loop*? What is the final result when you print it? "
   ]
  },
  {
   "cell_type": "code",
   "execution_count": null,
   "id": "58608736",
   "metadata": {},
   "outputs": [],
   "source": []
  },
  {
   "cell_type": "markdown",
   "id": "b1ee5ed8",
   "metadata": {},
   "source": [
    "## Making choices: logic statements\n",
    "\n",
    "Within your code, you may need to evaluate a variable and then do something if the variable has a particular value.  This type of logic is handled by an `if` statement.  In the following example, we only append the negative numbers to a new list.  "
   ]
  },
  {
   "cell_type": "code",
   "execution_count": null,
   "id": "dc7e9ef1",
   "metadata": {},
   "outputs": [],
   "source": [
    "negative_energy_kJ = []\n",
    "\n",
    "for number in energy_kJ:\n",
    "    if number < 0:\n",
    "        negative_energy_kJ.append(number)\n",
    "\n",
    "print(negative_energy_kJ)"
   ]
  },
  {
   "cell_type": "markdown",
   "id": "2eeff3d4",
   "metadata": {},
   "source": [
    "Other logic operations include:\n",
    "- equal to `==`\n",
    "- not equal to `!=`\n",
    "- greater than `>`\n",
    "- less than `<`\n",
    "- greater than or equal to `>=`\n",
    "- less than or equal to `<=`\n",
    "\n",
    "You can also use `and`, `or`, and `not` to check more than one condition."
   ]
  },
  {
   "cell_type": "code",
   "execution_count": null,
   "id": "84ca6b32",
   "metadata": {},
   "outputs": [],
   "source": [
    "negative_numbers = []\n",
    "for number in energy_kJ:\n",
    "    if number < 0 or number == 0:\n",
    "        negative_numbers.append(number)\n",
    "\n",
    "print(negative_numbers)"
   ]
  },
  {
   "cell_type": "markdown",
   "id": "60c73119",
   "metadata": {},
   "source": [
    "### Boolean logic\n",
    "\n",
    "\n",
    "The table below summarises the outcome when comparing variables using `not`, `and`, `or`:"
   ]
  },
  {
   "cell_type": "markdown",
   "id": "0aeba82d",
   "metadata": {},
   "source": [
    "\n",
    "\n",
    "| **Keyword** \t| **Input 1** \t| **Input 2** \t| **Result** \t|\n",
    "|-------------\t|-------------\t|-------------\t|------------\t|\n",
    "| NOT         \t| True        \t|   -          \t| False      \t|\n",
    "| NOT         \t| False       \t|   -         \t| True       \t|\n",
    "| AND        \t| True        \t| True        \t| True       \t|\n",
    "| AND         \t| True        \t| False       \t| False      \t|\n",
    "| AND        \t| False       \t| False       \t| False      \t|\n",
    "| OR          \t| True        \t| True        \t| True       \t|\n",
    "| OR          \t| True        \t| False       \t| True       \t|\n",
    "| OR          \t| False       \t| False       \t| False      \t|\n"
   ]
  },
  {
   "cell_type": "markdown",
   "id": "c92f830b",
   "metadata": {},
   "source": [
    "<div class=\"alert alert-block alert-success\"><b> Check your understanding </b>\n",
    "    \n",
    "You have a list of coin flip outcomes: `coin_flips = ['H', 'T', 'T', 'H', 'H', 'T', 'T','H', 'H', 'H', 'T']`.\n",
    "    \n",
    "Write a loop that goes over each element of the list, checks if an element is head or tail, and keeps track of the total number of heads and tails in the list."
   ]
  },
  {
   "cell_type": "code",
   "execution_count": null,
   "id": "269f3cc7",
   "metadata": {},
   "outputs": [],
   "source": []
  },
  {
   "cell_type": "code",
   "execution_count": null,
   "id": "bb8b2e9c",
   "metadata": {},
   "outputs": [],
   "source": []
  },
  {
   "cell_type": "code",
   "execution_count": null,
   "id": "c5448727",
   "metadata": {},
   "outputs": [],
   "source": []
  },
  {
   "cell_type": "markdown",
   "id": "21c68aef",
   "metadata": {},
   "source": [
    "<div class=\"alert alert-block alert-success\"><b>Task 3: </b>\n",
    "\n",
    "    \n",
    "The following list contains some floating point numbers and some numbers which  have been saved as strings.  Copy this list exactly into your code:\n",
    "\n",
    "```data_list = ['-12.5', 14.4, 8.1, '42']```\n",
    "    \n",
    "    \n",
    "Set up a `for` loop to go over each element of `data_list`.  If the element is a string (`str`), recast it as a float.  Save *all* of the numbers to a new list called `number_list`.  Pay close attention to your indentation!</div>"
   ]
  },
  {
   "cell_type": "markdown",
   "id": "909934e8",
   "metadata": {},
   "source": [
    "## Functions\n",
    "\n",
    "Most code is organized into blocks of code which perform a particular task.  These code blocks are called *functions*.  A commercial software package likely has hundreds of thousands or millions of functions. Functions break up our code into smaller, more easily understandable statements, and also allow our code to be more *modular*, meaning we can take pieces and reuse them. \n",
    "\n",
    "<div class=\"alert alert-block alert-info\">\n",
    "    <b>Key point:</b>\n",
    "    \n",
    "In general, each function should perform only one computational task.\n"
   ]
  },
  {
   "cell_type": "markdown",
   "id": "97ce91eb",
   "metadata": {},
   "source": [
    "\n",
    "### Defining and running a function\n",
    "\n",
    "In Python, the following syntax is used to declare a function:\n",
    "\n",
    "```\n",
    "def function_name(parameters):\n",
    "    ** function body code **\n",
    "    return value_to_return\n",
    "```\n",
    "- Functions are defined using the `def` keyword, followed by the name of the function. \n",
    "- The function may have parameters which are passed to it, which are in parenthesis following the function name. A function can have no parameters as well.  \n",
    "- Most (though not all) functions return some type of information.  \n",
    "- It is important to note here that defining a function does not execute it.  "
   ]
  },
  {
   "cell_type": "markdown",
   "id": "8d9fc896",
   "metadata": {},
   "source": [
    "### Calculating the average\n",
    "\n",
    "Let's define a function to calculate the average of a list:"
   ]
  },
  {
   "cell_type": "code",
   "execution_count": null,
   "id": "5915d95f",
   "metadata": {},
   "outputs": [],
   "source": [
    "def average(number_list):\n",
    "    return sum(number_list) / len(number_list)"
   ]
  },
  {
   "cell_type": "markdown",
   "id": "5769a93a",
   "metadata": {},
   "source": [
    " and then use it to calculate the average energy of our list in  `energy_kcal`:"
   ]
  },
  {
   "cell_type": "code",
   "execution_count": null,
   "id": "0fa2527e",
   "metadata": {},
   "outputs": [],
   "source": [
    "average(energy_kcal)"
   ]
  },
  {
   "cell_type": "markdown",
   "id": "260b4fd5",
   "metadata": {},
   "source": [
    "### Built in functions\n",
    "\n",
    "Our average function uses 2 built-in python functions, `sum` and `len`. We have seen `len` earlier in this notebook; `sum` is very handy to calculate the total sum of the elements of a list.\n",
    "\n",
    "Python has a number of built-in functions; [a full list is available here](https://docs.python.org/3/library/functions.html).\n",
    "\n",
    "#### Warning on built-in functions\n",
    "\n",
    "If you define a variable or function with the same name as a built-in function, you will lose access to the built-in function! If this happens, restart the kernel."
   ]
  },
  {
   "cell_type": "markdown",
   "id": "52540216",
   "metadata": {},
   "source": [
    "### Docstrings\n",
    "\n",
    "the function we just defined is very simple. However, in order to create readable and easy to understand code, it is always a good idea to include a *docstring*, that is, a short explanation of what the function does.\n",
    "\n",
    "For instance, if we return to the function `average` defined above, a docstring could read something like:\n"
   ]
  },
  {
   "cell_type": "code",
   "execution_count": null,
   "id": "e91b8980",
   "metadata": {},
   "outputs": [],
   "source": [
    "def average(number_list):\n",
    "    \"\"\"\n",
    "    takes a list of floats as input, \n",
    "    returns the arithmetic average\n",
    "    \"\"\"\n",
    "    return sum(number_list) / len(number_list)"
   ]
  },
  {
   "cell_type": "markdown",
   "id": "df9ec682",
   "metadata": {},
   "source": [
    "### Life Pro Tip: checking docstrings from your notebook\n",
    "\n",
    "What if you have forgotten how to use a built-in function and need a quick reminder? Simply type the name of the function followed by `?` to retrieve the docstring."
   ]
  },
  {
   "cell_type": "code",
   "execution_count": null,
   "id": "88361990",
   "metadata": {},
   "outputs": [],
   "source": [
    "sum?"
   ]
  },
  {
   "cell_type": "code",
   "execution_count": null,
   "id": "fc1507a9",
   "metadata": {},
   "outputs": [],
   "source": [
    "str?"
   ]
  },
  {
   "cell_type": "markdown",
   "id": "4f10030a",
   "metadata": {},
   "source": [
    "This is also true for any functions we defined in our notebook! Let's try and retrieve the docstring for the `average` function we just wrote:"
   ]
  },
  {
   "cell_type": "code",
   "execution_count": null,
   "id": "45e6af65",
   "metadata": {},
   "outputs": [],
   "source": [
    "average?"
   ]
  },
  {
   "cell_type": "code",
   "execution_count": null,
   "id": "5ae39108",
   "metadata": {},
   "outputs": [],
   "source": []
  },
  {
   "cell_type": "markdown",
   "id": "1daf0cbd",
   "metadata": {},
   "source": [
    "<div class=\"alert alert-block alert-success\"><b>Task 4: </b>\n",
    "    \n",
    "Write a function that takes a list of data, recasts any strings as floats, and returns any negative numbers in a list:\n",
    "\n",
    "    \n",
    "    data_list = ['-12.5', 14.4, 8.1, '42']\n",
    "    negative_data = return_negative(data_list)\n",
    "    print(negative_data)  \n",
    "    > [-12.5]"
   ]
  },
  {
   "cell_type": "code",
   "execution_count": null,
   "id": "4e804056",
   "metadata": {},
   "outputs": [],
   "source": []
  },
  {
   "cell_type": "code",
   "execution_count": null,
   "id": "e84b9561",
   "metadata": {},
   "outputs": [],
   "source": []
  },
  {
   "cell_type": "markdown",
   "id": "703fb32a",
   "metadata": {},
   "source": [
    "<div class=\"alert alert-block alert-info\">\n",
    "    <b>Key points:</b> \n",
    "    \n",
    "- You can assign the values of several variables at once.\n",
    "- Indentation is very important in `for` loops and `if` statements.  \n",
    "- Don't forget the `:` and to indent the items in the loop. \n",
    "- If a function returns True or False, you can use it in an `if` statement as a condition.\n",
    "- Functions make your code easier to read, more reuseable, more portable, and easier to test.\n",
    "- When in doubt, check the docstring!\n",
    "    \n",
    "    \n",
    "**Remember:**\n",
    "    \n",
    "Python is a programming language: just like any foreign language, you need to practice to get better:)\n",
    "\n",
    "\n",
    "    \n",
    "**Ahead of next week:**\n",
    "    \n",
    "- Check out the additional notebook on how to interpret python error messages `CL1_NB3_errors.ipynb`\n",
    "\n",
    "- Revise this notebook ahead of the next lab: each tutorial builds on top of the previous ones, with increasing difficulty. It's vital that you attempt the exercises and engage with the content each week.\n",
    "    \n",
    " </div>"
   ]
  },
  {
   "cell_type": "markdown",
   "id": "dfcbbd08",
   "metadata": {},
   "source": [
    "<img src=\"https://i.ytimg.com/vi/P4LhWSN3YSw/maxresdefault.jpg\" width=600>"
   ]
  },
  {
   "cell_type": "code",
   "execution_count": null,
   "id": "3a762b87",
   "metadata": {},
   "outputs": [],
   "source": []
  }
 ],
 "metadata": {
  "hide_input": false,
  "jupytext": {
   "cell_metadata_filter": "-all",
   "main_language": "python",
   "notebook_metadata_filter": "-all"
  },
  "kernelspec": {
   "display_name": "Python 3 (ipykernel)",
   "language": "python",
   "name": "python3"
  },
  "language_info": {
   "codemirror_mode": {
    "name": "ipython",
    "version": 3
   },
   "file_extension": ".py",
   "mimetype": "text/x-python",
   "name": "python",
   "nbconvert_exporter": "python",
   "pygments_lexer": "ipython3",
   "version": "3.10.8"
  },
  "toc": {
   "base_numbering": 1,
   "nav_menu": {},
   "number_sections": true,
   "sideBar": true,
   "skip_h1_title": true,
   "title_cell": "Table of Contents",
   "title_sidebar": "Contents",
   "toc_cell": true,
   "toc_position": {
    "height": "calc(100% - 180px)",
    "left": "10px",
    "top": "150px",
    "width": "267px"
   },
   "toc_section_display": true,
   "toc_window_display": false
  }
 },
 "nbformat": 4,
 "nbformat_minor": 5
}
