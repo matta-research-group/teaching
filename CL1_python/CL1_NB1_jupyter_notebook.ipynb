{
 "cells": [
  {
   "cell_type": "markdown",
   "id": "7623c37f",
   "metadata": {
    "lines_to_next_cell": 0
   },
   "source": [
    "# Jupyter Notebooks\n",
    "\n",
    "\n",
    "\n",
    "## Objectives:\n",
    "\n",
    "- Start a Jupyter notebook from the terminal or from Google Colab.\n",
    "- Use a Jupyter notebook to run Python code."
   ]
  },
  {
   "cell_type": "markdown",
   "id": "c3506eac",
   "metadata": {
    "lines_to_next_cell": 0
   },
   "source": [
    "This material has been adapted from [MolSSI](https://education.molssi.org/python-data-analysis/) and [Google Colab](https://colab.research.google.com/notebooks/intro.ipynb#scrollTo=GJBs_flRovLc).\n",
    "\n",
    "Authors: \n",
    "\n",
    "- Dr Micaela Matta\n",
    "- Dr Vivien Walter"
   ]
  },
  {
   "cell_type": "markdown",
   "id": "cb54af1c",
   "metadata": {
    "lines_to_next_cell": 0
   },
   "source": [
    "<div class=\"alert alert-block alert-info\">\n",
    "    <b>Key points:</b> \n",
    "\n",
    "- A Jupyter notebook is a python interpreter that lets you combine text, code, and images in one file.\n",
    "- Jupyter notebooks can be also opened and hosted on Google Colab.\n",
    "    \n",
    "</div> "
   ]
  },
  {
   "cell_type": "markdown",
   "id": "d1520eff",
   "metadata": {},
   "source": [
    "## Jupyter Notebooks\n",
    "\n",
    "If you plan to write code in Python or use Python-based software, you need to use some type of python interpreter.  One option is to use a *Jupyter notebook*.  A Jupyter notebook is a python interpreter that lets you combine text, code, and images all in one file.  \n",
    "\n",
    "To start a Jupyter notebook, in the Terminal window, type\n",
    "```\n",
    " jupyter notebook\n",
    "```\n",
    "It may take a few seconds to load the page, especially if it is the first time you have ever used the Jupyter notebook, so don't panic if nothing loads for a few seconds.  Then a new window should open in your default internet browser. In the upper right hand corner, click New, then choose Python 3 from the dropdown list (shown below) and this will start a new Jupyter notebook using Python 3.\n",
    "\n",
    "[Using Jupyter notebooks](https://www.codecademy.com/articles/how-to-use-jupyter-notebooks)\n",
    "\n"
   ]
  },
  {
   "cell_type": "markdown",
   "id": "ed2bf085",
   "metadata": {},
   "source": [
    "## Google Colab\n",
    "\n",
    "Unless you have installed Jupyter notebook on your laptop, you're most likely reading this notebook from Google Colab on your browser. Colab notebooks are Jupyter notebooks that are hosted by Colab. \n",
    "\n",
    "\n",
    "Just like Jupyter notebooks, Colab notebooks allow you to combine executable code and rich text in a single document, along with images, HTML and more. When you create your own Colab notebooks, they are stored in your Google Drive account. To learn more, see [Overview of Colab](https://colab.research.google.com/notebooks/basic_features_overview.ipynb).\n",
    "\n",
    "To create a new Colab notebook you can use the File menu above, or use the following link: [create a new Colab notebook](http://colab.research.google.com/#create=true).\n"
   ]
  },
  {
   "cell_type": "markdown",
   "id": "d72a2db3",
   "metadata": {},
   "source": [
    "## Getting Started\n",
    "\n",
    "\n",
    "Python is a computer programming language that has become ubiquitous in scientific programming.  Our initial lessons will run python *interactively* through a python interpreter. \n",
    "\n",
    "Everything included in a code block is something you could type into your python interpreter and evaluate.\n",
    "\n",
    "### Navigating Jupyter notebooks\n",
    "\n",
    "We will use the notebook to execute Python code. Jupyter notebooks are divided into cells. You run a Jupyter notebook one cell at a time. To execute a cell, click inside the cell and press `shift+enter`.\n",
    "\n",
    "In the upper left corner, click where it says \"Untitled\" and change the name to \"MolSSI Workshop\". We have now changed the name of the Jupyter Notebook.\n",
    "\n",
    "Jupyter notebooks allow us to also use something called **Markdown** in some cells. We can use Markdown to write descriptions about our notebooks for others to read. It's a good practice to have your first cell be markdown to explain the purpose of the notebook. Let's do that in our first cell. Click inside the first cell, then on the top of the screen select `Cell->Cell Type->Markdown` (shown below).\n",
    "\n",
    "<img src=\"https://raw.githubusercontent.com/MolSSI-Education/python_scripting_cms/gh-pages/fig/lesson01_fig1.png\">\n",
    "\n",
    "\n",
    "Now, return to the cell and type the following:\n",
    "\n",
    "~~~\n",
    "# Computer Lab 1\n",
    "## Intro to Python\n",
    "\n",
    "This lesson covers Python basics like variable creation and assignment and using the Jupyter notebook.\n",
    "~~~\n",
    "\n",
    "\n",
    "In Markdown, we create headers using a single `#` sign. Using two (`##`) creates a subheader. After typing this into a cell, press `shift+enter` to evaluate. \n",
    "\n",
    "Now your notebook should look something like this:\n",
    "\n",
    "<img src=\"https://raw.githubusercontent.com/MolSSI-Education/python_scripting_cms/gh-pages/fig/lesson01_fig2.png\">\n"
   ]
  },
  {
   "cell_type": "markdown",
   "id": "1d6210e5",
   "metadata": {},
   "source": [
    "## Accessing files using Google Colab\n",
    "\n",
    "\n",
    "### Using an upload button\n",
    "In some cases, it might be inconvenient to access Google Drive and navigate through it, especially just for a single file.\n",
    "\n",
    "Here, it is possible to generate an **import** button than can be used to directly select file(**s**) and import them in the google colab environment"
   ]
  },
  {
   "cell_type": "markdown",
   "id": "a99ef1f1",
   "metadata": {},
   "source": [
    "### Module to import\n",
    "You will need to import the following module"
   ]
  },
  {
   "cell_type": "code",
   "execution_count": null,
   "id": "09a44cce",
   "metadata": {},
   "outputs": [],
   "source": [
    "from google.colab import files"
   ]
  },
  {
   "cell_type": "markdown",
   "id": "fd4c04d0",
   "metadata": {},
   "source": [
    "### File(s) selection\n",
    "The following line will result in the generation of an *import* button that can be used to navigate on the computer and select a file to load.\n",
    "\n",
    "Note: to re-use the button / upload different files,  you will need to rerun the cell below:"
   ]
  },
  {
   "cell_type": "code",
   "execution_count": null,
   "id": "82433097",
   "metadata": {},
   "outputs": [],
   "source": [
    "single_upload = files.upload()"
   ]
  },
  {
   "cell_type": "markdown",
   "id": "865e5761",
   "metadata": {},
   "source": [
    "It is also possible use it to select different files at the same time:"
   ]
  },
  {
   "cell_type": "code",
   "execution_count": null,
   "id": "91f57e4f",
   "metadata": {
    "collapsed": true
   },
   "outputs": [],
   "source": [
    "multiple_upload = files.upload()"
   ]
  },
  {
   "cell_type": "markdown",
   "id": "a80d1bca",
   "metadata": {},
   "source": [
    "### Download files\n",
    "We can use the same module to directly download files to the computer. The location depends on the default settings of the browser."
   ]
  },
  {
   "cell_type": "code",
   "execution_count": null,
   "id": "581c3af4",
   "metadata": {},
   "outputs": [],
   "source": [
    "# I use Numpy here to create a data file\n",
    "import numpy as np\n",
    "result = np.array([0, 1])\n",
    "np.savetxt('testfile_output.csv', result)\n",
    "\n",
    "# We call the download function on the path defined above\n",
    "files.download('testfile_output.csv')"
   ]
  },
  {
   "cell_type": "code",
   "execution_count": null,
   "id": "92153ef7",
   "metadata": {},
   "outputs": [],
   "source": []
  },
  {
   "cell_type": "markdown",
   "id": "483278dd",
   "metadata": {
    "tags": [
     "calc"
    ]
   },
   "source": [
    "## Using the notebook as a calculator\n",
    "\n",
    "Any python interpreter can work just like a calculator:"
   ]
  },
  {
   "cell_type": "code",
   "execution_count": null,
   "id": "365201ef",
   "metadata": {},
   "outputs": [],
   "source": [
    "# You can use me as a calculator:\n",
    "3*567"
   ]
  },
  {
   "cell_type": "code",
   "execution_count": null,
   "id": "b703b19b",
   "metadata": {},
   "outputs": [],
   "source": [
    "x = 5\n",
    "y = 10 "
   ]
  },
  {
   "cell_type": "code",
   "execution_count": null,
   "id": "50a2ee43",
   "metadata": {},
   "outputs": [],
   "source": [
    "# I remember who x and y are\n",
    "x\n",
    "#but if you restart the kernel, and don't run the cell above first, this cell will generate an error!"
   ]
  },
  {
   "cell_type": "code",
   "execution_count": null,
   "id": "c3c16171",
   "metadata": {
    "scrolled": true
   },
   "outputs": [],
   "source": [
    "y"
   ]
  },
  {
   "cell_type": "markdown",
   "id": "3553fd2b",
   "metadata": {},
   "source": [
    "\n",
    "## Important notes on Colab/Jupyter Notebooks\n",
    "\n",
    "<div class=\"alert alert-block alert-warning\"><b></b> \n",
    "\n",
    "#### Each cell is independent\n",
    "    \n",
    "When you execute a code cell,  notebook only executes the current code block.  This can have several unintended consequences. If you change a value and then go back and run an earlier code block, it will use the new value, not the first defined value, which may give you incorrect results.  \n",
    "    \n",
    "\n",
    "#### Running cells out of order\n",
    "    \n",
    "If you reopen your notebook later, and try to run a code block in the middle, it may tell you that your variables are undefined, even though you can clearly see them defined in earlier code blocks.  But if you didn't re-run those code blocks, then Python doesn't know they exist. \n",
    "\n",
    "\n",
    "#### Everything's in the memory - until you restart the kernel\n",
    "    \n",
    "When you run a code cell, the corresponding variables are stored in the notebook memory. If you delete the content of a cell after running it, this won't undo the code that was executed. Any variables defined will still be in the memory. To reset the notebook and delete any variables, you need to restart the kernel.\n",
    "\n",
    "</div>"
   ]
  },
  {
   "cell_type": "markdown",
   "id": "49fe7013",
   "metadata": {},
   "source": [
    "## Tasks \n",
    "\n",
    "Throughout the notebooks, you will see some markdown cells titled **Task #**: these cells will appear on a green background if you are using Jupyter on your own laptop, but if you are using Colab they will have the same background color as the others.\n",
    "\n",
    "Tasks are numbered and correspond to questions on KEATS. \n",
    "You can work on your answers here on the notebook, and then copy your solution on KEATS to acquire marks.\n"
   ]
  },
  {
   "cell_type": "markdown",
   "id": "468d04b4",
   "metadata": {},
   "source": [
    "<div class=\"alert alert-block alert-success\"><b>Task: </b>\n",
    "\n",
    "This block means you are being asked to do homework. The body of the question is generally the same as on KEATS."
   ]
  },
  {
   "cell_type": "markdown",
   "id": "34ac7448",
   "metadata": {},
   "source": [
    "## Key points\n",
    "\n",
    "Markdown cells in blue background (if you're using Jupyter notebook) titled **Key points** contain a summary of the main takeaways of a section. \n"
   ]
  },
  {
   "cell_type": "markdown",
   "id": "c7094828",
   "metadata": {},
   "source": [
    "<div class=\"alert alert-block alert-info\"><b> Key points: </b> \n",
    "    \n",
    "- Go at your own pace!\n",
    "- Ask questions!\n",
    "- Take breaks!\n",
    "    \n",
    "</div> "
   ]
  },
  {
   "cell_type": "markdown",
   "id": "bbe7d6ad",
   "metadata": {},
   "source": [
    "## Getting help\n",
    "\n",
    "### From the instructors/GTAs\n",
    "\n",
    "If you need help while working on the notebooks, use your pink sticky note and a GTA will come to the rescue!\n",
    "\n",
    "### From the internet\n",
    "\n",
    "\n",
    "- Google is always a good place to start! Often the best results will lead you to.. \n",
    "- [Stack overflow](https://stackoverflow.com), a public platform where users/programmers ask and answer technical questions. \n",
    "\n",
    "<img src=\"http://www.google.com/logos/doodles/2015/googles-new-logo-5078286822539264.3-hp2x.gif\" width=\"500\">\n",
    "\n",
    "<img src=\"https://stackoverflow.design/assets/img/logos/so/logo-stackoverflow.png\"  width=\"500\">\n",
    "\n",
    "### Generative AI \n",
    "\n",
    "- Large Language Models such as BingChat, ChatGPT are also pretty good at cleaning up Python code or providing answers to common Python queries - after all, they have been trained on StackOverflow results! \n",
    "- However, use some caution: sometimes these models may provide obsolete or wrong answers..\n"
   ]
  },
  {
   "cell_type": "markdown",
   "id": "c0999aa1",
   "metadata": {},
   "source": [
    "\n",
    "## Now we're finally ready to start learning some Python!\n",
    "\n",
    "Go to the next notebook: `CL1_NB2_intro_python.ipynb`"
   ]
  },
  {
   "cell_type": "markdown",
   "id": "e3e52eb5",
   "metadata": {},
   "source": []
  }
 ],
 "metadata": {
  "hide_input": false,
  "jupytext": {
   "cell_metadata_filter": "-all",
   "main_language": "python",
   "notebook_metadata_filter": "-all"
  },
  "kernelspec": {
   "display_name": "Python 3 (ipykernel)",
   "language": "python",
   "name": "python3"
  },
  "language_info": {
   "codemirror_mode": {
    "name": "ipython",
    "version": 3
   },
   "file_extension": ".py",
   "mimetype": "text/x-python",
   "name": "python",
   "nbconvert_exporter": "python",
   "pygments_lexer": "ipython3",
   "version": "3.10.8"
  },
  "toc": {
   "base_numbering": 1,
   "nav_menu": {},
   "number_sections": false,
   "sideBar": true,
   "skip_h1_title": false,
   "title_cell": "Table of Contents",
   "title_sidebar": "Contents",
   "toc_cell": false,
   "toc_position": {},
   "toc_section_display": true,
   "toc_window_display": false
  }
 },
 "nbformat": 4,
 "nbformat_minor": 5
}
