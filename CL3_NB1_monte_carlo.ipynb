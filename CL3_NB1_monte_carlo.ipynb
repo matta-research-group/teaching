{
 "cells": [
  {
   "cell_type": "markdown",
   "metadata": {
    "toc": true
   },
   "source": []
  },
  {
   "cell_type": "markdown",
   "metadata": {},
   "source": [
    "# Computer Lab 3 \n",
    "\n",
    "\n",
    "# Monte Carlo integration and the Central Limit Theorem\n",
    "\n",
    "\n",
    "\n",
    "## Learning Objectives\n",
    "\n",
    "- Using `numpy` to model stochastic processes\n",
    "- Using `matplotlib` for visualising results\n",
    "- Understand and apply Monte Carlo integration \n",
    "- Understand and apply the Central Limit Theorem\n",
    "\n",
    "This material has been adapted from the following sources:\n",
    "- [TowardsAI](https://github.com/towardsai/tutorials)\n",
    "- [Hands-On Reinforcement Learning With Python](https://github.com/sudharsan13296/Hands-On-Reinforcement-Learning-With-Python)\n",
    "\n",
    "\n",
    "Author:\n",
    "- Micaela Matta"
   ]
  },
  {
   "cell_type": "markdown",
   "metadata": {},
   "source": [
    "Let's go with some imports: 🚀"
   ]
  },
  {
   "cell_type": "code",
   "execution_count": null,
   "metadata": {},
   "outputs": [],
   "source": [
    "##########################################\n",
    "#                                        #\n",
    "#               IMPORTS                  #\n",
    "#                                        #\n",
    "##########################################\n",
    "\n",
    "# run this cell before any of the cells below, \n",
    "# or you'll get a NameError for trying to use a module that's not been imported!\n",
    "import numpy as np\n",
    "import math\n",
    "import random\n",
    "import matplotlib.pyplot as plt\n",
    "%matplotlib inline"
   ]
  },
  {
   "cell_type": "markdown",
   "metadata": {},
   "source": [
    "## Using numpy as a source of pseudorandom numbers\n",
    "\n",
    "\n",
    "As seen in the previous CL, `numpy`’s random module (`numpy.random`) provides a means to pseudorandomly generate randomised values.\n",
    "\n",
    "For more information see also the [documentation](https://numpy.org/doc/1.16/reference/routines.random.html)."
   ]
  },
  {
   "cell_type": "code",
   "execution_count": null,
   "metadata": {},
   "outputs": [],
   "source": [
    "N = 1992\n",
    "np.random.seed(N) # we set up the random seed for reproducibility"
   ]
  },
  {
   "cell_type": "markdown",
   "metadata": {},
   "source": [
    "A 3x3 array of random integers distributed uniformly between `0` and `100`:"
   ]
  },
  {
   "cell_type": "code",
   "execution_count": null,
   "metadata": {},
   "outputs": [],
   "source": [
    "np.random.randint(0, 100,(3,3)) "
   ]
  },
  {
   "cell_type": "markdown",
   "metadata": {},
   "source": [
    "A 3x3 array of `[0, 1)`:"
   ]
  },
  {
   "cell_type": "code",
   "execution_count": null,
   "metadata": {},
   "outputs": [],
   "source": [
    "np.random.randn(3,3)"
   ]
  },
  {
   "cell_type": "code",
   "execution_count": null,
   "metadata": {},
   "outputs": [],
   "source": []
  },
  {
   "cell_type": "code",
   "execution_count": null,
   "metadata": {},
   "outputs": [],
   "source": [
    "np.random.normal?"
   ]
  },
  {
   "cell_type": "markdown",
   "metadata": {},
   "source": [
    "A 1D array with `N` uniformly distributed random numbers:"
   ]
  },
  {
   "cell_type": "code",
   "execution_count": null,
   "metadata": {},
   "outputs": [],
   "source": [
    "np.random.uniform(0,1,N)"
   ]
  },
  {
   "cell_type": "markdown",
   "metadata": {},
   "source": [
    "A 1D array with `N` normally distributed random numbers:"
   ]
  },
  {
   "cell_type": "code",
   "execution_count": null,
   "metadata": {},
   "outputs": [],
   "source": [
    "np.random.normal(0,1,N)"
   ]
  },
  {
   "cell_type": "markdown",
   "metadata": {},
   "source": [
    "A single random number from a uniform distribution:"
   ]
  },
  {
   "cell_type": "code",
   "execution_count": null,
   "metadata": {},
   "outputs": [],
   "source": [
    "np.random.uniform(0,1) "
   ]
  },
  {
   "cell_type": "markdown",
   "metadata": {},
   "source": [
    "A single random number from a normal distribution:"
   ]
  },
  {
   "cell_type": "code",
   "execution_count": null,
   "metadata": {},
   "outputs": [],
   "source": [
    "np.random.normal(0,1)"
   ]
  },
  {
   "cell_type": "markdown",
   "metadata": {},
   "source": [
    "### Random seed\n",
    "\n",
    "\n",
    "Setting a random seed in `numpy.random` allows you to control the random number generator, ensuring that the same sequence of random numbers will be generated each time you run your code. This is useful for debugging purposes, as it allows you to reproduce the same results. It is also useful for comparing results from different runs of the same algorithm, as the same data is used each time. Additionally, it can be used to control the randomness of an algorithm, allowing you to explore a range of possible outcomes.\n",
    "\n",
    "\n",
    "Let's visualise the effect of different random seeds using a plot:"
   ]
  },
  {
   "cell_type": "code",
   "execution_count": null,
   "metadata": {},
   "outputs": [],
   "source": [
    "x = np.linspace(0,1,10)\n",
    "np.random.seed(10)\n",
    "y1 = np.random.uniform(0,1,10)\n",
    "np.random.seed(2022)\n",
    "y2 = np.random.uniform(0,1,10)\n",
    "np.random.seed(10)\n",
    "y3 = np.random.uniform(0,1,10)\n",
    "\n",
    "plt.plot(x, y1, label='seed = 10')\n",
    "plt.plot(x, y2, label='seed = 2022')\n",
    "plt.plot(x, y3, label='seed = 10')\n",
    "\n",
    "plt.legend()\n",
    "plt.show()"
   ]
  },
  {
   "cell_type": "markdown",
   "metadata": {},
   "source": [
    "We only see 2 lines because the series `y1` and `y3`, having the same seed, are identical:"
   ]
  },
  {
   "cell_type": "code",
   "execution_count": null,
   "metadata": {},
   "outputs": [],
   "source": [
    "y1==y3"
   ]
  },
  {
   "cell_type": "markdown",
   "metadata": {},
   "source": [
    "## Estimating the value of $π$ using Monte Carlo\n",
    "\n",
    "As you have seen in the last lecture, the Monte Carlo method can also be used to estimate the value of $π$ (3.141592...)\n",
    "\n",
    "If we define a circle of radius 0.5 enclosed by a 1×1 square, the area of the circle is $πr^2=π/4$ and the ratio between the area  of the circle and the square is $π/4$."
   ]
  },
  {
   "cell_type": "code",
   "execution_count": null,
   "metadata": {},
   "outputs": [],
   "source": [
    "seed = 5331\n",
    "np.random.seed(seed)\n",
    "\n",
    "square_size = 1\n",
    "sample_size = 100 # try different values!\n",
    "arc = np.linspace(0, np.pi/2, 100)"
   ]
  },
  {
   "cell_type": "markdown",
   "metadata": {},
   "source": [
    "Then we generate a large number of uniformly distributed random points in any position within the square - between (0,0) and (1,1):"
   ]
  },
  {
   "cell_type": "code",
   "execution_count": null,
   "metadata": {},
   "outputs": [],
   "source": [
    "x = np.random.uniform(0,1,sample_size)\n",
    "y = np.random.uniform(0,1,sample_size)"
   ]
  },
  {
   "cell_type": "markdown",
   "metadata": {},
   "source": [
    "If they fall within the circle, they are coloured yellow, otherwise they are coloured blue. We keep track of the number of points that fall inside the circle. "
   ]
  },
  {
   "cell_type": "code",
   "execution_count": null,
   "metadata": {},
   "outputs": [],
   "source": [
    "plt.axes().set_aspect('equal')\n",
    "\n",
    "#index lists\n",
    "in_square = [] \n",
    "in_circle = []\n",
    "\n",
    "#iterate over each point\n",
    "for i in range(sample_size):\n",
    "    \n",
    "    #check if it falls inside the circle \n",
    "    if math.sqrt(x[i]**2 + y[i]**2) <= 1:\n",
    "        in_circle.append(i)\n",
    "        #plot in yellow\n",
    "        plt.plot(x[i], y[i], '.y')\n",
    "    else:\n",
    "        in_square.append(i)\n",
    "        #plot in blue\n",
    "        plt.plot(x[i], y[i], '.b')\n",
    "\n",
    "#plot the arc of circonference as line\n",
    "plt.plot(np.cos(arc), np.sin(arc), 'r', lw=3)\n",
    "\n",
    "plt.show()"
   ]
  },
  {
   "cell_type": "markdown",
   "metadata": {},
   "source": [
    "If we divide the number of points within the circle, `N_in_circle`, by the total number of points, `sample_size`, we should get a value that is an approximation of the ratio of the areas we calculated above, $π/4$."
   ]
  },
  {
   "cell_type": "code",
   "execution_count": null,
   "metadata": {},
   "outputs": [],
   "source": [
    "# get the list len\n",
    "N_in_circle = len(in_circle)\n",
    "\n",
    "#calculate pi\n",
    "pi = 4 * N_in_circle/sample_size\n",
    "\n",
    "print(f\"The approximate value of π is {pi}\")"
   ]
  },
  {
   "cell_type": "markdown",
   "metadata": {},
   "source": [
    "<div class=\"alert alert-success\"><b>Check your understanding: </b>\n",
    "   \n",
    "    \n",
    "- What happens to your estimate of $π$ as you increase `sample_size`?  \n",
    "- How large does `sample_size` need to be to provide a good estimate of the first 4 significant digits of $π$? \n",
    "    \n",
    "</div>"
   ]
  },
  {
   "cell_type": "markdown",
   "metadata": {},
   "source": [
    "# Demonstrating the Central Limit Theorem\n",
    "\n",
    "\n",
    "The Central Limit Theorem (CLT) states that, given a sufficiently large sample size from a population with finite variance, the mean of all possible sample means, $ \\bar{X_{n}}$ is equal to the population mean $\\mu$ and the distribution of all possible sample means is approximately normal.\n",
    "\n",
    "We will demonstrate the validity of the CLT with an example."
   ]
  },
  {
   "cell_type": "markdown",
   "metadata": {},
   "source": [
    "<div class=\"alert alert-success\"><b> Task 1.1: </b>\n",
    "The central limit theorem\n",
    "\n",
    "- What does each line of code in the cell below do? **Hint:** run each line of code separately, and print each variable to get a better understanding of the code.\n",
    "\n",
    "- What happens as you change the parameters `population_size`, `number_of_samples` and `sample_size`? Record the change in the plot below as you change the parameters, and describe what you observe relating the behaviour to what you have learnt about the central limit theorem. \n",
    "\n",
    "- **Label each plot you save to show which parameters you used to produce it.**\n",
    "\n",
    "- **Upload your plots as a single file and fill in the text box on KEATS.**\n",
    "\n",
    "\n",
    "</div>"
   ]
  },
  {
   "cell_type": "code",
   "execution_count": null,
   "metadata": {},
   "outputs": [],
   "source": [
    "population_size = 100   # what happens if you change this number?\n",
    "number_of_samples = 10  # what happens if you change this number?\n",
    "sample_size = 5        # what happens if you change this number?\n",
    "\n",
    "np.random.seed(440241)  # don't change the seed\n",
    "\n",
    "population = np.random.rand(population_size)\n",
    "sample_means = np.random.rand(number_of_samples)\n",
    "c = np.random.rand(number_of_samples)\n",
    " \n",
    "for i in range(number_of_samples):\n",
    "    c = np.random.randint(1,population_size, sample_size)\n",
    "    sample_means[i] = population[c].mean()"
   ]
  },
  {
   "cell_type": "markdown",
   "metadata": {},
   "source": [
    "Now we use seaborn and matplotlib to visualise the results:"
   ]
  },
  {
   "cell_type": "code",
   "execution_count": null,
   "metadata": {},
   "outputs": [],
   "source": [
    "import seaborn as sns\n",
    "import warnings\n",
    "warnings.filterwarnings(\"ignore\")\n",
    "# size of x and y axis ticks\n",
    "plt.xticks(fontsize=14)\n",
    "plt.yticks(fontsize=14)\n",
    "\n",
    "# we plot a histogram as well as its kde (kernel density estimate)\n",
    "# for more info about the kde, see the explanation in the cell below\n",
    "sns.distplot(sample_means, bins=int(180/5), hist = True, kde = True)\n",
    "\n",
    "# title axis labels\n",
    "plt.title('Histogram of Sample mean',fontsize=20) \n",
    "plt.xlabel('Sample mean',fontsize=20)\n",
    "plt.ylabel('Count',fontsize=20)\n",
    "plt.show()\n",
    "# uncomment this to save the plot to a file\n",
    "#plt.savefig('CLT_100_10_5.png',dpi=300)"
   ]
  },
  {
   "cell_type": "markdown",
   "metadata": {},
   "source": [
    "<div class=\"alert alert-block alert-info\">\n",
    "<b> FYI: Kernel Density Estimation (KDE) plots</b>\n",
    "\n",
    "- Kernel Density Estimation (KDE) is a smoothing technique used to represent the distribution of a given data set \n",
    "- KDE is used to estimate the probability density function of a given data set."
   ]
  },
  {
   "cell_type": "markdown",
   "metadata": {},
   "source": [
    "\n",
    "<div class=\"alert alert-block alert-info\">\n",
    "    <b> Key points:</b> \n",
    "\n",
    "\n",
    "- Monte Carlo algorithms (MCAs) are used to simulate randomly generated outcomes or to determine the probability of an event occurring.\n",
    "- MCAs are used in a wide range of fields, including finance, physics, chemistry, and engineering.\n",
    "- MCAs can be used to optimize parameters, simulate physical systems, and generate random numbers.\n",
    "- In chemistry, MCAs  are used to model complex chemical systems and simulate the behavior of molecules."
   ]
  },
  {
   "cell_type": "markdown",
   "metadata": {},
   "source": [
    "**next notebook: `CL3_NB2_polymers.ipynb`**"
   ]
  },
  {
   "cell_type": "markdown",
   "metadata": {},
   "source": []
  }
 ],
 "metadata": {
  "kernelspec": {
   "display_name": "Python 3 (ipykernel)",
   "language": "python",
   "name": "python3"
  },
  "language_info": {
   "codemirror_mode": {
    "name": "ipython",
    "version": 3
   },
   "file_extension": ".py",
   "mimetype": "text/x-python",
   "name": "python",
   "nbconvert_exporter": "python",
   "pygments_lexer": "ipython3",
   "version": "3.10.8"
  },
  "toc": {
   "base_numbering": 1,
   "nav_menu": {},
   "number_sections": false,
   "sideBar": true,
   "skip_h1_title": true,
   "title_cell": "Table of Contents",
   "title_sidebar": "Contents",
   "toc_cell": true,
   "toc_position": {
    "height": "calc(100% - 180px)",
    "left": "10px",
    "top": "150px",
    "width": "307.1875px"
   },
   "toc_section_display": true,
   "toc_window_display": true
  }
 },
 "nbformat": 4,
 "nbformat_minor": 2
}
