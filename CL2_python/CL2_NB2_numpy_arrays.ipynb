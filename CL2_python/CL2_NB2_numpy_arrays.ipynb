{
 "cells": [
  {
   "cell_type": "markdown",
   "id": "7fa74e48",
   "metadata": {
    "toc": true
   },
   "source": [
    "<h1>Table of Contents<span class=\"tocSkip\"></span></h1>\n",
    "<div class=\"toc\"><ul class=\"toc-item\"><li><span><a href=\"#Learning-objectives\" data-toc-modified-id=\"Learning-objectives-1\"><span class=\"toc-item-num\">1&nbsp;&nbsp;</span>Learning objectives</a></span></li><li><span><a href=\"#Importing-numpy\" data-toc-modified-id=\"Importing-numpy-2\"><span class=\"toc-item-num\">2&nbsp;&nbsp;</span>Importing numpy</a></span></li><li><span><a href=\"#NumPy-Arrays\" data-toc-modified-id=\"NumPy-Arrays-3\"><span class=\"toc-item-num\">3&nbsp;&nbsp;</span>NumPy Arrays</a></span></li><li><span><a href=\"#So-many-ways-of-creating-arrays\" data-toc-modified-id=\"So-many-ways-of-creating-arrays-4\"><span class=\"toc-item-num\">4&nbsp;&nbsp;</span>So many ways of creating arrays</a></span></li><li><span><a href=\"#Slicing-and-indexing\" data-toc-modified-id=\"Slicing-and-indexing-5\"><span class=\"toc-item-num\">5&nbsp;&nbsp;</span>Slicing and indexing</a></span></li><li><span><a href=\"#Shape-and-size\" data-toc-modified-id=\"Shape-and-size-6\"><span class=\"toc-item-num\">6&nbsp;&nbsp;</span>Shape and size</a></span><ul class=\"toc-item\"><li><span><a href=\"#Reshaping-arrays\" data-toc-modified-id=\"Reshaping-arrays-6.1\"><span class=\"toc-item-num\">6.1&nbsp;&nbsp;</span>Reshaping arrays</a></span></li></ul></li><li><span><a href=\"#Playing-with-atomic-coordinates\" data-toc-modified-id=\"Playing-with-atomic-coordinates-7\"><span class=\"toc-item-num\">7&nbsp;&nbsp;</span>Playing with atomic coordinates</a></span><ul class=\"toc-item\"><li><span><a href=\"#Arrays-vs-Lists\" data-toc-modified-id=\"Arrays-vs-Lists-7.1\"><span class=\"toc-item-num\">7.1&nbsp;&nbsp;</span>Arrays vs Lists</a></span></li></ul></li><li><span><a href=\"#Logical-comparisons\" data-toc-modified-id=\"Logical-comparisons-8\"><span class=\"toc-item-num\">8&nbsp;&nbsp;</span>Logical comparisons</a></span></li><li><span><a href=\"#Sorted-arrays\" data-toc-modified-id=\"Sorted-arrays-9\"><span class=\"toc-item-num\">9&nbsp;&nbsp;</span>Sorted arrays</a></span></li><li><span><a href=\"#Array-Axes\" data-toc-modified-id=\"Array-Axes-10\"><span class=\"toc-item-num\">10&nbsp;&nbsp;</span>Array Axes</a></span><ul class=\"toc-item\"><li><span><a href=\"#Geometric-center\" data-toc-modified-id=\"Geometric-center-10.1\"><span class=\"toc-item-num\">10.1&nbsp;&nbsp;</span>Geometric center</a></span></li><li><span><a href=\"#Center-of-mass\" data-toc-modified-id=\"Center-of-mass-10.2\"><span class=\"toc-item-num\">10.2&nbsp;&nbsp;</span>Center of mass</a></span></li></ul></li><li><span><a href=\"#Calculating-bonds-with-numpy\" data-toc-modified-id=\"Calculating-bonds-with-numpy-11\"><span class=\"toc-item-num\">11&nbsp;&nbsp;</span>Calculating bonds with numpy</a></span><ul class=\"toc-item\"><li><span><a href=\"#Built-in-maths-functions\" data-toc-modified-id=\"Built-in-maths-functions-11.1\"><span class=\"toc-item-num\">11.1&nbsp;&nbsp;</span>Built-in maths functions</a></span></li><li><span><a href=\"#Some-more-built-in-functions\" data-toc-modified-id=\"Some-more-built-in-functions-11.2\"><span class=\"toc-item-num\">11.2&nbsp;&nbsp;</span>Some more built-in functions</a></span></li></ul></li><li><span><a href=\"#Calculating-angles:-bond-angle-of-water\" data-toc-modified-id=\"Calculating-angles:-bond-angle-of-water-12\"><span class=\"toc-item-num\">12&nbsp;&nbsp;</span>Calculating angles: bond angle of water</a></span></li><li><span>\n",
    "<li><span><a href=\"#Next-notebook:-CL2_NB3_plotting.ipynb\" data-toc-modified-id=\"Next-notebook:-CL2_NB3_plotting.ipynb-13\"><span class=\"toc-item-num\">13&nbsp;&nbsp;</span>Next notebook: <code>CL2_NB3_plotting.ipynb</code></a></span></li></ul></div>"
   ]
  },
  {
   "cell_type": "markdown",
   "id": "9db129c8",
   "metadata": {},
   "source": [
    "\n",
    "<div class=\"alert alert-block alert-warning\"><b>A note about Jupyter Notebooks</b> \n",
    "    \n",
    "    \n",
    "If you use the Jupyter Notebook for your Python interpreter, the notebook only executes the current code block.  This can have several unintended consequences. If you change a value and then go back and run an earlier code block, it will use the new value, not the first defined value, which may give you incorrect analysis.  \n",
    "    \n",
    "Similarly, if you open your Jupyter Notebook later, and try to run a code block in the middle, it may tell you that your variables are undefined, even though you can clearly see them defined in earlier code blocks.  But if you didn't re-run those code blocks, then Python doesn't know they exist. </div>"
   ]
  },
  {
   "cell_type": "markdown",
   "id": "1dd11e20",
   "metadata": {},
   "source": [
    "<img src=\"https://thejenkinscomic.files.wordpress.com/2020/04/hey-i-discovered-how-to-write-hidden-mouse-over-text.png\">"
   ]
  },
  {
   "cell_type": "markdown",
   "id": "6149e60c",
   "metadata": {},
   "source": [
    "# Working with `numpy` arrays\n",
    "\n",
    "## Learning objectives\n",
    "\n",
    "- Understand the differences between Python lists and `numpy` arrays.\n",
    "- Creating, manipulating and doing mathematical operations with arrays.\n",
    "\n",
    "This material has been adapted from [MolSSI](https://education.molssi.org/python-data-analysis/), [Jovian AI](https://jovian.ai/aakashns/python-numerical-computing-with-numpy) and the [Python Data Science Handbook](https://cocalc.com/share/public_paths/8b892baf91f98d0cf6172b872c8ad6694d0f7204/notebooks).\n",
    "\n",
    "\n",
    "Author:\n",
    "Dr Micaela Matta"
   ]
  },
  {
   "cell_type": "markdown",
   "id": "7281ecb3",
   "metadata": {},
   "source": [
    "<div class=\"alert alert-block alert-info\">\n",
    "    <b>Key points:</b> \n",
    "    \n",
    "- `numpy` arrays which are the same size use element-wise operations when added or subtracted\n",
    "- `numpy` uses something called *broadcasting* for arrays which are not the same size to allow arrays to be added or multiplied.\n",
    "- You can see the documentation of various functions by typing the character `?` after the function. `numpy` also has extensive documentation online.\n",
    "- `numpy` has many built in functions for math & stats. No need to reinvent the wheel!   \n",
    "\n",
    "</div> "
   ]
  },
  {
   "cell_type": "markdown",
   "id": "86842c6a",
   "metadata": {},
   "source": [
    "## Importing numpy\n",
    "\n",
    "To use the numpy library, we have to import it. When `numpy` is imported, it is often shortened to `np` as shown below:"
   ]
  },
  {
   "cell_type": "code",
   "execution_count": 2,
   "id": "893332af",
   "metadata": {},
   "outputs": [],
   "source": [
    "###########################################\n",
    "#                                         #\n",
    "# REMEMBER: always run this cell first!   #\n",
    "import numpy as np"
   ]
  },
  {
   "cell_type": "markdown",
   "id": "d5136a1f",
   "metadata": {},
   "source": []
  },
  {
   "cell_type": "markdown",
   "id": "f3a9c304",
   "metadata": {},
   "source": [
    "## NumPy Arrays \n",
    "\n",
    "[Numpy](https://numpy.org/) is a widely used Python library for scientific computing. It has a number of useful features, including the a data structure called an *array*. \n",
    "\n",
    "Compared to the built-in data types `lists`, `numpy` has many features which can help you in your data analysis.\n",
    "\n",
    "\n",
    "Previously, you have worked with the built-in types of `lists`. NumPy arrays seem similar, but offer some distinct advantages.\n",
    "\n",
    "- **Numpy arrays take up less space, are faster, and have more mathematical operations associated with them.** \n",
    "\n",
    "- **However, unlike lists, elements in an array all have to be the same type.**\n",
    "\n",
    "\n",
    "There are also differences in how lists and numpy arrays behave. We will look at some of these."
   ]
  },
  {
   "cell_type": "markdown",
   "id": "d5f02bd8",
   "metadata": {},
   "source": [
    "## So many ways of creating arrays\n",
    "\n",
    "`numpy` has lots of ways to create arrays, we'll go over the most common.\n",
    "\n",
    "\n",
    "We can \"manually\" create an array of numbers:"
   ]
  },
  {
   "cell_type": "code",
   "execution_count": 4,
   "id": "9ae05e58",
   "metadata": {},
   "outputs": [
    {
     "data": {
      "text/plain": [
       "array([73, 67, 43])"
      ]
     },
     "execution_count": 4,
     "metadata": {},
     "output_type": "execute_result"
    }
   ],
   "source": [
    "l = [73, 67, 43]\n",
    "\n",
    "np.array(l)"
   ]
  },
  {
   "cell_type": "markdown",
   "id": "362773bb",
   "metadata": {},
   "source": [
    "`np.random` is a useful library to create arrays of random numbers. Here we create an array with 10 random numbers between 0 and 1:"
   ]
  },
  {
   "cell_type": "code",
   "execution_count": 7,
   "id": "2756c563",
   "metadata": {},
   "outputs": [
    {
     "data": {
      "text/plain": [
       "array([0.19171449, 0.68211257, 0.3250092 , 0.93083937, 0.76800457,\n",
       "       0.54351806, 0.64832061, 0.46117534, 0.77503924, 0.07739115])"
      ]
     },
     "execution_count": 7,
     "metadata": {},
     "output_type": "execute_result"
    }
   ],
   "source": [
    "np.random.rand(10)"
   ]
  },
  {
   "cell_type": "markdown",
   "id": "0d7b0f89",
   "metadata": {},
   "source": [
    "We can also conveniently pre-populate arrays of a given shape/size:"
   ]
  },
  {
   "cell_type": "code",
   "execution_count": 9,
   "id": "12629966",
   "metadata": {},
   "outputs": [
    {
     "data": {
      "text/plain": [
       "array([0., 0., 0., 0., 0., 0., 0., 0., 0., 0., 0., 0., 0., 0., 0., 0., 0.,\n",
       "       0., 0., 0.])"
      ]
     },
     "execution_count": 9,
     "metadata": {},
     "output_type": "execute_result"
    }
   ],
   "source": [
    "# all zeros\n",
    "np.zeros((20))"
   ]
  },
  {
   "cell_type": "code",
   "execution_count": 12,
   "id": "0b4c8c7a",
   "metadata": {},
   "outputs": [
    {
     "data": {
      "text/plain": [
       "array([[1., 1., 1.],\n",
       "       [1., 1., 1.],\n",
       "       [1., 1., 1.]])"
      ]
     },
     "execution_count": 12,
     "metadata": {},
     "output_type": "execute_result"
    }
   ],
   "source": [
    "# all ones\n",
    "np.ones((3, 3))"
   ]
  },
  {
   "cell_type": "code",
   "execution_count": 14,
   "id": "688beb44",
   "metadata": {},
   "outputs": [
    {
     "data": {
      "text/plain": [
       "array([10, 10, 10, 10])"
      ]
     },
     "execution_count": 14,
     "metadata": {},
     "output_type": "execute_result"
    }
   ],
   "source": [
    "# all 10\n",
    "np.full(4, 10)"
   ]
  },
  {
   "cell_type": "markdown",
   "id": "8b96d97e",
   "metadata": {},
   "source": [
    "We can also generate a series with `np.arange`. Here we make an array of numbers between `2` and `40` (excluded) with an increment of `2`:"
   ]
  },
  {
   "cell_type": "code",
   "execution_count": 15,
   "id": "b80a8d41",
   "metadata": {},
   "outputs": [
    {
     "data": {
      "text/plain": [
       "array([ 2,  4,  6,  8, 10, 12, 14, 16, 18, 20, 22, 24, 26, 28, 30, 32, 34,\n",
       "       36, 38])"
      ]
     },
     "execution_count": 15,
     "metadata": {},
     "output_type": "execute_result"
    }
   ],
   "source": [
    "# start=2, stop=40, increment=2\n",
    "np.arange(2,40,2)"
   ]
  },
  {
   "cell_type": "markdown",
   "id": "450a4181",
   "metadata": {},
   "source": [
    "## Slicing and indexing\n",
    "\n",
    "Slicing and indexing arrays are some of the most common operations you'll have to do when working with arrays. \n",
    "\n",
    "To select the 5th element of an array:"
   ]
  },
  {
   "cell_type": "code",
   "execution_count": 16,
   "id": "ded79c3d",
   "metadata": {},
   "outputs": [
    {
     "name": "stdout",
     "output_type": "stream",
     "text": [
      "[0 1 2 3 4 5 6 7 8 9]\n"
     ]
    }
   ],
   "source": [
    "x = np.arange(10)\n",
    "print(x)"
   ]
  },
  {
   "cell_type": "code",
   "execution_count": 17,
   "id": "3b5a3a69",
   "metadata": {},
   "outputs": [
    {
     "data": {
      "text/plain": [
       "4"
      ]
     },
     "execution_count": 17,
     "metadata": {},
     "output_type": "execute_result"
    }
   ],
   "source": [
    "x[4]"
   ]
  },
  {
   "cell_type": "markdown",
   "id": "7322a7ce",
   "metadata": {},
   "source": [
    "Now we select only the first 5 elements of an array:"
   ]
  },
  {
   "cell_type": "code",
   "execution_count": 18,
   "id": "102cfe58",
   "metadata": {},
   "outputs": [
    {
     "data": {
      "text/plain": [
       "array([0, 1, 2, 3, 4])"
      ]
     },
     "execution_count": 18,
     "metadata": {},
     "output_type": "execute_result"
    }
   ],
   "source": [
    "x[:5]"
   ]
  },
  {
   "cell_type": "markdown",
   "id": "863b88d6",
   "metadata": {},
   "source": [
    "Indexing can also be used to modify parts of an array. For example, imagine we have an array of indices and we'd like to set the corresponding items in an array to some value:"
   ]
  },
  {
   "cell_type": "code",
   "execution_count": 19,
   "id": "702a2373",
   "metadata": {},
   "outputs": [
    {
     "data": {
      "text/plain": [
       "array([0, 1, 2, 3, 4, 5, 6, 7, 8, 9])"
      ]
     },
     "execution_count": 19,
     "metadata": {},
     "output_type": "execute_result"
    }
   ],
   "source": [
    "x = np.arange(10)\n",
    "x"
   ]
  },
  {
   "cell_type": "code",
   "execution_count": 20,
   "id": "6b3a91f0",
   "metadata": {},
   "outputs": [
    {
     "data": {
      "text/plain": [
       "array([2, 1, 8, 4])"
      ]
     },
     "execution_count": 20,
     "metadata": {},
     "output_type": "execute_result"
    }
   ],
   "source": [
    "i = np.array([2, 1, 8, 4])\n",
    "i"
   ]
  },
  {
   "cell_type": "code",
   "execution_count": 21,
   "id": "d1cc0ebd",
   "metadata": {},
   "outputs": [
    {
     "name": "stdout",
     "output_type": "stream",
     "text": [
      "[ 0 99 99  3 99  5  6  7 99  9]\n"
     ]
    }
   ],
   "source": [
    "x[i] = 99\n",
    "print(x)"
   ]
  },
  {
   "cell_type": "markdown",
   "id": "7a926a08",
   "metadata": {},
   "source": [
    "We have used the array of indices `i` to modify the corresponding elements of array `x`. This way of indexing arrays with other arrays is called **fancy indexing**."
   ]
  },
  {
   "cell_type": "markdown",
   "id": "db3956a4",
   "metadata": {},
   "source": [
    "Now we slice `x` considering elements between `[start:end]`:"
   ]
  },
  {
   "cell_type": "code",
   "execution_count": 23,
   "id": "6a9c39b5",
   "metadata": {},
   "outputs": [
    {
     "data": {
      "text/plain": [
       "array([0, 1, 2, 3, 4, 5, 6, 7, 8, 9])"
      ]
     },
     "execution_count": 23,
     "metadata": {},
     "output_type": "execute_result"
    }
   ],
   "source": [
    "x = np.arange(10)\n",
    "x"
   ]
  },
  {
   "cell_type": "code",
   "execution_count": 24,
   "id": "53df4ea0",
   "metadata": {},
   "outputs": [
    {
     "data": {
      "text/plain": [
       "array([2, 3, 4, 5, 6, 7])"
      ]
     },
     "execution_count": 24,
     "metadata": {},
     "output_type": "execute_result"
    }
   ],
   "source": [
    "x[2:-2]"
   ]
  },
  {
   "cell_type": "markdown",
   "id": "137e7563",
   "metadata": {},
   "source": [
    "We can also use a third index, `[start:end:step]`, to select all the odd numbers in the array:"
   ]
  },
  {
   "cell_type": "code",
   "execution_count": 25,
   "id": "e6525201",
   "metadata": {},
   "outputs": [
    {
     "data": {
      "text/plain": [
       "array([1, 3, 5, 7])"
      ]
     },
     "execution_count": 25,
     "metadata": {},
     "output_type": "execute_result"
    }
   ],
   "source": [
    "# from the second element to the last, selecting every other element\n",
    "x[1:-1:2] "
   ]
  },
  {
   "cell_type": "code",
   "execution_count": null,
   "id": "a8660abf",
   "metadata": {},
   "outputs": [],
   "source": []
  },
  {
   "cell_type": "markdown",
   "id": "d25b6f70",
   "metadata": {},
   "source": [
    "Party trick! We can reverse the order of array elements:"
   ]
  },
  {
   "cell_type": "code",
   "execution_count": 26,
   "id": "63671c07",
   "metadata": {},
   "outputs": [
    {
     "data": {
      "text/plain": [
       "array([9, 8, 7, 6, 5, 4, 3, 2, 1, 0])"
      ]
     },
     "execution_count": 26,
     "metadata": {},
     "output_type": "execute_result"
    }
   ],
   "source": [
    "x[::-1]"
   ]
  },
  {
   "cell_type": "markdown",
   "id": "46996b0b",
   "metadata": {},
   "source": [
    "<div class=\"alert alert-block alert-success\"><b>Check your understanding: </b>\n",
    "    \n",
    "Select the last element of an array."
   ]
  },
  {
   "cell_type": "code",
   "execution_count": 27,
   "id": "3026a944",
   "metadata": {},
   "outputs": [
    {
     "data": {
      "text/plain": [
       "9"
      ]
     },
     "execution_count": 27,
     "metadata": {},
     "output_type": "execute_result"
    }
   ],
   "source": [
    "x[-1]"
   ]
  },
  {
   "cell_type": "markdown",
   "id": "bcf5b751",
   "metadata": {},
   "source": [
    "## Shape and size\n",
    "\n",
    "\n",
    "\n",
    "<img src=\"https://predictivehacks.com/wp-content/uploads/2020/08/numpy_arrays-1024x572.png\" width =700>"
   ]
  },
  {
   "cell_type": "markdown",
   "id": "cf3967fb",
   "metadata": {},
   "source": [
    "So far we have only used 1D arrays, but sometimes it's useful to save data using 2D or 3D arrays. For instance, if we are recording a series of UV-Vis spectra as a function of temperature and/or time, or if we are running a  simulation and need to store atomic coordinates and velocities as a function of the timestep."
   ]
  },
  {
   "cell_type": "code",
   "execution_count": 29,
   "id": "374af4b3",
   "metadata": {},
   "outputs": [
    {
     "data": {
      "text/plain": [
       "array([[0.75462578, 0.26380807, 0.56511974, 0.14837319],\n",
       "       [0.28013489, 0.97613716, 0.1263063 , 0.94560755],\n",
       "       [0.57525701, 0.65057445, 0.73730033, 0.94297965]])"
      ]
     },
     "execution_count": 29,
     "metadata": {},
     "output_type": "execute_result"
    }
   ],
   "source": [
    "# a 2d array of shape (3,4)\n",
    "arr2d = np.random.rand(3,4)\n",
    "arr2d"
   ]
  },
  {
   "cell_type": "code",
   "execution_count": 30,
   "id": "8130f241",
   "metadata": {},
   "outputs": [
    {
     "data": {
      "text/plain": [
       "(3, 4)"
      ]
     },
     "execution_count": 30,
     "metadata": {},
     "output_type": "execute_result"
    }
   ],
   "source": [
    "arr2d.shape"
   ]
  },
  {
   "cell_type": "code",
   "execution_count": 31,
   "id": "829bf1f3",
   "metadata": {},
   "outputs": [
    {
     "data": {
      "text/plain": [
       "12"
      ]
     },
     "execution_count": 31,
     "metadata": {},
     "output_type": "execute_result"
    }
   ],
   "source": [
    "arr2d.size"
   ]
  },
  {
   "cell_type": "code",
   "execution_count": 32,
   "id": "1500113a",
   "metadata": {},
   "outputs": [
    {
     "data": {
      "text/plain": [
       "array([[0.75462578, 0.26380807, 0.56511974, 0.14837319],\n",
       "       [0.28013489, 0.97613716, 0.1263063 , 0.94560755],\n",
       "       [0.57525701, 0.65057445, 0.73730033, 0.94297965]])"
      ]
     },
     "execution_count": 32,
     "metadata": {},
     "output_type": "execute_result"
    }
   ],
   "source": [
    "arr2d"
   ]
  },
  {
   "cell_type": "markdown",
   "id": "20bd271f",
   "metadata": {},
   "source": [
    "We can print the first column:"
   ]
  },
  {
   "cell_type": "code",
   "execution_count": 34,
   "id": "9b9d80f2",
   "metadata": {},
   "outputs": [
    {
     "data": {
      "text/plain": [
       "array([0.75462578, 0.28013489, 0.57525701])"
      ]
     },
     "execution_count": 34,
     "metadata": {},
     "output_type": "execute_result"
    }
   ],
   "source": [
    "arr2d[:, 0]"
   ]
  },
  {
   "cell_type": "code",
   "execution_count": 35,
   "id": "7c86b0f4",
   "metadata": {},
   "outputs": [
    {
     "data": {
      "text/plain": [
       "array([0.75462578, 0.26380807, 0.56511974, 0.14837319])"
      ]
     },
     "execution_count": 35,
     "metadata": {},
     "output_type": "execute_result"
    }
   ],
   "source": [
    "arr2d[0, :]"
   ]
  },
  {
   "cell_type": "code",
   "execution_count": 36,
   "id": "c9aa27a0",
   "metadata": {},
   "outputs": [],
   "source": [
    "# a 3d array of shape (2,2,2)\n",
    "arr3d = np.random.rand(2,2,2)"
   ]
  },
  {
   "cell_type": "code",
   "execution_count": 37,
   "id": "a0986a3a",
   "metadata": {},
   "outputs": [
    {
     "data": {
      "text/plain": [
       "8"
      ]
     },
     "execution_count": 37,
     "metadata": {},
     "output_type": "execute_result"
    }
   ],
   "source": [
    "arr3d.size"
   ]
  },
  {
   "cell_type": "code",
   "execution_count": 38,
   "id": "0c2460cc",
   "metadata": {},
   "outputs": [
    {
     "data": {
      "text/plain": [
       "array([[[0.9725354 , 0.45510409],\n",
       "        [0.8859601 , 0.92318432]],\n",
       "\n",
       "       [[0.12532091, 0.9282865 ],\n",
       "        [0.66964518, 0.21647241]]])"
      ]
     },
     "execution_count": 38,
     "metadata": {},
     "output_type": "execute_result"
    }
   ],
   "source": [
    "arr3d"
   ]
  },
  {
   "cell_type": "markdown",
   "id": "09d3a611",
   "metadata": {},
   "source": [
    "We can print the first row:"
   ]
  },
  {
   "cell_type": "code",
   "execution_count": 39,
   "id": "5665472e",
   "metadata": {},
   "outputs": [
    {
     "data": {
      "text/plain": [
       "array([[0.9725354 , 0.45510409],\n",
       "       [0.8859601 , 0.92318432]])"
      ]
     },
     "execution_count": 39,
     "metadata": {},
     "output_type": "execute_result"
    }
   ],
   "source": [
    "arr3d[0,:,:]"
   ]
  },
  {
   "cell_type": "code",
   "execution_count": null,
   "id": "335492de",
   "metadata": {},
   "outputs": [],
   "source": [
    "np.random.randint?"
   ]
  },
  {
   "cell_type": "markdown",
   "id": "97c995c9",
   "metadata": {},
   "source": [
    "<div class=\"alert alert-block alert-success\"><b> Check your understanding: </b>\n",
    "    \n",
    "- Create a 3D array of all 5s.\n",
    "- Create a 2D array of random integers between 1 and 100\n",
    "- Create an array of shape (4,3,2)\n"
   ]
  },
  {
   "cell_type": "code",
   "execution_count": 40,
   "id": "a4682496",
   "metadata": {},
   "outputs": [
    {
     "data": {
      "text/plain": [
       "array([[[5., 5.],\n",
       "        [5., 5.]],\n",
       "\n",
       "       [[5., 5.],\n",
       "        [5., 5.]]])"
      ]
     },
     "execution_count": 40,
     "metadata": {},
     "output_type": "execute_result"
    }
   ],
   "source": [
    "np.ones((2,2,2)) *5 "
   ]
  },
  {
   "cell_type": "code",
   "execution_count": 41,
   "id": "3b6630b3",
   "metadata": {},
   "outputs": [
    {
     "data": {
      "text/plain": [
       "array([[[5, 5],\n",
       "        [5, 5]],\n",
       "\n",
       "       [[5, 5],\n",
       "        [5, 5]]])"
      ]
     },
     "execution_count": 41,
     "metadata": {},
     "output_type": "execute_result"
    }
   ],
   "source": [
    "np.full((2,2,2), 5)"
   ]
  },
  {
   "cell_type": "code",
   "execution_count": 48,
   "id": "8d751a2d",
   "metadata": {},
   "outputs": [
    {
     "data": {
      "text/plain": [
       "array([[29, 21, 83,  3, 72],\n",
       "       [67, 30, 81, 47, 62]])"
      ]
     },
     "execution_count": 48,
     "metadata": {},
     "output_type": "execute_result"
    }
   ],
   "source": [
    "arr = np.random.randint(low=1, high=100, size=(2,5))\n",
    "arr"
   ]
  },
  {
   "cell_type": "code",
   "execution_count": 45,
   "id": "3abd0c57",
   "metadata": {},
   "outputs": [
    {
     "ename": "ValueError",
     "evalue": "cannot reshape array of size 10 into shape (3,5)",
     "output_type": "error",
     "traceback": [
      "\u001b[0;31m---------------------------------------------------------------------------\u001b[0m",
      "\u001b[0;31mValueError\u001b[0m                                Traceback (most recent call last)",
      "Cell \u001b[0;32mIn[45], line 1\u001b[0m\n\u001b[0;32m----> 1\u001b[0m \u001b[43marr\u001b[49m\u001b[38;5;241;43m.\u001b[39;49m\u001b[43mreshape\u001b[49m\u001b[43m(\u001b[49m\u001b[38;5;241;43m3\u001b[39;49m\u001b[43m,\u001b[49m\u001b[38;5;241;43m5\u001b[39;49m\u001b[43m)\u001b[49m\n",
      "\u001b[0;31mValueError\u001b[0m: cannot reshape array of size 10 into shape (3,5)"
     ]
    }
   ],
   "source": [
    "arr.reshape(2,5)"
   ]
  },
  {
   "cell_type": "code",
   "execution_count": null,
   "id": "88bd020e",
   "metadata": {},
   "outputs": [],
   "source": [
    "arr"
   ]
  },
  {
   "cell_type": "markdown",
   "id": "a7c333f0",
   "metadata": {},
   "source": [
    "### Reshaping arrays\n",
    "\n",
    "We can change the number of elements in each dimension, increasing or removing dimensions:"
   ]
  },
  {
   "cell_type": "code",
   "execution_count": null,
   "id": "ece8852e",
   "metadata": {},
   "outputs": [],
   "source": [
    "rand20 = np.random.rand(24)"
   ]
  },
  {
   "cell_type": "code",
   "execution_count": null,
   "id": "19135475",
   "metadata": {},
   "outputs": [],
   "source": [
    "rand20.reshape(2,3,4) # from 1D to 3D"
   ]
  },
  {
   "cell_type": "markdown",
   "id": "9ce55b45",
   "metadata": {},
   "source": [
    "**NOTE:** Reshaping an array creates a new array but it doesn't *modify in place* the original one! "
   ]
  },
  {
   "cell_type": "code",
   "execution_count": null,
   "id": "0f5f1ab9",
   "metadata": {},
   "outputs": [],
   "source": [
    "rand20 # 1D, same as before"
   ]
  },
  {
   "cell_type": "code",
   "execution_count": null,
   "id": "8e547572",
   "metadata": {},
   "outputs": [],
   "source": [
    "rand20_2D = rand20.reshape(2,3,4) # now i'm actually creating a new version of the original array"
   ]
  },
  {
   "cell_type": "code",
   "execution_count": null,
   "id": "af7355f4",
   "metadata": {},
   "outputs": [],
   "source": []
  },
  {
   "cell_type": "markdown",
   "id": "55d5318b",
   "metadata": {},
   "source": [
    "## Playing with atomic coordinates\n",
    "\n",
    "We will start with reading in some data from an xyz file. The following block will read a file called `water.xyz` and saving two numpy arrays - one called `coordinates` with the molecular coordinates, and another called `symbols` with the element symbols."
   ]
  },
  {
   "cell_type": "code",
   "execution_count": null,
   "id": "b59ed17c",
   "metadata": {},
   "outputs": [],
   "source": []
  },
  {
   "cell_type": "code",
   "execution_count": 49,
   "id": "9d4d7675",
   "metadata": {},
   "outputs": [],
   "source": [
    "#                           X               Y           Z\n",
    "water_xyz = np.array([[0.00000,       0.00000,       0.11779],   # oxygen \n",
    "                      [0.00000,       0.75545,      -0.47116],   # hydrogen\n",
    "                      [0.00000,      -0.75545,      -0.47116]])  # hydrogen"
   ]
  },
  {
   "cell_type": "code",
   "execution_count": 50,
   "id": "ca93372f",
   "metadata": {},
   "outputs": [
    {
     "name": "stdout",
     "output_type": "stream",
     "text": [
      "[[ 0.       0.       0.11779]\n",
      " [ 0.       0.75545 -0.47116]\n",
      " [ 0.      -0.75545 -0.47116]]\n"
     ]
    }
   ],
   "source": [
    "print(water_xyz)"
   ]
  },
  {
   "cell_type": "markdown",
   "id": "3f43f032",
   "metadata": {},
   "source": [
    "<div class=\"alert alert-block alert-success\"><b>Check your understanding: </b>\n",
    "    \n",
    "Slice the `water_xyz` array to create a new array called `oxygen_xyz` which has the x, y, and z coordinate for the oxygen atom. </div>"
   ]
  },
  {
   "cell_type": "code",
   "execution_count": 51,
   "id": "61c46a73",
   "metadata": {},
   "outputs": [],
   "source": [
    "oxygen_xyz = water_xyz[0, :]"
   ]
  },
  {
   "cell_type": "code",
   "execution_count": 52,
   "id": "5250f216",
   "metadata": {},
   "outputs": [
    {
     "data": {
      "text/plain": [
       "array([0.     , 0.     , 0.11779])"
      ]
     },
     "execution_count": 52,
     "metadata": {},
     "output_type": "execute_result"
    }
   ],
   "source": [
    "oxygen_xyz"
   ]
  },
  {
   "cell_type": "markdown",
   "id": "92452478",
   "metadata": {},
   "source": [
    "### Arrays vs Lists\n",
    "\n",
    "Now that we have the oxygen coordinates, let's imagine we wanted to do something to it. Let's imagine that we wanted to translate the position of the oxygen atom. We want to translate it 0.1 units in the x direction and -0.1 units in the y direction.\n",
    "\n",
    "We could do this by defining a translation vector:"
   ]
  },
  {
   "cell_type": "code",
   "execution_count": 53,
   "id": "7fc9af0d",
   "metadata": {},
   "outputs": [],
   "source": [
    "translation_vector = [0.1, -0.1, 0]"
   ]
  },
  {
   "cell_type": "markdown",
   "id": "c780101d",
   "metadata": {},
   "source": [
    "We could use a `for` loop to individually modify each coordinate:"
   ]
  },
  {
   "cell_type": "code",
   "execution_count": 54,
   "id": "1d72de9a",
   "metadata": {},
   "outputs": [
    {
     "name": "stdout",
     "output_type": "stream",
     "text": [
      "[0.1, -0.1, 0.11779]\n"
     ]
    }
   ],
   "source": [
    "oxygen_xyz_new = []\n",
    "\n",
    "for dim in range(3):\n",
    "    new_position = oxygen_xyz[dim] + translation_vector[dim]\n",
    "    oxygen_xyz_new.append(new_position)\n",
    "\n",
    "print(oxygen_xyz_new)"
   ]
  },
  {
   "cell_type": "markdown",
   "id": "256dc3c8",
   "metadata": {},
   "source": [
    "However, since `oxygen_xyz` is a `numpy` array, we could have done this differently..\n",
    "\n",
    "\n",
    "**Unlike for lists, you can easily perform element-wise operations on numpy arrays without loops.** You can make your code much faster if you use `numpy`'s element-by-element operations instead of loops. \n",
    "\n",
    "`numpy` is smart. If given two arrays (or a list and an array), it will guess that you want to do element-wise addition. \n",
    "\n",
    "In the `for` loop we just wrote, we actually wanted an answer that looked like\n",
    "\n",
    "$[x_1 + x_2, y_1+ y_2, z_1+z_2] $\n",
    "\n",
    "where $[x_1, x_2, x_3]$ was `oxygen_xyz` and $[y_1, y_2, y_3]$ was `translation_vector`. \n",
    "\n",
    "\n",
    "Using the power of `numpy` arrays, we could have instead written:"
   ]
  },
  {
   "cell_type": "code",
   "execution_count": 55,
   "id": "f7b2d2ce",
   "metadata": {},
   "outputs": [
    {
     "name": "stdout",
     "output_type": "stream",
     "text": [
      "[ 0.1     -0.1      0.11779]\n"
     ]
    }
   ],
   "source": [
    "oxygen_xyz_new = oxygen_xyz + translation_vector # element-wise addition\n",
    "print(oxygen_xyz_new)"
   ]
  },
  {
   "cell_type": "markdown",
   "id": "428066e2",
   "metadata": {},
   "source": [
    "`numpy` is smart - it looked at the shape of both of these variables, saw they were the same shape, and assumed we wanted to do element-wise operation. \n",
    "\n",
    "You could have also subtracted, multiplied, or divided these, and it would have performed element-wise operations.\n",
    "\n",
    "Note, that this only worked because `oxygen_xyz` was a `numpy` array."
   ]
  },
  {
   "cell_type": "code",
   "execution_count": 56,
   "id": "637c53be",
   "metadata": {},
   "outputs": [
    {
     "data": {
      "text/plain": [
       "numpy.ndarray"
      ]
     },
     "execution_count": 56,
     "metadata": {},
     "output_type": "execute_result"
    }
   ],
   "source": [
    "type(oxygen_xyz)"
   ]
  },
  {
   "cell_type": "markdown",
   "id": "e171815d",
   "metadata": {},
   "source": [
    "What happens if we try this with a list?"
   ]
  },
  {
   "cell_type": "code",
   "execution_count": 57,
   "id": "e7a73dd0",
   "metadata": {},
   "outputs": [
    {
     "data": {
      "text/plain": [
       "list"
      ]
     },
     "execution_count": 57,
     "metadata": {},
     "output_type": "execute_result"
    }
   ],
   "source": [
    "oxygen_list = list(oxygen_xyz)\n",
    "type(oxygen_list)"
   ]
  },
  {
   "cell_type": "code",
   "execution_count": 58,
   "id": "f3cf5e15",
   "metadata": {},
   "outputs": [
    {
     "data": {
      "text/plain": [
       "[0.0, 0.0, 0.11779, 0.1, -0.1, 0]"
      ]
     },
     "execution_count": 58,
     "metadata": {},
     "output_type": "execute_result"
    }
   ],
   "source": [
    "oxygen_translation = oxygen_list + translation_vector\n",
    "oxygen_translation"
   ]
  },
  {
   "cell_type": "code",
   "execution_count": 59,
   "id": "10eb0b3f",
   "metadata": {},
   "outputs": [
    {
     "data": {
      "text/plain": [
       "list"
      ]
     },
     "execution_count": 59,
     "metadata": {},
     "output_type": "execute_result"
    }
   ],
   "source": [
    "type(oxygen_translation)"
   ]
  },
  {
   "cell_type": "markdown",
   "id": "f3628d71",
   "metadata": {},
   "source": [
    "We can then convert between list and array:"
   ]
  },
  {
   "cell_type": "code",
   "execution_count": null,
   "id": "a99b6b90",
   "metadata": {},
   "outputs": [],
   "source": [
    "np.array(oxygen_translation)"
   ]
  },
  {
   "cell_type": "markdown",
   "id": "18408514",
   "metadata": {},
   "source": [
    "Side note: if you wanted to concatenate the two where `oxygen_xyz` was a numpy array, you could have done so with the `np.concatenate` function:"
   ]
  },
  {
   "cell_type": "code",
   "execution_count": 60,
   "id": "6d0e0d88",
   "metadata": {},
   "outputs": [
    {
     "data": {
      "text/plain": [
       "array([ 0.     ,  0.     ,  0.11779,  0.1    , -0.1    ,  0.     ])"
      ]
     },
     "execution_count": 60,
     "metadata": {},
     "output_type": "execute_result"
    }
   ],
   "source": [
    "np.concatenate((oxygen_xyz, translation_vector))"
   ]
  },
  {
   "cell_type": "code",
   "execution_count": 62,
   "id": "53cccdd6",
   "metadata": {},
   "outputs": [
    {
     "data": {
      "text/plain": [
       "array([[5., 5.],\n",
       "       [5., 5.]])"
      ]
     },
     "execution_count": 62,
     "metadata": {},
     "output_type": "execute_result"
    }
   ],
   "source": [
    "np.ones((2,2)) *5 # this is element-wise multiplication  "
   ]
  },
  {
   "cell_type": "markdown",
   "id": "7c47770c",
   "metadata": {},
   "source": [
    "<div class=\"alert alert-block alert-info\">\n",
    "    <b>Key points:</b> \n",
    "    \n",
    "You can add two arrays together, multiply arrays by scalars, or do element-wise multiplication of arrays.\n",
    "\n",
    "For example, you can multiply two numpy arrays to get their element-wise product. "
   ]
  },
  {
   "cell_type": "markdown",
   "id": "eb1c35b8",
   "metadata": {},
   "source": [
    "<div class=\"alert alert-block alert-success\"><b>Check your understanding: </b>\n",
    "\n",
    "Consider the variable definitions for `a1` and `a2`. What does each print statment result in?\n",
    "\n",
    "```\n",
    "a1 = np.array([2, 1, 0])\n",
    "a2 = np.array([1, 3, 5])\n",
    "\n",
    "print(a1 * a2)\n",
    "print(a1 + a2)\n",
    "```"
   ]
  },
  {
   "cell_type": "code",
   "execution_count": 63,
   "id": "249f0ebf",
   "metadata": {},
   "outputs": [],
   "source": [
    "a1 = np.array([2, 1, 0])"
   ]
  },
  {
   "cell_type": "code",
   "execution_count": 64,
   "id": "737b1443",
   "metadata": {},
   "outputs": [],
   "source": [
    "a2 = np.array([1, 3, 5])"
   ]
  },
  {
   "cell_type": "code",
   "execution_count": 66,
   "id": "fc22227e",
   "metadata": {},
   "outputs": [
    {
     "data": {
      "text/plain": [
       "array([2, 3, 0])"
      ]
     },
     "execution_count": 66,
     "metadata": {},
     "output_type": "execute_result"
    }
   ],
   "source": [
    "a1 * a2 "
   ]
  },
  {
   "cell_type": "code",
   "execution_count": 67,
   "id": "203fc4d8",
   "metadata": {},
   "outputs": [],
   "source": [
    "a1 = list(a1)\n",
    "a2 = list(a2)"
   ]
  },
  {
   "cell_type": "code",
   "execution_count": 69,
   "id": "d037903a",
   "metadata": {},
   "outputs": [
    {
     "data": {
      "text/plain": [
       "[2, 1, 0, 1, 3, 5]"
      ]
     },
     "execution_count": 69,
     "metadata": {},
     "output_type": "execute_result"
    }
   ],
   "source": [
    "a1 + a2 "
   ]
  },
  {
   "cell_type": "markdown",
   "id": "b7e169a2",
   "metadata": {
    "cell_style": "center"
   },
   "source": [
    "For the first line, the first element is `a1[0]*a2[0]`, the second element is `a1[1]*a2[1]`, and the third element is `a1[2]*a2[2]`.\n",
    "\n",
    "For the second line, the first element is `a1[0]+a2[0]`, second is `a1[1]+a2[1]`, third is `a1[2]+a2[2]`"
   ]
  },
  {
   "cell_type": "markdown",
   "id": "c7652a2c",
   "metadata": {},
   "source": [
    "<div class=\"alert alert-block alert-success\"><b>Check your understanding: </b>\n",
    "    \n",
    "What happens if `a1` and `a2` are lists? Consider each `print` statement separately.\n"
   ]
  },
  {
   "cell_type": "code",
   "execution_count": null,
   "id": "935db81d",
   "metadata": {
    "scrolled": true
   },
   "outputs": [],
   "source": []
  },
  {
   "cell_type": "code",
   "execution_count": null,
   "id": "3b7104e6",
   "metadata": {
    "cell_style": "center",
    "scrolled": true
   },
   "outputs": [],
   "source": []
  },
  {
   "cell_type": "code",
   "execution_count": null,
   "id": "d41a9b3d",
   "metadata": {
    "cell_style": "center",
    "scrolled": true
   },
   "outputs": [],
   "source": []
  },
  {
   "cell_type": "markdown",
   "id": "d88a3163",
   "metadata": {
    "cell_style": "center"
   },
   "source": [
    "The first print statement results in concatenation of the lists.\n",
    "\n",
    "Second print statement results in a `TypeError`. This is because two lists cannot be multiplied. If you wanted to do element-wise multiplication, you would have to use `numpy` arrays (like in the previous exercise.)"
   ]
  },
  {
   "cell_type": "markdown",
   "id": "d0d04d00",
   "metadata": {},
   "source": [
    "## Logical comparisons\n",
    "\n",
    "We can also do logical comparisons on whole arrays. For example, to find out if values in the array are greater than 0, we can write:"
   ]
  },
  {
   "cell_type": "code",
   "execution_count": 75,
   "id": "d502900a",
   "metadata": {},
   "outputs": [
    {
     "data": {
      "text/plain": [
       "array([[ 0.     ,  0.     ,  0.11779],\n",
       "       [ 0.     ,  0.75545, -0.47116],\n",
       "       [ 0.     , -0.75545, -0.47116]])"
      ]
     },
     "execution_count": 75,
     "metadata": {},
     "output_type": "execute_result"
    }
   ],
   "source": [
    "water_xyz"
   ]
  },
  {
   "cell_type": "code",
   "execution_count": 71,
   "id": "be9e199c",
   "metadata": {},
   "outputs": [
    {
     "name": "stdout",
     "output_type": "stream",
     "text": [
      "[[False False  True]\n",
      " [False  True False]\n",
      " [False False False]]\n"
     ]
    }
   ],
   "source": [
    "print(water_xyz > 0)"
   ]
  },
  {
   "cell_type": "markdown",
   "id": "9fd6ebf0",
   "metadata": {},
   "source": [
    "This will print either `True` or `False` for each array element depending on whether the value of that element is greater than 10 or not."
   ]
  },
  {
   "cell_type": "markdown",
   "id": "a2798b93",
   "metadata": {},
   "source": [
    "To get every value in the array that is greater than 10, we can use this as a list of indices we want, or a *slice*."
   ]
  },
  {
   "cell_type": "code",
   "execution_count": 76,
   "id": "f97bae3b",
   "metadata": {},
   "outputs": [
    {
     "data": {
      "text/plain": [
       "array([0.11779, 0.75545])"
      ]
     },
     "execution_count": 76,
     "metadata": {},
     "output_type": "execute_result"
    }
   ],
   "source": [
    "water_xyz[water_xyz>0]"
   ]
  },
  {
   "cell_type": "code",
   "execution_count": 77,
   "id": "338d18e4",
   "metadata": {},
   "outputs": [
    {
     "name": "stdout",
     "output_type": "stream",
     "text": [
      "[0.11779 0.75545]\n"
     ]
    }
   ],
   "source": [
    "greater_than_0_values = water_xyz[water_xyz>0]\n",
    "print(greater_than_0_values)"
   ]
  },
  {
   "cell_type": "markdown",
   "id": "8e25335e",
   "metadata": {},
   "source": [
    "<div class=\"alert alert-block alert-success\"><b>Check your understanding: </b>\n",
    "    \n",
    "- Create a 2D arrays of shape (3,3) with random numbers between -1 and 1. \n",
    "- Check whether each element in the array is larger or smaller than zero\n",
    "    \n",
    "**Hint 1:** you can use `np.random.uniform`, check its docstring!\n",
    "\n",
    "**Hint 2:** you can first create the array with the correct number of elements, and then `reshape` it."
   ]
  },
  {
   "cell_type": "code",
   "execution_count": null,
   "id": "0eaca9a7",
   "metadata": {},
   "outputs": [],
   "source": []
  },
  {
   "cell_type": "markdown",
   "id": "2b648b75",
   "metadata": {},
   "source": [
    "## Sorted arrays\n",
    "\n",
    "You can sort array element with `np.sort`. Here we create 10 random numbers and sort them in ascending order:"
   ]
  },
  {
   "cell_type": "code",
   "execution_count": null,
   "id": "65b2da7d",
   "metadata": {},
   "outputs": [],
   "source": [
    "rand10 = np.random.rand(10)\n",
    "rand10"
   ]
  },
  {
   "cell_type": "code",
   "execution_count": null,
   "id": "9d5a55fc",
   "metadata": {},
   "outputs": [],
   "source": [
    "np.sort(rand10)"
   ]
  },
  {
   "cell_type": "markdown",
   "id": "5a373cd7",
   "metadata": {},
   "source": [
    "## Array Axes\n",
    "\n",
    "<div class=\"alert alert-block alert-info\">\n",
    "    <b>Key point:</b> \n",
    "    \n",
    "    \n",
    "A `numpy` array can be thought of like a coordinates system. Axis 0 runs along the *ROWS*, while axis 1 runs along the *COLUMNS*."
   ]
  },
  {
   "cell_type": "markdown",
   "id": "20309241",
   "metadata": {},
   "source": [
    "\n",
    "\n",
    "<img src=\"https://i0.wp.com/andrewm4894.com/wp-content/uploads/2020/10/Annotation-2020-10-15-133235.jpg?w=486&ssl=1\">\n",
    "\n",
    "### Geometric center\n",
    "\n",
    "Imagine we wanted to calculate the geometric center of our molecule. To do this, we would need to get the average x coordinate, the average y coordinate, and the average z coordinate.\n",
    "\n",
    "We could calculate the mean of each column of an array using the `range` function and a `for` loop. This reminds  us of the `range` function and how `for` loops worked:"
   ]
  },
  {
   "cell_type": "code",
   "execution_count": 78,
   "id": "6973bcac",
   "metadata": {},
   "outputs": [],
   "source": [
    "center = []\n",
    "\n",
    "for dim in range(3):\n",
    "    dim_mean = np.average(water_xyz[:, dim])\n",
    "    center.append(dim_mean)"
   ]
  },
  {
   "cell_type": "code",
   "execution_count": 79,
   "id": "2e50d941",
   "metadata": {},
   "outputs": [
    {
     "data": {
      "text/plain": [
       "[0.0, 0.0, -0.27484333333333333]"
      ]
     },
     "execution_count": 79,
     "metadata": {},
     "output_type": "execute_result"
    }
   ],
   "source": [
    "center"
   ]
  },
  {
   "cell_type": "code",
   "execution_count": 81,
   "id": "be263413",
   "metadata": {},
   "outputs": [
    {
     "data": {
      "text/plain": [
       "-0.09161444444444444"
      ]
     },
     "execution_count": 81,
     "metadata": {},
     "output_type": "execute_result"
    }
   ],
   "source": [
    "np.average(water_xyz)"
   ]
  },
  {
   "cell_type": "markdown",
   "id": "9d17d187",
   "metadata": {},
   "source": [
    "However, the `numpy.average` function will let us do that without a `for` loop."
   ]
  },
  {
   "cell_type": "code",
   "execution_count": 82,
   "id": "629e4f82",
   "metadata": {},
   "outputs": [
    {
     "data": {
      "text/plain": [
       "array([ 0.        ,  0.        , -0.27484333])"
      ]
     },
     "execution_count": 82,
     "metadata": {},
     "output_type": "execute_result"
    }
   ],
   "source": [
    "np.average(water_xyz, axis= 0) # center of geometry"
   ]
  },
  {
   "cell_type": "markdown",
   "id": "33832106",
   "metadata": {},
   "source": [
    "<div class=\"alert alert-block alert-success\"><b> Check your understanding: </b>\n",
    "    \n",
    "    \n",
    "Check out the [numpy documentation](https://docs.scipy.org/doc/numpy/reference/generated/numpy.average.html) for the `average` function. Can you figure out what argument we might change to get the average of each column?"
   ]
  },
  {
   "cell_type": "code",
   "execution_count": null,
   "id": "6bc9d6c8",
   "metadata": {},
   "outputs": [],
   "source": [
    "np.average?"
   ]
  },
  {
   "cell_type": "markdown",
   "id": "35479e44",
   "metadata": {
    "cell_style": "center"
   },
   "source": [
    "We will use the `axis` argument. If we do not specify `axis`, the mean of the entire array is computed. \n",
    "\n",
    "A 2-dimensional array has two corresponding axes: the first running vertically downwards across rows (axis 0, in our case ), and the second running horizontally across columns (axis 1).\n",
    "\n",
    "For the `axis` argument, rows correspond to axis 1, and columns correspond to axis 0."
   ]
  },
  {
   "cell_type": "code",
   "execution_count": null,
   "id": "d797a5b7",
   "metadata": {},
   "outputs": [],
   "source": []
  },
  {
   "cell_type": "code",
   "execution_count": null,
   "id": "8be4c13a",
   "metadata": {},
   "outputs": [],
   "source": []
  },
  {
   "cell_type": "markdown",
   "id": "1b913915",
   "metadata": {},
   "source": [
    "Now, the `average` function has returned a `numpy` array to us with the same number of elements as we have columns. The 0th element of the variable `column_averages` corresponds the mean of column index 0, the second number (index 1) corresponds to the mean of column index 1. "
   ]
  },
  {
   "cell_type": "markdown",
   "id": "cb7adbf8",
   "metadata": {},
   "source": [
    "<div class=\"alert alert-block alert-success\"><b>Task 2.1: </b>\n",
    "What does the following code do?\n",
    "\n",
    "Assume we have imported `numpy` as `np`.\n",
    "\n",
    "1. Write a short comment for each line.\n",
    "\n",
    "2. Replace the variable `R` with your k-number.  (If your k-number doesn't work, try the closest even number)\n",
    "\n",
    "3. Copy the resulting output from the print statement.\n",
    "    \n",
    "```\n",
    "a = np.arange(1,R,2)\n",
    "a_r = a.reshape(2, a.size//2)\n",
    "a_mean = a_r.mean(axis=1)\n",
    "print(a_mean)\n",
    "``` "
   ]
  },
  {
   "cell_type": "markdown",
   "id": "c964e3eb",
   "metadata": {},
   "source": [
    "### Center of mass\n",
    "\n",
    "What if we wanted to calculate the center of mass of our water molecule? Let's first define the atom masses for our 3 atoms:"
   ]
  },
  {
   "cell_type": "code",
   "execution_count": 83,
   "id": "5e6ac64d",
   "metadata": {},
   "outputs": [],
   "source": [
    "water_masses = [15.9994, 1.00784, 1.00784] \n",
    "#              oxygen, hydrogen, hydrogen"
   ]
  },
  {
   "cell_type": "markdown",
   "id": "a0ab9514",
   "metadata": {},
   "source": [
    "The `average` function has another optional argument that comes in handy: `weights`:"
   ]
  },
  {
   "cell_type": "code",
   "execution_count": 84,
   "id": "6c640100",
   "metadata": {},
   "outputs": [
    {
     "name": "stdout",
     "output_type": "stream",
     "text": [
      "\u001b[0;31mSignature:\u001b[0m\n",
      "\u001b[0mnp\u001b[0m\u001b[0;34m.\u001b[0m\u001b[0maverage\u001b[0m\u001b[0;34m(\u001b[0m\u001b[0;34m\u001b[0m\n",
      "\u001b[0;34m\u001b[0m    \u001b[0ma\u001b[0m\u001b[0;34m,\u001b[0m\u001b[0;34m\u001b[0m\n",
      "\u001b[0;34m\u001b[0m    \u001b[0maxis\u001b[0m\u001b[0;34m=\u001b[0m\u001b[0;32mNone\u001b[0m\u001b[0;34m,\u001b[0m\u001b[0;34m\u001b[0m\n",
      "\u001b[0;34m\u001b[0m    \u001b[0mweights\u001b[0m\u001b[0;34m=\u001b[0m\u001b[0;32mNone\u001b[0m\u001b[0;34m,\u001b[0m\u001b[0;34m\u001b[0m\n",
      "\u001b[0;34m\u001b[0m    \u001b[0mreturned\u001b[0m\u001b[0;34m=\u001b[0m\u001b[0;32mFalse\u001b[0m\u001b[0;34m,\u001b[0m\u001b[0;34m\u001b[0m\n",
      "\u001b[0;34m\u001b[0m    \u001b[0;34m*\u001b[0m\u001b[0;34m,\u001b[0m\u001b[0;34m\u001b[0m\n",
      "\u001b[0;34m\u001b[0m    \u001b[0mkeepdims\u001b[0m\u001b[0;34m=\u001b[0m\u001b[0;34m<\u001b[0m\u001b[0mno\u001b[0m \u001b[0mvalue\u001b[0m\u001b[0;34m>\u001b[0m\u001b[0;34m,\u001b[0m\u001b[0;34m\u001b[0m\n",
      "\u001b[0;34m\u001b[0m\u001b[0;34m)\u001b[0m\u001b[0;34m\u001b[0m\u001b[0;34m\u001b[0m\u001b[0m\n",
      "\u001b[0;31mDocstring:\u001b[0m\n",
      "Compute the weighted average along the specified axis.\n",
      "\n",
      "Parameters\n",
      "----------\n",
      "a : array_like\n",
      "    Array containing data to be averaged. If `a` is not an array, a\n",
      "    conversion is attempted.\n",
      "axis : None or int or tuple of ints, optional\n",
      "    Axis or axes along which to average `a`.  The default,\n",
      "    axis=None, will average over all of the elements of the input array.\n",
      "    If axis is negative it counts from the last to the first axis.\n",
      "\n",
      "    .. versionadded:: 1.7.0\n",
      "\n",
      "    If axis is a tuple of ints, averaging is performed on all of the axes\n",
      "    specified in the tuple instead of a single axis or all the axes as\n",
      "    before.\n",
      "weights : array_like, optional\n",
      "    An array of weights associated with the values in `a`. Each value in\n",
      "    `a` contributes to the average according to its associated weight.\n",
      "    The weights array can either be 1-D (in which case its length must be\n",
      "    the size of `a` along the given axis) or of the same shape as `a`.\n",
      "    If `weights=None`, then all data in `a` are assumed to have a\n",
      "    weight equal to one.  The 1-D calculation is::\n",
      "\n",
      "        avg = sum(a * weights) / sum(weights)\n",
      "\n",
      "    The only constraint on `weights` is that `sum(weights)` must not be 0.\n",
      "returned : bool, optional\n",
      "    Default is `False`. If `True`, the tuple (`average`, `sum_of_weights`)\n",
      "    is returned, otherwise only the average is returned.\n",
      "    If `weights=None`, `sum_of_weights` is equivalent to the number of\n",
      "    elements over which the average is taken.\n",
      "keepdims : bool, optional\n",
      "    If this is set to True, the axes which are reduced are left\n",
      "    in the result as dimensions with size one. With this option,\n",
      "    the result will broadcast correctly against the original `a`.\n",
      "    *Note:* `keepdims` will not work with instances of `numpy.matrix`\n",
      "    or other classes whose methods do not support `keepdims`.\n",
      "\n",
      "    .. versionadded:: 1.23.0\n",
      "\n",
      "Returns\n",
      "-------\n",
      "retval, [sum_of_weights] : array_type or double\n",
      "    Return the average along the specified axis. When `returned` is `True`,\n",
      "    return a tuple with the average as the first element and the sum\n",
      "    of the weights as the second element. `sum_of_weights` is of the\n",
      "    same type as `retval`. The result dtype follows a genereal pattern.\n",
      "    If `weights` is None, the result dtype will be that of `a` , or ``float64``\n",
      "    if `a` is integral. Otherwise, if `weights` is not None and `a` is non-\n",
      "    integral, the result type will be the type of lowest precision capable of\n",
      "    representing values of both `a` and `weights`. If `a` happens to be\n",
      "    integral, the previous rules still applies but the result dtype will\n",
      "    at least be ``float64``.\n",
      "\n",
      "Raises\n",
      "------\n",
      "ZeroDivisionError\n",
      "    When all weights along axis are zero. See `numpy.ma.average` for a\n",
      "    version robust to this type of error.\n",
      "TypeError\n",
      "    When the length of 1D `weights` is not the same as the shape of `a`\n",
      "    along axis.\n",
      "\n",
      "See Also\n",
      "--------\n",
      "mean\n",
      "\n",
      "ma.average : average for masked arrays -- useful if your data contains\n",
      "             \"missing\" values\n",
      "numpy.result_type : Returns the type that results from applying the\n",
      "                    numpy type promotion rules to the arguments.\n",
      "\n",
      "Examples\n",
      "--------\n",
      ">>> data = np.arange(1, 5)\n",
      ">>> data\n",
      "array([1, 2, 3, 4])\n",
      ">>> np.average(data)\n",
      "2.5\n",
      ">>> np.average(np.arange(1, 11), weights=np.arange(10, 0, -1))\n",
      "4.0\n",
      "\n",
      ">>> data = np.arange(6).reshape((3, 2))\n",
      ">>> data\n",
      "array([[0, 1],\n",
      "       [2, 3],\n",
      "       [4, 5]])\n",
      ">>> np.average(data, axis=1, weights=[1./4, 3./4])\n",
      "array([0.75, 2.75, 4.75])\n",
      ">>> np.average(data, weights=[1./4, 3./4])\n",
      "Traceback (most recent call last):\n",
      "    ...\n",
      "TypeError: Axis must be specified when shapes of a and weights differ.\n",
      "\n",
      ">>> a = np.ones(5, dtype=np.float128)\n",
      ">>> w = np.ones(5, dtype=np.complex64)\n",
      ">>> avg = np.average(a, weights=w)\n",
      ">>> print(avg.dtype)\n",
      "complex256\n",
      "\n",
      "With ``keepdims=True``, the following result has shape (3, 1).\n",
      "\n",
      ">>> np.average(data, axis=1, keepdims=True)\n",
      "array([[0.5],\n",
      "       [2.5],\n",
      "       [4.5]])\n",
      "\u001b[0;31mFile:\u001b[0m      ~/miniconda3/envs/teach/lib/python3.10/site-packages/numpy/lib/function_base.py\n",
      "\u001b[0;31mType:\u001b[0m      function"
     ]
    }
   ],
   "source": [
    "np.average?"
   ]
  },
  {
   "cell_type": "code",
   "execution_count": 85,
   "id": "92d4fcff",
   "metadata": {},
   "outputs": [],
   "source": [
    "center_of_mass = np.average(water_xyz, # water coords\n",
    "                 axis=0,               # specify axis = average x, y and z\n",
    "                 weights=water_masses) # weighted average according to the atomic masses"
   ]
  },
  {
   "cell_type": "code",
   "execution_count": 86,
   "id": "da3ce5ff",
   "metadata": {},
   "outputs": [
    {
     "data": {
      "text/plain": [
       "array([0.        , 0.        , 0.05189328])"
      ]
     },
     "execution_count": 86,
     "metadata": {},
     "output_type": "execute_result"
    }
   ],
   "source": [
    "center_of_mass"
   ]
  },
  {
   "cell_type": "markdown",
   "id": "df1432ed",
   "metadata": {},
   "source": [
    "## Calculating bonds with numpy \n",
    "\n",
    "Here is a function to calculate bond length that doesn't use `numpy` array features:"
   ]
  },
  {
   "cell_type": "code",
   "execution_count": 87,
   "id": "6540d23b",
   "metadata": {},
   "outputs": [],
   "source": [
    "def calc_bond(rA, rB):\n",
    "    \"\"\"Calculate the distance between points A and B\"\"\"\n",
    "    x_dist = (rA[0] - rB[0]) ** 2\n",
    "    y_dist = (rA[1] - rB[1]) ** 2\n",
    "    z_dist = (rA[2] - rB[2]) ** 2\n",
    "    \n",
    "    bond_length = np.sqrt(x_dist + y_dist + z_dist)\n",
    "    \n",
    "    return bond_length"
   ]
  },
  {
   "cell_type": "code",
   "execution_count": 88,
   "id": "043ed54d",
   "metadata": {},
   "outputs": [],
   "source": [
    "atom_1 = np.array([ 0, 0.5, 0.4])           # atom 1 coords\n",
    "atom_2 = np.array([ -0.4, 0.1, -0.2])       # atom 2 coords"
   ]
  },
  {
   "cell_type": "code",
   "execution_count": 91,
   "id": "44edd302",
   "metadata": {},
   "outputs": [],
   "source": [
    "v1 = (atom_1 - atom_2 )**2"
   ]
  },
  {
   "cell_type": "code",
   "execution_count": 94,
   "id": "2b90b720",
   "metadata": {},
   "outputs": [
    {
     "data": {
      "text/plain": [
       "0.8246211251235323"
      ]
     },
     "execution_count": 94,
     "metadata": {},
     "output_type": "execute_result"
    }
   ],
   "source": [
    "np.sqrt(np.sum(v1))"
   ]
  },
  {
   "cell_type": "code",
   "execution_count": null,
   "id": "c05d24f3",
   "metadata": {},
   "outputs": [],
   "source": []
  },
  {
   "cell_type": "markdown",
   "id": "5978564a",
   "metadata": {},
   "source": [
    "This function would work for both lists and `numpy` arrays, because it does not assume that `rA` and `rB` can do something like element-wise subtraction. \n",
    "\n",
    "### Built-in maths functions\n",
    "\n",
    "Note we used the built-in function `np.sqrt`. There's a lot more maths functions where this came from. \n",
    "A few examples:\n",
    "\n",
    "```\n",
    "absx = np.abs(x)\n",
    "x2 = np.power(x,2)\n",
    "sqrtx = np.sqrt(x)\n",
    "sinx = np.sin(x)\n",
    "cosx = np.cos(x)\n",
    "tanx = np.tan(x)\n",
    "expx = np.exp(x)\n",
    "lnx = np.log(x)\n",
    "log10x = np.log10(x)\n",
    "```"
   ]
  },
  {
   "cell_type": "markdown",
   "id": "dc1f4831",
   "metadata": {},
   "source": [
    "<div class=\"alert alert-block alert-success\"><b>Check your understanding: </b>\n",
    "\n",
    "Rewrite the `calc_bond` function to use the features of numpy arrays, like element-wise subtraction. \n",
    "    \n",
    "```\n",
    "    def calc_bond(rA, rB):\n",
    "        \"\"\"\n",
    "        Calculate the distance between points A and B. \n",
    "        rA and rB must be numpy arrays.\"\"\"\n",
    "        #calculate bond length\n",
    "        # ..\n",
    "        return bond_length\n",
    "```"
   ]
  },
  {
   "cell_type": "code",
   "execution_count": null,
   "id": "f149e9cd",
   "metadata": {},
   "outputs": [],
   "source": []
  },
  {
   "cell_type": "code",
   "execution_count": null,
   "id": "75d856a7",
   "metadata": {},
   "outputs": [],
   "source": []
  },
  {
   "cell_type": "markdown",
   "id": "b321389b",
   "metadata": {},
   "source": [
    "Redefine your original distance function as `calc_bond_list`. Using both, we see that both functions give the same answer. "
   ]
  },
  {
   "cell_type": "code",
   "execution_count": null,
   "id": "086adb49",
   "metadata": {},
   "outputs": [],
   "source": [
    "rA = oxygen_xyz\n",
    "rB = water_xyz[:,1] # one hydrogen"
   ]
  },
  {
   "cell_type": "code",
   "execution_count": null,
   "id": "1e1a5bef",
   "metadata": {},
   "outputs": [],
   "source": [
    "dist_vec = rA - rB"
   ]
  },
  {
   "cell_type": "code",
   "execution_count": null,
   "id": "f471ac2e",
   "metadata": {},
   "outputs": [],
   "source": [
    "bond_length = np.sqrt(np.sum(dist_vec**2)) # all array elements at once"
   ]
  },
  {
   "cell_type": "code",
   "execution_count": null,
   "id": "7a2339d1",
   "metadata": {},
   "outputs": [],
   "source": [
    "calc_bond(rA, rB) # O-H bond length"
   ]
  },
  {
   "cell_type": "code",
   "execution_count": null,
   "id": "31a74b05",
   "metadata": {},
   "outputs": [],
   "source": [
    "calc_bond_list(rA, rB)"
   ]
  },
  {
   "cell_type": "markdown",
   "id": "6a7f2e8a",
   "metadata": {},
   "source": [
    "### Some more built-in functions \n",
    "\n",
    "Wait.. There's an even better version! \n",
    "You can use the `numpy` function `np.linalg.norm` which calculates the magnitude of a vector:\n",
    "\n",
    "```\n",
    "bond_length = np.linalg.norm(dist_vec)\n",
    "\n",
    "```"
   ]
  },
  {
   "cell_type": "markdown",
   "id": "99bc023a",
   "metadata": {},
   "source": [
    "<div class=\"alert alert-block alert-success\"><b>Check your understanding: </b>\n",
    "\n",
    "Rewrite the calc_bond function using `np.linalg.norm`."
   ]
  },
  {
   "cell_type": "markdown",
   "id": "e555be2c",
   "metadata": {},
   "source": [
    "## Calculating angles: bond angle of water\n",
    "\n",
    "We can also calculate the angle between three atoms using the dot product. \n",
    "\n",
    "Going back to our water molecule coordinates, we will first define 2 vectors connecting our oxygen and hydrogen atoms, and then calculate the angle between them:\n",
    "\n",
    "\n",
    "$$\n",
    "\\theta = arccos\\left( \\frac{\\vec{OH_{1}} \\cdot \\vec{OH_{2}}} {|\\vec{OH_{1}}||\\vec{OH_{2}}|} \\right)\n",
    "$$"
   ]
  },
  {
   "cell_type": "code",
   "execution_count": 95,
   "id": "39748e7c",
   "metadata": {},
   "outputs": [
    {
     "data": {
      "text/plain": [
       "array([[ 0.     ,  0.     ,  0.11779],\n",
       "       [ 0.     ,  0.75545, -0.47116],\n",
       "       [ 0.     , -0.75545, -0.47116]])"
      ]
     },
     "execution_count": 95,
     "metadata": {},
     "output_type": "execute_result"
    }
   ],
   "source": [
    "water_xyz"
   ]
  },
  {
   "cell_type": "markdown",
   "id": "a0a0d184",
   "metadata": {},
   "source": [
    "Let's grab the atomic coordinates for oxygen and hydrogen atoms:"
   ]
  },
  {
   "cell_type": "code",
   "execution_count": 96,
   "id": "27d6fa11",
   "metadata": {},
   "outputs": [
    {
     "data": {
      "text/plain": [
       "array([0.     , 0.     , 0.11779])"
      ]
     },
     "execution_count": 96,
     "metadata": {},
     "output_type": "execute_result"
    }
   ],
   "source": [
    "oxygen_xyz"
   ]
  },
  {
   "cell_type": "code",
   "execution_count": 97,
   "id": "ed2fa227",
   "metadata": {},
   "outputs": [],
   "source": [
    "hyd1_xyz, hyd2_xyz = water_xyz[1:,:]"
   ]
  },
  {
   "cell_type": "code",
   "execution_count": 98,
   "id": "d224b59a",
   "metadata": {},
   "outputs": [
    {
     "data": {
      "text/plain": [
       "array([ 0.     ,  0.75545, -0.47116])"
      ]
     },
     "execution_count": 98,
     "metadata": {},
     "output_type": "execute_result"
    }
   ],
   "source": [
    "hyd1_xyz "
   ]
  },
  {
   "cell_type": "code",
   "execution_count": 99,
   "id": "673c991c",
   "metadata": {},
   "outputs": [
    {
     "data": {
      "text/plain": [
       "array([ 0.     , -0.75545, -0.47116])"
      ]
     },
     "execution_count": 99,
     "metadata": {},
     "output_type": "execute_result"
    }
   ],
   "source": [
    "hyd2_xyz"
   ]
  },
  {
   "cell_type": "markdown",
   "id": "9fe0ad24",
   "metadata": {},
   "source": [
    "Then calculate the `r_OH1` and `r_OH2` vectors:"
   ]
  },
  {
   "cell_type": "code",
   "execution_count": 100,
   "id": "49cf46a4",
   "metadata": {},
   "outputs": [],
   "source": [
    "r_OH1 = hyd1_xyz-oxygen_xyz\n",
    "r_OH2 = hyd2_xyz-oxygen_xyz"
   ]
  },
  {
   "cell_type": "markdown",
   "id": "7389312e",
   "metadata": {},
   "source": [
    "We already know we can use `np.linalg.norm()` to calculate the norm of a vector.\n",
    "`numpy` also has functions called `np.arccos()` and `np.dot()`."
   ]
  },
  {
   "cell_type": "code",
   "execution_count": 101,
   "id": "a5cd2999",
   "metadata": {},
   "outputs": [
    {
     "data": {
      "text/plain": [
       "1.817235608091645"
      ]
     },
     "execution_count": 101,
     "metadata": {},
     "output_type": "execute_result"
    }
   ],
   "source": [
    "dot = np.dot(r_OH1, r_OH2)                                    # dot product\n",
    "norm = dot/ (np.linalg.norm(r_OH1) * np.linalg.norm(r_OH2))   # dividing by norm \n",
    "np.arccos(norm)                                               # arccos to get the angle  "
   ]
  },
  {
   "cell_type": "markdown",
   "id": "5ea7cc1d",
   "metadata": {},
   "source": [
    "<div class=\"alert alert-block alert-success\"><b> Check your understanding: </b>\n",
    "    \n",
    "- In what units is the angle be returned by `np.arccos()`? Check the docstring.\n",
    "- Using the `numpy` documentation online, Google or Stackoverflow, find out how to convert the angle in degrees. "
   ]
  },
  {
   "cell_type": "markdown",
   "id": "0d48318c",
   "metadata": {},
   "source": [
    "These are just a few of the calculations that can be done using numpy arrays. With numpy, you can easily calculate the geometrical properties of any molecule or object with Cartesian coordinates."
   ]
  },
  {
   "cell_type": "markdown",
   "id": "b75a6487",
   "metadata": {},
   "source": [
    "\n",
    "<div class=\"alert alert-block alert-success\"><b> Task 2.2: </b>\n",
    "\n",
    "Using the examples in this notebook, \n",
    "\n",
    "1. Write a function that takes as input the atomic coordinates of 3 atoms and calculates the corresponding angle between them. Include a docstring explaining the behaviour of the function.\n",
    "\n",
    "2. Use it to calculate all 3 H-N-H angles (in degrees) for a molecule of ammonia - coordinates below:\n",
    "```\n",
    "ammonia_coord = np.array([[ -0.001 ,    -0.000 ,  -0.069],  # nitrogen \n",
    "                          [ -0.941 ,    0.001 ,   0.320],   # hydrogen 1\n",
    "                          [  0.472 ,   -0.811 ,   0.322],   # hydrogen 2\n",
    "                          [  0.468 ,    0.818 ,   0.321]])  # hydrogen 3\n",
    "```\n",
    "\n",
    "3. Print the average H-N-H  angle (in degrees). The result will be checked for consistency by the python interpreter on KEATS).\n",
    "    \n",
    "4. Add comments throughout your code to detail each step."
   ]
  },
  {
   "cell_type": "code",
   "execution_count": null,
   "id": "e8f66c72",
   "metadata": {},
   "outputs": [],
   "source": [
    "def function(arg1, arg2):\n",
    "    \"\"\" \n",
    "     this is a docstring. it explains function \n",
    "    \"\"\"\n",
    "    # function does things\n",
    "    #more things\n",
    "    return blah \n"
   ]
  },
  {
   "cell_type": "markdown",
   "id": "dd2c6ca2",
   "metadata": {},
   "source": [
    "<div class=\"alert alert-block alert-info\">\n",
    "    <b>Key points:</b> \n",
    "\n",
    "\n",
    "`numpy` is a huge library: no matter what you need to do with an array, there's probably a built-in function for it. Google, Stack overflow and the `numpy` documentation can help you navigate the possibilities!\n"
   ]
  },
  {
   "cell_type": "markdown",
   "id": "ce1aba66",
   "metadata": {},
   "source": [
    "## Before the next Computational Lab: Plotting with Python\n",
    "\n",
    "The notebook `CL2_NB3_plotting.ipynb` (in the CL2 folder) introduces some important python libraries used for plotting data: matplotlib and seaborn. We recommend you have a look at the notebook ahead of the next lab session to get familiarised with their style and syntax.\n",
    "\n",
    "- Over the next few weeks, we will use matplotlib to plot data obtained throughout the computational labs, so you will get to see many examples! \n",
    "\n",
    "- Various assessed tasks from CL3-CL6 will require you to make and upload a plot to KEATS using python/matplotlib. "
   ]
  },
  {
   "cell_type": "markdown",
   "id": "0d3e59ed",
   "metadata": {},
   "source": []
  }
 ],
 "metadata": {
  "hide_input": false,
  "jupytext": {
   "cell_metadata_filter": "-all",
   "main_language": "python",
   "notebook_metadata_filter": "-all"
  },
  "kernelspec": {
   "display_name": "Python 3 (ipykernel)",
   "language": "python",
   "name": "python3"
  },
  "language_info": {
   "codemirror_mode": {
    "name": "ipython",
    "version": 3
   },
   "file_extension": ".py",
   "mimetype": "text/x-python",
   "name": "python",
   "nbconvert_exporter": "python",
   "pygments_lexer": "ipython3",
   "version": "3.10.8"
  },
  "toc": {
   "base_numbering": 1,
   "nav_menu": {},
   "number_sections": true,
   "sideBar": true,
   "skip_h1_title": true,
   "title_cell": "Table of Contents",
   "title_sidebar": "Contents",
   "toc_cell": true,
   "toc_position": {
    "height": "calc(100% - 180px)",
    "left": "10px",
    "top": "150px",
    "width": "267px"
   },
   "toc_section_display": true,
   "toc_window_display": true
  }
 },
 "nbformat": 4,
 "nbformat_minor": 5
}
