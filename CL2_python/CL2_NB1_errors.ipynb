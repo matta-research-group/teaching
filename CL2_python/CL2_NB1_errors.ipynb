{
 "cells": [
  {
   "cell_type": "markdown",
   "id": "74af74ae",
   "metadata": {},
   "source": [
    "# Errors in python\n",
    "\n",
    "\n",
    "## Learning Objectives:\n",
    "\n",
    "\n",
    "- Read a traceback, determine where the error took place and what type of error it is.\n",
    "- Describe the types of situations in which syntax errors,\n",
    "   indentation errors, name errors, index errors, and missing file errors occur.\n",
    "\n",
    "\n",
    "\n",
    "This material has been adapted from a [Software Carpentries](https://github.com/swcarpentry/python-novice-inflammation) tutorial.\n",
    "\n",
    "Author:\n",
    "\n",
    "Dr Micaela Matta\n",
    "\n",
    "<img src=\"https://code-love.com/wp-content/uploads/2019/04/got-a-new-error.jpeg\">\n",
    "\n"
   ]
  },
  {
   "cell_type": "markdown",
   "id": "c3c6b998",
   "metadata": {},
   "source": [
    "<div class=\"alert alert-block alert-info\">\n",
    "    <b>Key points:</b> \n",
    "\n",
    "\n",
    "- Tracebacks can look intimidating, but they give us a lot of useful information about\n",
    "   what went wrong in our program, including where the error occurred and\n",
    "   what type of error it was.\n",
    "- An error having to do with the 'grammar' or syntax of the program is called a `SyntaxError`.\n",
    "   If the issue has to do with how the code is indented,\n",
    "   then it will be called an `IndentationError`.\n",
    "- A `NameError` will occur when trying to use a variable that does not exist. Possible causes are\n",
    "  that a variable definition is missing, a variable reference differs from its definition\n",
    "  in spelling or capitalization, or the code contains a string that is missing quotes around it.\n",
    "- Containers like lists and strings will generate errors if you try to access items\n",
    "   in them that do not exist. This type of error is called an `IndexError`.\n",
    "- Trying to read a file that does not exist will give you an `FileNotFoundError`.\n",
    "   Trying to read a file that is open for writing, or writing to a file that is open for reading,\n",
    "   will give you an `IOError`.\n"
   ]
  },
  {
   "cell_type": "markdown",
   "id": "9e92f399",
   "metadata": {},
   "source": [
    "Every programmer encounters errors,\n",
    "both those who are just beginning,\n",
    "and those who have been programming for years.\n",
    "Encountering errors and exceptions can be very frustrating at times,\n",
    "and can make coding feel like a hopeless endeavour.\n",
    "However,\n",
    "understanding what the different types of errors are\n",
    "and when you are likely to encounter them can help a lot.\n",
    "Once you know *why* you get certain types of errors,\n",
    "they become much easier to fix.\n",
    "\n",
    "## Tracebacks\n",
    "\n",
    "Errors in Python have a very specific form, called a **traceback**. Let's examine one:"
   ]
  },
  {
   "cell_type": "code",
   "execution_count": 1,
   "id": "00875ea8",
   "metadata": {},
   "outputs": [
    {
     "ename": "IndexError",
     "evalue": "list index out of range",
     "output_type": "error",
     "traceback": [
      "\u001b[0;31m---------------------------------------------------------------------------\u001b[0m",
      "\u001b[0;31mIndexError\u001b[0m                                Traceback (most recent call last)",
      "Cell \u001b[0;32mIn[1], line 11\u001b[0m\n\u001b[1;32m      4\u001b[0m     ice_creams \u001b[38;5;241m=\u001b[39m [\n\u001b[1;32m      5\u001b[0m         \u001b[38;5;124m'\u001b[39m\u001b[38;5;124mchocolate\u001b[39m\u001b[38;5;124m'\u001b[39m,\n\u001b[1;32m      6\u001b[0m         \u001b[38;5;124m'\u001b[39m\u001b[38;5;124mvanilla\u001b[39m\u001b[38;5;124m'\u001b[39m,\n\u001b[1;32m      7\u001b[0m         \u001b[38;5;124m'\u001b[39m\u001b[38;5;124mstrawberry\u001b[39m\u001b[38;5;124m'\u001b[39m\n\u001b[1;32m      8\u001b[0m     ]\n\u001b[1;32m      9\u001b[0m     \u001b[38;5;28mprint\u001b[39m(ice_creams[\u001b[38;5;241m3\u001b[39m])\n\u001b[0;32m---> 11\u001b[0m \u001b[43mfavorite_ice_cream\u001b[49m\u001b[43m(\u001b[49m\u001b[43m)\u001b[49m\n",
      "Cell \u001b[0;32mIn[1], line 9\u001b[0m, in \u001b[0;36mfavorite_ice_cream\u001b[0;34m()\u001b[0m\n\u001b[1;32m      3\u001b[0m \u001b[38;5;28;01mdef\u001b[39;00m \u001b[38;5;21mfavorite_ice_cream\u001b[39m():\n\u001b[1;32m      4\u001b[0m     ice_creams \u001b[38;5;241m=\u001b[39m [\n\u001b[1;32m      5\u001b[0m         \u001b[38;5;124m'\u001b[39m\u001b[38;5;124mchocolate\u001b[39m\u001b[38;5;124m'\u001b[39m,\n\u001b[1;32m      6\u001b[0m         \u001b[38;5;124m'\u001b[39m\u001b[38;5;124mvanilla\u001b[39m\u001b[38;5;124m'\u001b[39m,\n\u001b[1;32m      7\u001b[0m         \u001b[38;5;124m'\u001b[39m\u001b[38;5;124mstrawberry\u001b[39m\u001b[38;5;124m'\u001b[39m\n\u001b[1;32m      8\u001b[0m     ]\n\u001b[0;32m----> 9\u001b[0m     \u001b[38;5;28mprint\u001b[39m(\u001b[43mice_creams\u001b[49m\u001b[43m[\u001b[49m\u001b[38;5;241;43m3\u001b[39;49m\u001b[43m]\u001b[49m)\n",
      "\u001b[0;31mIndexError\u001b[0m: list index out of range"
     ]
    }
   ],
   "source": [
    "# This code has an intentional error. You can type it directly or\n",
    "# use it for reference to understand the error message below.\n",
    "def favorite_ice_cream():\n",
    "    ice_creams = [\n",
    "        'chocolate',\n",
    "        'vanilla',\n",
    "        'strawberry'\n",
    "    ]\n",
    "    print(ice_creams[3])\n",
    "\n",
    "favorite_ice_cream()\n"
   ]
  },
  {
   "cell_type": "markdown",
   "id": "e2a6e3aa",
   "metadata": {},
   "source": [
    "This particular traceback has two levels.\n",
    "You can determine the number of levels by looking for the number of arrows on the left hand side.\n",
    "In this case:\n",
    "\n",
    "1.  The first shows code from the cell above,\n",
    "    with an arrow pointing to Line 11 (which is `favorite_ice_cream()`).\n",
    "\n",
    "2.  The second shows some code in the function `favorite_ice_cream`,\n",
    "    with an arrow pointing to Line 9 (which is `print(ice_creams[3])`).\n",
    "\n",
    "The last level is the actual place where the error occurred.\n",
    "The other level(s) show what function the program executed to get to the next level down.\n",
    "So, in this case, the program first performed a\n",
    "[function call]({{ page.root }}/reference.html#function-call) to the function `favorite_ice_cream`.\n",
    "Inside this function,\n",
    "the program encountered an error on Line 6, when it tried to run the code `print(ice_creams[3])`.\n"
   ]
  },
  {
   "cell_type": "markdown",
   "id": "06820253",
   "metadata": {},
   "source": [
    "## Long Tracebacks\n",
    "\n",
    " Sometimes, you might see a traceback that is very long\n",
    " -- sometimes they might even be 20 levels deep!\n",
    " This can make it seem like something horrible happened,\n",
    " but the length of the error message does not reflect severity, rather,\n",
    " it indicates that your program called many functions before it encountered the error.\n",
    " *Most of the time, the actual place where the error occurred is at the bottom-most level,\n",
    " so you can skip down the traceback to the bottom.*\n",
    "\n",
    "\n",
    "So what error did the program actually encounter?\n",
    "In the last line of the traceback,\n",
    "Python helpfully tells us the category or type of error (in this case, it is an `IndexError`)\n",
    "and a more detailed error message (in this case, it says \"list index out of range\").\n",
    "\n",
    "If you encounter an error and don't know what it means,\n",
    "it is still important to read the traceback closely.\n",
    "That way,\n",
    "if you fix the error,\n",
    "but encounter a new one,\n",
    "you can tell that the error changed.\n",
    "Additionally,\n",
    "sometimes knowing *where* the error occurred is enough to fix it,\n",
    "even if you don't entirely understand the message.\n",
    "\n",
    "If you do encounter an error you don't recognize,\n",
    "try looking at the\n",
    "[official documentation on errors](http://docs.python.org/3/library/exceptions.html).\n",
    "However,\n",
    "note that you may not always be able to find the error there,\n",
    "as it is possible to create custom errors.\n",
    "In that case,\n",
    "hopefully the custom error message is informative enough to help you figure out what went wrong.\n",
    "\n",
    "## Syntax Errors\n",
    "\n",
    "When you forget a colon at the end of a line,\n",
    "accidentally add one space too many when indenting under an `if` statement,\n",
    "or forget a parenthesis,\n",
    "you will encounter a **syntax error**.\n",
    "This means that Python couldn't figure out how to read your program.\n",
    "\n",
    "This is similar to forgetting punctuation in English:\n",
    "for example,\n",
    ">this text is difficult to read there is no punctuation there is also no capitalization\n",
    ">why is this hard because you have to figure out where each sentence ends\n",
    ">you also have to figure out where each sentence begins\n",
    ">to some extent it might be ambiguous if there should be a sentence break or not\n",
    "\n",
    "People can typically figure out what is meant by text with no punctuation,\n",
    "but people are much smarter than computers.\n",
    "If Python doesn't know how to read the program,\n",
    "it will give up and inform you with an error.\n",
    "For example:\n"
   ]
  },
  {
   "cell_type": "code",
   "execution_count": 3,
   "id": "4d8bfef2",
   "metadata": {},
   "outputs": [],
   "source": [
    "def some_function(): # this function does not take any parameters\n",
    "    msg = 'hello, world!'\n",
    "    print(msg)\n",
    "    return msg\n"
   ]
  },
  {
   "cell_type": "code",
   "execution_count": 6,
   "id": "c5adc491",
   "metadata": {},
   "outputs": [
    {
     "name": "stdout",
     "output_type": "stream",
     "text": [
      "hello, world!\n"
     ]
    },
    {
     "data": {
      "text/plain": [
       "'hello, world!'"
      ]
     },
     "execution_count": 6,
     "metadata": {},
     "output_type": "execute_result"
    }
   ],
   "source": [
    "some_function()"
   ]
  },
  {
   "cell_type": "markdown",
   "id": "1d608e50",
   "metadata": {},
   "source": [
    "\n",
    "Here, Python tells us that there is a `SyntaxError` on line 1,\n",
    "and even puts a little arrow in the place where there is an issue.\n",
    "In this case the problem is that the function definition is missing a colon at the end.\n",
    "\n",
    "Actually, the function above has *two* issues with syntax.\n",
    "If we fix the problem with the colon,\n",
    "we see that there is *also* an `IndentationError`,\n",
    "which means that the lines in the function definition do not all have the same indentation:\n"
   ]
  },
  {
   "cell_type": "code",
   "execution_count": null,
   "id": "c2aef076",
   "metadata": {},
   "outputs": [],
   "source": [
    "def some_function():\n",
    "    msg = 'hello, world!'\n",
    "    print(msg)\n",
    "    return msg"
   ]
  },
  {
   "cell_type": "code",
   "execution_count": null,
   "id": "995e0b1a",
   "metadata": {},
   "outputs": [],
   "source": [
    "some_function()"
   ]
  },
  {
   "cell_type": "markdown",
   "id": "5f1849a9",
   "metadata": {},
   "source": [
    "\n",
    "Both `SyntaxError` and `IndentationError` indicate a problem with the syntax of your program,\n",
    "but an `IndentationError` is more specific:\n",
    "it *always* means that there is a problem with how your code is indented.\n",
    "\n",
    "## Tabs and Spaces\n",
    "\n",
    " Some indentation errors are harder to spot than others.\n",
    " In particular, mixing spaces and tabs can be difficult to spot\n",
    " because they are both whitespace.\n",
    " \n",
    " In the example below, the first two lines in the body of the function\n",
    " `some_function` are indented with tabs, while the third line &mdash; with spaces.\n",
    " If you're working in a Jupyter notebook, be sure to copy and paste this example\n",
    " rather than trying to type it in manually because Jupyter automatically replaces\n",
    " tabs with spaces.\n"
   ]
  },
  {
   "cell_type": "code",
   "execution_count": 7,
   "id": "2d1cf089",
   "metadata": {},
   "outputs": [
    {
     "ename": "TabError",
     "evalue": "inconsistent use of tabs and spaces in indentation (101931372.py, line 3)",
     "output_type": "error",
     "traceback": [
      "\u001b[0;36m  Cell \u001b[0;32mIn[7], line 3\u001b[0;36m\u001b[0m\n\u001b[0;31m    print(msg)\u001b[0m\n\u001b[0m    ^\u001b[0m\n\u001b[0;31mTabError\u001b[0m\u001b[0;31m:\u001b[0m inconsistent use of tabs and spaces in indentation\n"
     ]
    }
   ],
   "source": [
    " def some_function():\n",
    "    msg = 'hello, world!'\n",
    "\tprint(msg)\n",
    "\treturn msg"
   ]
  },
  {
   "cell_type": "markdown",
   "id": "2e8b47d9",
   "metadata": {},
   "source": [
    " Visually it is impossible to spot the error.\n",
    " (Un?)Fortunately, Python does not allow you to mix tabs and spaces."
   ]
  },
  {
   "cell_type": "markdown",
   "id": "056abd43",
   "metadata": {},
   "source": [
    "<img src=\"https://img-9gag-fun.9cache.com/photo/ad8LK4M_700bwp.webp\">"
   ]
  },
  {
   "cell_type": "markdown",
   "id": "5b9dde9c",
   "metadata": {},
   "source": [
    "## Variable Name Errors\n",
    "\n",
    "Another very common type of error is called a `NameError`,\n",
    "and occurs when you try to use a variable that does not exist.\n",
    "For example:\n"
   ]
  },
  {
   "cell_type": "code",
   "execution_count": null,
   "id": "cadab1c2",
   "metadata": {},
   "outputs": [],
   "source": [
    "print(a)"
   ]
  },
  {
   "cell_type": "markdown",
   "id": "85f45da8",
   "metadata": {},
   "source": [
    "Variable name errors come with some of the most informative error messages,\n",
    "which are usually of the form \"name 'the_variable_name' is not defined\".\n",
    "\n",
    "Why does this error message occur?\n",
    "That's a harder question to answer,\n",
    "because it depends on what your code is supposed to do.\n",
    "However,\n",
    "there are a few very common reasons why you might have an undefined variable.\n",
    "The first is that you meant to use a string, but forgot to put quotes around it:\n"
   ]
  },
  {
   "cell_type": "code",
   "execution_count": null,
   "id": "0d07c34c",
   "metadata": {},
   "outputs": [],
   "source": [
    "print(hello)"
   ]
  },
  {
   "cell_type": "markdown",
   "id": "5bc0d00d",
   "metadata": {},
   "source": [
    "The second reason is that you might be trying to use a variable that does not yet exist.\n",
    "In the following example,\n",
    "`count` should have been defined (e.g., with `count = 0`) before the for loop:\n"
   ]
  },
  {
   "cell_type": "code",
   "execution_count": null,
   "id": "2a5fbbcf",
   "metadata": {},
   "outputs": [],
   "source": [
    "\n",
    "for number in range(10):\n",
    "    count = count + number\n",
    "print('The count is:', count)\n"
   ]
  },
  {
   "cell_type": "markdown",
   "id": "eeaeceeb",
   "metadata": {},
   "source": [
    "Finally, the third possibility is that you made a typo when you were writing your code. Let's say we fixed the error above by adding the line `Count = 0` before the for loop. Frustratingly, this actually does not fix the error. Remember that variables are **case-sensitive**, so the variable `count` is different from `Count`. We still get the same error, because we still have not defined count:"
   ]
  },
  {
   "cell_type": "code",
   "execution_count": null,
   "id": "7cdf5b67",
   "metadata": {},
   "outputs": [],
   "source": [
    "Count = 0\n",
    "for number in range(10):\n",
    "    count = count + number\n",
    "print('The count is:', count)"
   ]
  },
  {
   "cell_type": "markdown",
   "id": "5a61fc7e",
   "metadata": {},
   "source": [
    "## Index Errors\n",
    "\n",
    "Next up are errors having to do with containers (like lists and strings) and the items within them.\n",
    "If you try to access an item in a list or a string that does not exist,\n",
    "then you will get an error.\n",
    "This makes sense:\n",
    "if you asked someone what day they would like to get coffee,\n",
    "and they answered \"caturday\",\n",
    "you might be a bit annoyed.\n",
    "Python gets similarly annoyed if you try to ask it for an item that doesn't exist:\n"
   ]
  },
  {
   "cell_type": "code",
   "execution_count": null,
   "id": "bc0bc98d",
   "metadata": {},
   "outputs": [],
   "source": [
    "letters = ['a', 'b', 'c']\n",
    "print('Letter #1 is', letters[0])\n",
    "print('Letter #2 is', letters[1])\n",
    "print('Letter #3 is', letters[2])\n",
    "print('Letter #4 is', letters[3])"
   ]
  },
  {
   "cell_type": "markdown",
   "id": "57fa383b",
   "metadata": {},
   "source": [
    "Here,\n",
    "Python is telling us that there is an `IndexError` in our code,\n",
    "meaning we tried to access a list index that did not exist.\n",
    "\n",
    "## File Errors\n",
    "\n",
    "The last type of error we'll cover today\n",
    "are those associated with reading and writing files: `FileNotFoundError`.\n",
    "If you try to read a file that does not exist,\n",
    "you will receive a `FileNotFoundError` telling you so.\n",
    "If you attempt to write to a file that was opened read-only, Python 3\n",
    "returns an `UnsupportedOperationError`.\n",
    "More generally, problems with input and output manifest as\n",
    "`IOError`s or `OSError`s, depending on the version of Python you use."
   ]
  },
  {
   "cell_type": "code",
   "execution_count": null,
   "id": "d82060fb",
   "metadata": {},
   "outputs": [],
   "source": [
    "file_handle = open('myfile.txt', 'r')"
   ]
  },
  {
   "cell_type": "markdown",
   "id": "471450fc",
   "metadata": {},
   "source": [
    "One reason for receiving this error is that you specified an incorrect path to the file.\n",
    "For example,\n",
    "if I am currently in a folder called `myproject`,\n",
    "and I have a file in `myproject/writing/myfile.txt`,\n",
    "but I try to open `myfile.txt`,\n",
    "this will fail.\n",
    "The correct path would be `writing/myfile.txt`.\n",
    "It is also possible that the file name or its path contains a typo.\n",
    "\n",
    "A related issue can occur if you use the \"read\" flag instead of the \"write\" flag.\n",
    "Python will not give you an error if you try to open a file for writing\n",
    "when the file does not exist.\n",
    "However,\n",
    "if you meant to open a file for reading,\n",
    "but accidentally opened it for writing,\n",
    "and then try to read from it,\n",
    "you will get an `UnsupportedOperation` error\n",
    "telling you that the file was not opened for reading:\n"
   ]
  },
  {
   "cell_type": "code",
   "execution_count": null,
   "id": "14e92faf",
   "metadata": {},
   "outputs": [],
   "source": [
    "file_handle = open('myfile.txt', 'w')\n",
    "file_handle.read()\n"
   ]
  },
  {
   "cell_type": "markdown",
   "id": "5dfe3749",
   "metadata": {},
   "source": [
    "```---------------------------------------------------------------------------\n",
    "UnsupportedOperation                      Traceback (most recent call last)\n",
    "<ipython-input-15-b846479bc61f> in <module>()\n",
    "      1 file_handle = open('myfile.txt', 'w')\n",
    "----> 2 file_handle.read()\n",
    "\n",
    "UnsupportedOperation: not readable\n",
    "```"
   ]
  },
  {
   "cell_type": "markdown",
   "id": "b099565a",
   "metadata": {},
   "source": [
    "<div class=\"alert alert-block alert-info\">\n",
    "    <b>Key points:</b> \n",
    "\n",
    "These are the most common errors with files,\n",
    "though many others exist.\n",
    "\n",
    "If you get an error that you've never seen before,\n",
    "searching the Internet for that error type\n",
    "often reveals common reasons why you might get that error.\n"
   ]
  },
  {
   "cell_type": "markdown",
   "id": "7fe29af7",
   "metadata": {},
   "source": [
    " # Reading Error Messages\n",
    "\n",
    "\n",
    "<div class=\"alert alert-block alert-success\"><b> Check your understanding: </b>\n",
    "    \n",
    "\n",
    "Read the Python code and the resulting traceback below, and answer the following questions:\n",
    "\n",
    " 1.  How many levels does the traceback have?\n",
    " 2.  What is the function name where the error occurred?\n",
    " 3.  On which line number in this function did the error occur?\n",
    " 4.  What is the type of error?\n",
    " 5.  What is the error message?\n"
   ]
  },
  {
   "cell_type": "code",
   "execution_count": null,
   "id": "453a8504",
   "metadata": {},
   "outputs": [],
   "source": [
    "# This code has an intentional error. \n",
    "# Use it for reference to understand the error message below.\n",
    "def print_message(day):\n",
    "    messages = {\n",
    "        'monday': 'Hello, world!',\n",
    "        'tuesday': 'Today is Tuesday!',\n",
    "        'wednesday': 'It is the middle of the week.',\n",
    "        'thursday': 'Today is Donnerstag in German!',\n",
    "        'friday': 'Last day of the week!',\n",
    "        'saturday': 'Hooray for the weekend!',\n",
    "        'sunday': 'Aw, the weekend is almost over.'\n",
    "    }\n",
    "    print(messages[day])\n",
    "\n",
    "def print_friday_message():\n",
    "    print_message('Friday')\n",
    "\n",
    "print_friday_message()"
   ]
  },
  {
   "cell_type": "code",
   "execution_count": null,
   "id": "e4f29298",
   "metadata": {},
   "outputs": [],
   "source": []
  },
  {
   "cell_type": "markdown",
   "id": "a61f0145",
   "metadata": {},
   "source": [
    " ## Identifying Variable Name Errors\n",
    "\n",
    "\n",
    "<div class=\"alert alert-block alert-success\"><b> Check your understanding: </b>\n",
    "\n",
    " 1. Read the code below, and (without running it) try to identify what the errors are.\n",
    " 2. Run the code, and read the error message.\n",
    "    What type of `NameError` do you think this is?\n",
    "    In other words, is it a string with no quotes,\n",
    "    a misspelled variable,\n",
    "    or a variable that should have been defined but was not?\n",
    " 3. Fix the error.\n",
    " 4. Repeat steps 2 and 3, until you have fixed all the errors.\n"
   ]
  },
  {
   "cell_type": "markdown",
   "id": "e94ac4f9",
   "metadata": {},
   "source": [
    "```\n",
    "for number in range(10):\n",
    "    if (n % 2) == 0:\n",
    "        print(f'{number} is a multiple of 2')\n",
    "    else:\n",
    "        print(f'{number} is not a multiple of 2')\n",
    "```"
   ]
  },
  {
   "cell_type": "code",
   "execution_count": null,
   "id": "6c476574",
   "metadata": {},
   "outputs": [],
   "source": []
  },
  {
   "cell_type": "markdown",
   "id": "170ca7fc",
   "metadata": {},
   "source": [
    " ## Identifying Index Errors\n",
    "\n",
    "\n",
    "<div class=\"alert alert-block alert-success\"><b> Check your understanding: </b>\n",
    "\n",
    "\n",
    " 1. Read the code below, and (without running it) try to identify what the errors are.\n",
    " 2. Run the code, and read the error message. What type of error is it?\n",
    " 3. Fix the error.\n"
   ]
  },
  {
   "cell_type": "code",
   "execution_count": null,
   "id": "9193ed8c",
   "metadata": {},
   "outputs": [],
   "source": [
    "seasons = ['Spring', 'Summer', 'Fall', 'Winter']\n",
    "print('My favorite season is ', seasons[4])"
   ]
  },
  {
   "cell_type": "markdown",
   "id": "c1e72704",
   "metadata": {},
   "source": [
    "<div class=\"alert alert-block alert-success\"><b> Task 1: </b>\n",
    "Fixing errors\n",
    "\n",
    "1. Read the code below, and (without running it) try to identify what the errors are.\n",
    "\n",
    "2. Run the code, and read the error message.\n",
    "\n",
    "3. Fix the error.\n",
    "\n",
    "4. Repeat steps 2 and 3, until you have fixed all the errors. \n",
    "\n",
    "5. Submit the fixed code to KEATS. Where appropriate, add comment lines (`#`) in your answer to explain your modifications and what kind of error(s) you encountered.\n",
    "```\n",
    "for number in Range(1,40)\n",
    "        if (Number % 3) = 0:\n",
    "        message = message + a\n",
    "    else:\n",
    "      message = message + 'b'\n",
    "print(message)\n",
    "```"
   ]
  },
  {
   "cell_type": "markdown",
   "id": "fff96fd5",
   "metadata": {},
   "source": [
    "[](https://thejenkinscomic.files.wordpress.com/2020/04/hey-i-discovered-how-to-write-hidden-mouse-over-text.png)"
   ]
  },
  {
   "cell_type": "code",
   "execution_count": 9,
   "id": "65cabf2a",
   "metadata": {},
   "outputs": [
    {
     "ename": "IndentationError",
     "evalue": "unindent does not match any outer indentation level (<tokenize>, line 4)",
     "output_type": "error",
     "traceback": [
      "\u001b[0;36m  File \u001b[0;32m<tokenize>:4\u001b[0;36m\u001b[0m\n\u001b[0;31m    else:\u001b[0m\n\u001b[0m    ^\u001b[0m\n\u001b[0;31mIndentationError\u001b[0m\u001b[0;31m:\u001b[0m unindent does not match any outer indentation level\n"
     ]
    }
   ],
   "source": [
    "for number in Range(1,40)     # here there was something missing, i added it \\\n",
    "        if (Number % 3) = 0:  # \n",
    "        message = message + a # all the comments about what i fixed \n",
    "    else:\n",
    "      message = message + 'b'\n",
    "print(message)"
   ]
  },
  {
   "cell_type": "code",
   "execution_count": null,
   "id": "417efc39",
   "metadata": {},
   "outputs": [],
   "source": []
  }
 ],
 "metadata": {
  "kernelspec": {
   "display_name": "Python 3 (ipykernel)",
   "language": "python",
   "name": "python3"
  },
  "language_info": {
   "codemirror_mode": {
    "name": "ipython",
    "version": 3
   },
   "file_extension": ".py",
   "mimetype": "text/x-python",
   "name": "python",
   "nbconvert_exporter": "python",
   "pygments_lexer": "ipython3",
   "version": "3.10.8"
  },
  "toc": {
   "base_numbering": 1,
   "nav_menu": {},
   "number_sections": true,
   "sideBar": true,
   "skip_h1_title": false,
   "title_cell": "Table of Contents",
   "title_sidebar": "Contents",
   "toc_cell": false,
   "toc_position": {
    "height": "calc(100% - 180px)",
    "left": "10px",
    "top": "150px",
    "width": "270.774475px"
   },
   "toc_section_display": true,
   "toc_window_display": true
  }
 },
 "nbformat": 4,
 "nbformat_minor": 5
}
