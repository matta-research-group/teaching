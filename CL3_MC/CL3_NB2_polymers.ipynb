{
 "cells": [
  {
   "cell_type": "markdown",
   "id": "066346e8",
   "metadata": {},
   "source": [
    "# Computational Lab 3\n",
    "\n",
    "# Simulating polymers as random walks\n",
    "\n",
    "## Learning Objectives\n",
    "\n",
    " - Apply Monte Carlo methods to describe polymers. \n",
    " - Understand random walk algorithms and how they can be used to simulate polymers.\n",
    " - Understand the relationship between polymer length and end-to-end distance.\n",
    " - Use python and `matplotlib` to analyse and plot quantities related to random walk polymers.\n",
    " - Understand the key differences between random walks/polymers and self-avoiding walks/polymers.\n",
    "\n",
    "\n",
    "This notebook was adapted from various sources:\n",
    "\n",
    "- [The SciPython Book example on random flight polymers](https://scipython.com/book/chapter-4-the-core-python-language-ii/examples/the-random-flight-polymer/)\n",
    "- [Anton Akhmerov's Delft University of Technology lectures](https://compphys.quantumtinkerer.tudelft.nl)\n",
    "\n",
    "\n",
    "Authors:\n",
    "- Micaela Matta"
   ]
  },
  {
   "cell_type": "markdown",
   "id": "a72b747f",
   "metadata": {},
   "source": [
    "## Background: polymers and how to characterize them\n",
    "\n",
    "Polymers are large molecules composed of multiple repeating subunits (monomers). They are essential to our everyday lives, from biological processes to synthetic materials (see Polymers on Wikipedia for more information).\n",
    "We aim to simulate linear, unbranched polymers in a good solvent, where the polymers are separated from each other and do not interact. This allows us to consider the physics of a single polymer in isolation.\n",
    "\n",
    "One particular property of a polymer is its lack of rigidity. Generally, polymers are quite floppy. We won't describe this from a microscopic model, such as quantum chemistry or molecular dynamics (see the rest of this module). Instead, we'll use a simpler toy model. Before we do that, let's consider how we can quantify a polymer.\n",
    "\n",
    "<img src=\"https://upload.wikimedia.org/wikipedia/commons/thumb/2/26/Ideal_chain_random_walk.svg/2560px-Ideal_chain_random_walk.svg.png\" width=300>\n",
    "\n",
    "The image above shows a linear polymer consisting of $N$ subunits is then described by a ordered set of points $\\{\\mathbf{r}_0, \\mathbf{r}_1, \\dots, \\}$. Note that there are $N$ subunits, but $N-1$ bonds between the subunits. \n",
    "\n",
    "We can characterize the polymer by its end-to-end distance $R$:\n",
    "\n",
    "$$R = \\left|\\mathbf{r}_N - \\mathbf{r}_0\\right|\\,.$$\n",
    "\n",
    "Alternatively, we can use the radius of gyration squared that is given by\n",
    "\n",
    "\n",
    "$$R_g^2 = \\frac{1}{N} \\sum_{i=0}^N \\left|\\mathbf{r}_i - \\mathbf{r}_\\text{cm}\\right|^2\\,,$$\n",
    "\n",
    "where $$\\mathbf{r}_\\text{cm} = \\frac{1}{N+1} \\sum_{i=0}^N \\mathbf{r}_i$$ \n",
    "\n",
    "is the center of mass of the polymer. \n",
    "\n",
    "The radius of gyration describes how \"curled up\" the polymer is.\n",
    "\n",
    "## Simulating Polymers with Monte Carlo\n",
    "\n",
    "The Monte Carlo algorithm is a widely used approach for simulating the behavior of a polymer. It is based on a random walk algorithm, where a random step is taken to represent the motion of a single monomer. In this way, the behavior of a polymer can be simulated by a series of random steps. Python provides a powerful set of libraries for implementing Monte Carlo algorithms, making it an ideal language for simulating polymers.\n"
   ]
  },
  {
   "cell_type": "markdown",
   "id": "8ac190ac",
   "metadata": {},
   "source": [
    "## Imports and everything\n",
    "\n",
    "As always, let's start with importing the necessary packages."
   ]
  },
  {
   "cell_type": "code",
   "execution_count": null,
   "id": "601caff6",
   "metadata": {},
   "outputs": [],
   "source": [
    "# run this cell before any of the cells below, \n",
    "# or you'll get a NameError for trying to use a module that's not been imported\n",
    "\n",
    "import warnings\n",
    "warnings.filterwarnings(\"ignore\")\n",
    "import matplotlib.pyplot as plt\n",
    "import numpy as np\n",
    "import random\n",
    "import math\n",
    "%matplotlib inline"
   ]
  },
  {
   "cell_type": "markdown",
   "id": "7bbe05c5",
   "metadata": {},
   "source": [
    "# Generating a Random Walk Polymer in 2 Dimensions in Python\n",
    "\n",
    "In this section, we will use Python to generate a random walk in two dimensions, and calculate the radius of gyration and end-to-end distances of the polymer.\n",
    "\n",
    "## Initializing the Polymer\n",
    "\n",
    "We will begin by importing the necessary libraries and setting a random seed. This will enable us to reproduce the same results each time the code is run."
   ]
  },
  {
   "cell_type": "code",
   "execution_count": null,
   "id": "a2797d77",
   "metadata": {},
   "outputs": [],
   "source": [
    "# Set the random seed\n",
    "np.random.seed(42)"
   ]
  },
  {
   "cell_type": "markdown",
   "id": "b3a9835b",
   "metadata": {},
   "source": [
    "Next, we will set the number of monomers in the polymer and initialize the polymer array."
   ]
  },
  {
   "cell_type": "code",
   "execution_count": null,
   "id": "f4dff583",
   "metadata": {},
   "outputs": [],
   "source": [
    "# Set the number of monomers\n",
    "N_monomers = 1000\n",
    "# Initialize the polymer position vectors \n",
    "positions = np.zeros((N_monomers,2))"
   ]
  },
  {
   "cell_type": "markdown",
   "id": "e3f06914",
   "metadata": {},
   "source": [
    "## Generating the Polymer\n",
    "\n",
    "We will now loop over the monomers and generate a random position for each."
   ]
  },
  {
   "cell_type": "code",
   "execution_count": null,
   "id": "7b922bcf",
   "metadata": {},
   "outputs": [],
   "source": [
    "# Loop over the monomers and generate a random position for each\n",
    "cx , cy = 0, 0\n",
    "for i in range(1, N_monomers):\n",
    "    # Pick a random orientation for the next segment.\n",
    "    theta = random.random() * 2. * np.pi\n",
    "    # Add on the corresponding displacement vector for this segment.\n",
    "    positions[i, 0]  = positions[i-1, 0] + np.cos(theta)\n",
    "    positions[i, 1]  = positions[i-1, 1] + np.sin(theta)\n",
    "    # Store it, and update or centre of mass sum.\n",
    "    cx, cy = cx + positions[i, 0], cy + positions[i, 1]\n",
    "    \n",
    "# Calculate the position of the centre of mass.\n",
    "cx, cy = cx / N_monomers, cy /N_monomers\n",
    "\n",
    "# Finally, re-centre our polymer on the centre of mass.\n",
    "for i in range(N_monomers):\n",
    "    positions[i,:] = positions[i,0]-cx, positions[i,1]-cy"
   ]
  },
  {
   "cell_type": "markdown",
   "id": "a2f02915",
   "metadata": {},
   "source": [
    "## Plotting the Polymer\n",
    "\n",
    "We can now plot the polymer chain."
   ]
  },
  {
   "cell_type": "code",
   "execution_count": null,
   "id": "5b7635a9",
   "metadata": {},
   "outputs": [],
   "source": [
    "# Plot the resulting polymer chain\n",
    "plt.plot(positions[:, 0], positions[:, 1], '-', label= \"2D random walk\")\n",
    "plt.scatter(positions[0, 0], positions[0, 1], label=\"Start\")\n",
    "plt.scatter(positions[-1, 0], positions[-1, 1], label=\"End\")\n",
    "# labels and title\n",
    "plt.xlabel('x')\n",
    "plt.ylabel('y')\n",
    "plt.legend()\n",
    "plt.title(f'Random Flight Polymer with {N_monomers} monomers')\n",
    "plt.show()"
   ]
  },
  {
   "cell_type": "markdown",
   "id": "1d5a2bff",
   "metadata": {},
   "source": [
    "## Calculating the Radius of Gyration and End-to-End Distance\n",
    "\n",
    "The radius of gyration $R_g$ describes how \"curled up\" the polymer is.\n",
    "We can now calculate it by applying the equation:\n",
    "\n",
    "$$R_g = \\sqrt{\\frac{1}{N}\\sum_{i=1}^N\\left(r_i-r_0\\right)^2}$$\n",
    "\n",
    "where $r_i$ are the coordinates of the $i^{th}$ monomer and $r_0$ are the coordinates of the first monomer."
   ]
  },
  {
   "cell_type": "code",
   "execution_count": null,
   "id": "34d20f0a",
   "metadata": {},
   "outputs": [],
   "source": [
    "# The polymer segment positions are already given relative to the centre of \n",
    "# mass, so this is just the rms position of the segments.\n",
    "rg = np.sqrt(np.mean(np.sum(positions**2, axis=1)))"
   ]
  },
  {
   "cell_type": "markdown",
   "id": "0df19f19",
   "metadata": {},
   "source": [
    "To calculate the end-to-end distance, we consider the vector between the first and last monomer:\n",
    "\n",
    "\n",
    "$$r_{ee} = |r_{N} - r_{0}|$$"
   ]
  },
  {
   "cell_type": "code",
   "execution_count": null,
   "id": "f10c42e3",
   "metadata": {},
   "outputs": [],
   "source": [
    "# Calculate the end-to-end distance\n",
    "end_to_end_distance = np.linalg.norm(positions[0, :] - positions[N_monomers-1, :] )"
   ]
  },
  {
   "cell_type": "code",
   "execution_count": null,
   "id": "58c0418a",
   "metadata": {},
   "outputs": [],
   "source": [
    "print(\"Radius of gyration =\", rg)\n",
    "print(\"End-to-end distance =\", end_to_end_distance)"
   ]
  },
  {
   "cell_type": "markdown",
   "id": "809fe795",
   "metadata": {},
   "source": [
    "<div class=\"alert alert-success\"><b>Check your understanding: </b>\n",
    "    \n",
    "Can you generalise the code example above for a 3-dimensional polymer?\n",
    "    \n",
    "</div>"
   ]
  },
  {
   "cell_type": "markdown",
   "id": "12fb8204",
   "metadata": {},
   "source": [
    "# 3D random walks\n",
    "\n",
    "We are now switching to 3-dimensional random walks. We will adapt the code seen above to calculate x/y/z positions of a random walk chain.\n",
    "\n",
    "\n",
    "\n",
    "## Picking the orientation of the next segment\n",
    "\n",
    "One way to pick the location of the next segment is to sample a point on the unit sphere using spherical polar coordinates. This can be done by generating two random numbers, one in the range [0,2π] and the other in the range [0,π], then using the corresponding pair of angles in the spherical polar coordinate system to calculate the x, y, and z coordinates of the point. \n",
    "\n",
    "An example of this method is shown in the code below:\n",
    "\n",
    "```\n",
    "theta = np.arccos(2 * random.random() - 1)\n",
    "phi = random.random() * 2. * np.pi\n",
    "positions[i, 0]  = positions[i-1, 0] + np.cos(theta) * np.sin(phi)\n",
    "positions[i, 1]  = positions[i-1, 1] + np.sin(theta) * np.sin(phi)\n",
    "positions[i, 2]  = positions[i-1, 2] + np.cos(phi)\n",
    "```\n",
    "\n",
    "\n",
    "An alternative to this approach is to enumerate the possible moves on a grid - we will see this approach implemented in the section of this notebook describing self-avoiding polymers."
   ]
  },
  {
   "cell_type": "markdown",
   "id": "60354887",
   "metadata": {},
   "source": [
    "## `generate_random_walk_3D`\n",
    "\n",
    "Below is a function that generates a random walk in 3D and returns the positions of each monomer, the end-to-end distance and radius of gyration."
   ]
  },
  {
   "cell_type": "code",
   "execution_count": null,
   "id": "4628fe2f",
   "metadata": {},
   "outputs": [],
   "source": [
    "def generate_random_walk_3D(N_monomers):\n",
    "    \"\"\"Generates a random walk with N_monomers steps in 3D, returning the positions of each monomer, the end-to-end distance and the radius of gyration.\n",
    "\n",
    "    Parameters\n",
    "    ----------\n",
    "    N_monomers: int\n",
    "        Number of monomers in the random walk.\n",
    "\n",
    "    Returns\n",
    "    -------\n",
    "    positions: ndarray\n",
    "        An N_monomers x 3 array of positions of the monomers.\n",
    "    end_to_end_distance: float\n",
    "        The end-to-end distance of the random walk.\n",
    "    rg: float\n",
    "        The radius of gyration of the random walk.\n",
    "    \"\"\"\n",
    "    # initialize the polymer array\n",
    "    positions = np.zeros((N_monomers, 3))\n",
    "    # Set the first position to the origin\n",
    "    positions[0,:] = (0,0,0)\n",
    "\n",
    "    # Sum of positions\n",
    "    cx, cy, cz = 0, 0, 0\n",
    "\n",
    "    # Loop over the monomers and generate a random position for each\n",
    "    for i in range(1, N_monomers):\n",
    "        # Pick a random orientation for the next segment.\n",
    "        theta = np.random.uniform(0, 2*np.pi)\n",
    "        phi = np.random.uniform(0, np.pi)\n",
    "        # Add on the corresponding displacement vector for this segment.\n",
    "        positions[i, 0]  = positions[i-1, 0] + np.cos(theta) * np.sin(phi)\n",
    "        positions[i, 1]  = positions[i-1, 1] + np.sin(theta) * np.sin(phi)\n",
    "        positions[i, 2]  = positions[i-1, 2] + np.cos(phi)\n",
    "        # Store it, and update or centre of mass sum.\n",
    "        cx, cy, cz = cx + positions[i, 0], cy + positions[i, 1], cz + positions[i, 2]\n",
    "\n",
    "    # Calculate the position of the centre of mass.\n",
    "    cx, cy, cz = cx / N_monomers, cy /N_monomers, cz / N_monomers\n",
    "\n",
    "    # Re-centre our polymer on the centre of mass.\n",
    "    positions -= np.array([cx, cy, cz])\n",
    "\n",
    "    # Calculate the end-to-end distance\n",
    "    end_to_end_distance = np.linalg.norm(positions[0, :] - positions[N_monomers-1, :] )\n",
    "\n",
    "    # Calculate the radius of gyration\n",
    "    rg = np.sqrt(np.mean(np.sum(positions**2, axis=1)))\n",
    "\n",
    "    return positions, end_to_end_distance, rg\n"
   ]
  },
  {
   "cell_type": "markdown",
   "id": "6e9adc64",
   "metadata": {},
   "source": [
    "Let's run the function once:"
   ]
  },
  {
   "cell_type": "code",
   "execution_count": null,
   "id": "c8beb45a",
   "metadata": {},
   "outputs": [],
   "source": [
    "# Generate 1 random walk \n",
    "N_monomers = 100\n",
    "positions, e2e, rg = generate_random_walk_3D(N_monomers)"
   ]
  },
  {
   "cell_type": "markdown",
   "id": "fe96a738",
   "metadata": {},
   "source": [
    "And now we can do our first 3D plot!!"
   ]
  },
  {
   "cell_type": "code",
   "execution_count": null,
   "id": "a3021909",
   "metadata": {},
   "outputs": [],
   "source": [
    "import seaborn as sns\n",
    "from mpl_toolkits.mplot3d import Axes3D\n",
    "\n",
    "# Plot the coordinates of the random walk\n",
    "fig = plt.figure()\n",
    "ax = fig.add_subplot(111, projection='3d')\n",
    "\n",
    "c1, c2 =sns.palettes.color_palette()[1:3] # set the colors\n",
    "# plot \n",
    "ax.plot(positions[:, 0], positions[:, 1], positions[:, 2], label=\"3D Random Walk\")\n",
    "ax.scatter(positions[0, 0], positions[0, 1], positions[0, 2], color=c1 ,label=\"Start\")\n",
    "ax.scatter(positions[-1, 0], positions[-1, 1], positions[-1, 2], color=c2, label=\"End\")\n",
    "# titles, legend\n",
    "ax.set_title(f\"3D Random Walk of length {N_monomers}\")\n",
    "ax.legend()\n",
    "plt.show()\n"
   ]
  },
  {
   "cell_type": "markdown",
   "id": "46895343",
   "metadata": {},
   "source": [
    "<div class=\"alert alert-success\"><b>Check your understanding: </b>\n",
    "    \n",
    "Run the function again, this time changing parameters. \n",
    "\n",
    "What happens to the radius of gyration and end-to-end distance if you use different `N_monomers`?\n",
    "    \n",
    "</div>"
   ]
  },
  {
   "cell_type": "code",
   "execution_count": null,
   "id": "f2ebfcff",
   "metadata": {},
   "outputs": [],
   "source": [
    "e2e"
   ]
  },
  {
   "cell_type": "code",
   "execution_count": null,
   "id": "326916e9",
   "metadata": {},
   "outputs": [],
   "source": [
    "rg"
   ]
  },
  {
   "cell_type": "code",
   "execution_count": null,
   "id": "8adb7f79",
   "metadata": {},
   "outputs": [],
   "source": []
  },
  {
   "cell_type": "markdown",
   "id": "851acd54",
   "metadata": {},
   "source": [
    "# Sampling Many Polymer Chains\n",
    "\n",
    "\n",
    "## Statistics over Multiple Walks\n",
    "\n",
    "In order to generate statistically significant data, we'd like to sample the behaviour of many polymer chains just like the one above. \n",
    "\n",
    "To do so, we can call multiple times the function that generates a single random-walk-polymer and calculate the average properties over the whole population.\n"
   ]
  },
  {
   "cell_type": "code",
   "execution_count": null,
   "id": "c0897fdb",
   "metadata": {},
   "outputs": [],
   "source": [
    "# Generate random polymers\n",
    "N_polymers = 1000\n",
    "N_monomers = 200\n",
    "\n",
    "# Initialize arrays to store the end-to-end distance and radius of gyration\n",
    "end_to_end_distances = np.zeros(N_polymers)\n",
    "rgs = np.zeros(N_polymers)\n",
    "\n",
    "# Generate the polymers\n",
    "for i in range(N_polymers):\n",
    "    _, end_to_end_distance, rg, = generate_random_walk_3D(N_monomers)\n",
    "    # Save the end to end distances\n",
    "    end_to_end_distances[i] = end_to_end_distance\n",
    "    rgs[i] = rg"
   ]
  },
  {
   "cell_type": "markdown",
   "id": "f594b776",
   "metadata": {},
   "source": [
    "## Probability Density Function\n",
    "\n",
    "We can now compare the calculated end-to-end distance to the theoretically-predicted probability density functions. \n",
    "\n",
    "\n",
    "The theoretical probability density function for the end-to-end distance of a 3-dimensional random walk polymer is\n",
    "\n",
    "$$P(R_{ee}) =  4\\pi R_{ee}^2 \\left(\\frac{2\\pi N}{3}\\right)^{3/2} exp\\left({-\\frac{3R_{ee}^2}{2N}}\\right)$$\n",
    "\n",
    "\n",
    "where $R_{ee}$ is the end-to-end distance and $N$ is the number of monomers."
   ]
  },
  {
   "cell_type": "code",
   "execution_count": null,
   "id": "982295b6",
   "metadata": {},
   "outputs": [],
   "source": [
    "# Plot the histogram\n",
    "plt.hist(end_to_end_distances, bins=50, label=\"End-to-end Distance\")\n",
    "\n",
    "plt.title(f\"{N_polymers} Random Walk Polymers of length {N_monomers} in 3D\")\n",
    "plt.xlabel(\"Distance\")\n",
    "plt.ylabel(\"Frequency\")\n",
    "plt.legend()\n",
    "plt.show()"
   ]
  },
  {
   "cell_type": "markdown",
   "id": "416e5259",
   "metadata": {},
   "source": [
    "In order to compare with probability density functions, we need to normalise the histogram by changing the argument `density`"
   ]
  },
  {
   "cell_type": "code",
   "execution_count": null,
   "id": "eb682d06",
   "metadata": {},
   "outputs": [],
   "source": [
    "# Plot normalised histogram\n",
    "plt.hist(end_to_end_distances, bins=50, density=True, label=r'End-to-end distances')\n",
    "\n",
    "# compare with probability density function\n",
    "r = np.linspace(0,40,1000)\n",
    "\n",
    "Pr = 4.*np.pi*r**2 * (2 * np.pi * N_monomers / 3)**-1.5 * np.exp(-3*r**2 / 2 / N_monomers)\n",
    "plt.plot(r, Pr, lw=4, label=r'Probability Density Function')\n",
    "plt.xlabel(\"Distance\")\n",
    "plt.ylabel(\"Frequency\")\n",
    "plt.legend()\n",
    "plt.show()"
   ]
  },
  {
   "cell_type": "markdown",
   "id": "68f03fab",
   "metadata": {},
   "source": [
    "<div class=\"alert alert-success\"><b> Check your understanding: </b>\n",
    "\n",
    "- What happens if you increase or decrease the parameter `N_monomers`, the polymer length?\n",
    "- What happens if you increase or decrease the parameter `N_polymers`, the number of random flight polymers?\n"
   ]
  },
  {
   "cell_type": "code",
   "execution_count": null,
   "id": "52cb9961",
   "metadata": {},
   "outputs": [],
   "source": []
  },
  {
   "cell_type": "markdown",
   "id": "ed33a2c0",
   "metadata": {},
   "source": [
    "##  End-to-End Distance and Polymer Length\n",
    "\n",
    "\n",
    "We now want to see what happens to the end-to-end distance if we start varying the polymer length.\n",
    "Below, we generate a series of random walk polymers of different length (`N_monomers`). For each, we calculate the average end to end distance $R_{ee}$ over a number of iterations (`N_polymers`)."
   ]
  },
  {
   "cell_type": "code",
   "execution_count": null,
   "id": "457a5ac7",
   "metadata": {},
   "outputs": [],
   "source": [
    "# Generate random polymers with different lengths\n",
    "N_polymers = 10\n",
    "lengths = [10, 100, 500, 1000, 5000, 10000]\n",
    "\n",
    "# Initialize arrays to store the end-to-end distance and radius of gyration\n",
    "end_to_end_distances = np.zeros((len(lengths), N_polymers))\n",
    "rgs = np.zeros((len(lengths), N_polymers))\n",
    "\n",
    "# Generate the polymers\n",
    "for i, length in enumerate(lengths):\n",
    "    for j in range(N_polymers):\n",
    "        _, end_to_end_distance, rg = generate_random_walk_3D(length)\n",
    "        # Store end to end distance\n",
    "        end_to_end_distances[i, j] = end_to_end_distance\n",
    "        rgs[i, j] = rg\n",
    "\n",
    "# Calculate the average end-to-end distance for each polymer length\n",
    "average_end_to_end_distances = np.mean(end_to_end_distances, axis=1)\n",
    "average_rg = np.mean(rgs, axis=1)"
   ]
  },
  {
   "cell_type": "code",
   "execution_count": null,
   "id": "70fb419c",
   "metadata": {},
   "outputs": [],
   "source": [
    "average_end_to_end_distances"
   ]
  },
  {
   "cell_type": "code",
   "execution_count": null,
   "id": "3cd86e9c",
   "metadata": {},
   "outputs": [],
   "source": [
    "average_rg"
   ]
  },
  {
   "cell_type": "markdown",
   "id": "663720b0",
   "metadata": {},
   "source": [
    "We now plot the results:"
   ]
  },
  {
   "cell_type": "code",
   "execution_count": null,
   "id": "1f22ce98",
   "metadata": {},
   "outputs": [],
   "source": [
    "# Plot the results\n",
    "plt.plot(lengths, average_end_to_end_distances,  'o-', label=\"End-to-end distance\")\n",
    "plt.plot(lengths, average_rg,  'o-', label=\"Radius of gyration\")\n",
    "plt.title(f\"Average over {N_polymers} polymers\")\n",
    "plt.legend()\n",
    "plt.show()"
   ]
  },
  {
   "cell_type": "markdown",
   "id": "9349bdf0",
   "metadata": {},
   "source": [
    "<div class=\"alert alert-success\"><b>Check your understanding: </b>\n",
    "    \n",
    "What happens to the plot above if you increase `N_polymers`, that is, the number of random walks used to calculate `average_end_to_end_distances` and `average_rg` ? \n",
    "</div>"
   ]
  },
  {
   "cell_type": "code",
   "execution_count": null,
   "id": "32dabf3a",
   "metadata": {},
   "outputs": [],
   "source": []
  },
  {
   "cell_type": "code",
   "execution_count": null,
   "id": "eec35156",
   "metadata": {},
   "outputs": [],
   "source": []
  },
  {
   "cell_type": "markdown",
   "id": "3e69cab1",
   "metadata": {},
   "source": [
    "We can observe that the end-to-end distance and radius of gyration increase with the increase in polymer length (`N_monomers`), following a trend described in lectures 5-6.\n",
    "\n",
    "<div class=\"alert alert-success\"><b> Task: 2.1 </b>\n",
    "Scaling Laws  \n",
    "\n",
    "- Find the scaling law for the end-to-end distance and radius of gyration of a 3D random walk polymer as a function of the polymer length.\n",
    "- Plot the average end to end distance and end-to-end distance together with the corresponding analytical functions describing their scaling behaviour. Upload your plot(s) to KEATS. \n",
    "</div>"
   ]
  },
  {
   "cell_type": "code",
   "execution_count": null,
   "id": "b0108b7d",
   "metadata": {},
   "outputs": [],
   "source": []
  },
  {
   "cell_type": "code",
   "execution_count": null,
   "id": "964882f0",
   "metadata": {},
   "outputs": [],
   "source": []
  },
  {
   "cell_type": "markdown",
   "id": "fa448b8e",
   "metadata": {},
   "source": [
    "# Self-avoiding polymer chains\n",
    "\n",
    "In  code examples in this notebook, we have not restricted the positions of each monomer with respect to the previous ones. This can lead to some monomers overlapping in space and unphysical results: the random walk model is in fact an oversimplification of a real polymer chain.\n",
    "\n",
    "<img src=\"https://gitlab.kwant-project.org/computational_physics/lectures/-/raw/master/src/figures/polymer-selfavoiding.svg\" width=\"200\"/>\n",
    "\n",
    "\n",
    "Self-avoidance is a complex example of long-range correlations, where the next step of the walk depends on the entire history of the walk. Most of our knowledge about self-avoiding walks comes from computer simulations. \n",
    "\n",
    "The example below describes a self avoiding polymer on a square grid. This representation follows a similar principle as the game of [Snake](https://en.wikipedia.org/wiki/Snake_(video_game_genre) and is quite common in Monte Carlo implementations of self-avoiding polymers, as it allows to reduce the number of \"allowed\" moves.\n"
   ]
  },
  {
   "cell_type": "code",
   "execution_count": null,
   "id": "8b341456",
   "metadata": {},
   "outputs": [],
   "source": [
    "def get_possible_directions(point):\n",
    "    \"\"\"\n",
    "    Returns a list of possible directions for the given point.\n",
    "\n",
    "    Parameters\n",
    "    ----------\n",
    "    point : tuple\n",
    "        The point in the form (x, y, z).\n",
    "\n",
    "    Returns\n",
    "    -------\n",
    "    list\n",
    "        A list of coordinates in the form of (x, y, z) that are the possible directions of the given point.\n",
    "    \"\"\"\n",
    "    x, y, z = point\n",
    "    directions = [\n",
    "    (x+1, y, z),  # right\n",
    "    (x-1, y, z),  # left\n",
    "    (x, y+1, z),  # forward\n",
    "    (x, y-1, z),  # backward\n",
    "    (x, y, z+1),  # up\n",
    "    (x, y, z-1)   # down\n",
    "    ]\n",
    "    return directions\n",
    "\n",
    "def self_avoiding_walk_3D(N):\n",
    "    \"\"\"\n",
    "    Generates a 3D self-avoiding random walk with N steps.\n",
    "\n",
    "    Parameters\n",
    "    ----------\n",
    "    N : int\n",
    "        The number of steps in the self-avoiding random walk.\n",
    "\n",
    "    Returns\n",
    "    -------\n",
    "    positions : array of positions in the self-avoiding random walk.\n",
    "    \"\"\"\n",
    "\n",
    "    Nsteps = range(N)\n",
    "    current_position = np.array([0, 0, 0])\n",
    "    visited_points = []\n",
    "    for _ in Nsteps:\n",
    "        visited_points.append(current_position)\n",
    "        all_directions = get_possible_directions(current_position)\n",
    "        not_visited_directions = [direction for direction in all_directions if np.all(direction != visited_points)]\n",
    "        current_position = random.choice(not_visited_directions)\n",
    "\n",
    "    positions = np.array(visited_points)\n",
    "    return positions\n"
   ]
  },
  {
   "cell_type": "code",
   "execution_count": null,
   "id": "8b7eab66",
   "metadata": {},
   "outputs": [],
   "source": [
    "N= 1000\n",
    "positions = self_avoiding_walk_3D(N)"
   ]
  },
  {
   "cell_type": "code",
   "execution_count": null,
   "id": "3e810fe0",
   "metadata": {},
   "outputs": [],
   "source": [
    "from mpl_toolkits.mplot3d import Axes3D\n",
    "import seaborn as sns\n",
    "# Plot the coordinates of the random walk\n",
    "fig = plt.figure()\n",
    "ax = fig.add_subplot(111, projection='3d')\n",
    "\n",
    "c1, c2 =sns.palettes.color_palette()[1:3] \n",
    "ax.plot(positions[:,0],positions[:,1],positions[:,2],label=\"Self-avoiding Walk\")\n",
    "ax.scatter(positions[0,0],positions[0,1],positions[0,2], color=c1 ,label=\"Start\")\n",
    "ax.scatter(positions[-1,0],positions[-1,1],positions[-1,2], color=c2, label=\"End\")\n",
    "ax.set_title(f\"3D Self-avoiding walk of length {N}\")\n",
    "ax.legend()\n",
    "plt.show()"
   ]
  },
  {
   "cell_type": "markdown",
   "id": "0cd8d434",
   "metadata": {},
   "source": [
    "<div class=\"alert alert-success\"><b> Task 2.2: </b>\n",
    "Self avoiding walk algorithm\n",
    "\n",
    "Write a pseudocode (in the form of a bullet point list) to generate a self-avoiding walk.\n",
    "    \n",
    "</div>"
   ]
  },
  {
   "cell_type": "markdown",
   "id": "89991eca",
   "metadata": {},
   "source": [
    "<div class=\"alert alert-success\"><b> Task 2.3: </b>\n",
    "Self avoiding walk function\n",
    "\n",
    "\n",
    "Comment each line of the function `self_avoiding_walk_3D`.\n",
    "    \n",
    "</div>"
   ]
  },
  {
   "cell_type": "markdown",
   "id": "7b561fe2",
   "metadata": {},
   "source": [
    "<div class=\"alert alert-block alert-info\">\n",
    "<b> Key points:</b>\n",
    "    \n",
    "- Polymer behaviour is complex; here we have adopted some very crude approximations to describe \"ideal\" polymers\n",
    "- Random walks are suitable to describe brownian motion, ideal polymer chains, and other important physical/chemical phenomena.\n",
    "    \n",
    "- Monte Carlo simulations can provide a computational shortcut to describe complex phenomena where analytical solutions are hard (or not known)\n",
    "    \n",
    "    \n",
    "</div>"
   ]
  },
  {
   "cell_type": "markdown",
   "id": "28878a6b",
   "metadata": {},
   "source": [
    "<img src=\"https://i.ytimg.com/vi/P4LhWSN3YSw/maxresdefault.jpg\" width=600>"
   ]
  },
  {
   "cell_type": "code",
   "execution_count": null,
   "id": "b47ab32d",
   "metadata": {},
   "outputs": [],
   "source": []
  }
 ],
 "metadata": {
  "kernelspec": {
   "display_name": "Python 3 (ipykernel)",
   "language": "python",
   "name": "python3"
  },
  "language_info": {
   "codemirror_mode": {
    "name": "ipython",
    "version": 3
   },
   "file_extension": ".py",
   "mimetype": "text/x-python",
   "name": "python",
   "nbconvert_exporter": "python",
   "pygments_lexer": "ipython3",
   "version": "3.10.8"
  },
  "toc": {
   "base_numbering": 1,
   "nav_menu": {},
   "number_sections": true,
   "sideBar": true,
   "skip_h1_title": true,
   "title_cell": "Table of Contents",
   "title_sidebar": "Contents",
   "toc_cell": false,
   "toc_position": {
    "height": "calc(100% - 180px)",
    "left": "10px",
    "top": "150px",
    "width": "307.1875px"
   },
   "toc_section_display": true,
   "toc_window_display": true
  }
 },
 "nbformat": 4,
 "nbformat_minor": 5
}
